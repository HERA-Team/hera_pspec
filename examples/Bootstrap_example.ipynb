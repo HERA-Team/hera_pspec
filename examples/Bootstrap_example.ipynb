{
 "cells": [
  {
   "cell_type": "markdown",
   "metadata": {},
   "source": [
    "# Bootstrap sampling over baseline pairs\n",
    "This example shows how to estimate bootstrap errorbars for an average 1D delay power spectrum."
   ]
  },
  {
   "cell_type": "code",
   "execution_count": 1,
   "metadata": {},
   "outputs": [],
   "source": [
    "%matplotlib inline\n",
    "from pyuvdata import UVData, uvutils\n",
    "import hera_pspec as hp\n",
    "from hera_cal import redcal\n",
    "import numpy as np\n",
    "import matplotlib.pyplot as plt"
   ]
  },
  {
   "cell_type": "markdown",
   "metadata": {},
   "source": [
    "## Loading data and generating power spectra\n",
    "We will begin by loading 'even' and 'odd' data files and using those to create delay power spectra for a set of redundant baseline pairs. We only do this for one polarization ('xx'), and a couple of spectral windows."
   ]
  },
  {
   "cell_type": "code",
   "execution_count": 2,
   "metadata": {},
   "outputs": [
    {
     "name": "stdout",
     "output_type": "stream",
     "text": [
      "Available baselines: 55\n",
      "[(37, 37), (37, 38), (37, 39), (37, 51), (37, 52), (37, 53), (37, 54), (37, 67), (37, 68), (37, 69), (38, 38), (38, 39), (38, 51), (38, 52), (38, 53), (38, 54), (38, 67), (38, 68), (38, 69), (39, 39), (39, 51), (39, 52), (39, 53), (39, 54), (39, 67), (39, 68), (39, 69), (51, 51), (51, 52), (51, 53), (51, 54), (51, 67), (51, 68), (51, 69), (52, 52), (52, 53), (52, 54), (52, 67), (52, 68), (52, 69), (53, 53), (53, 54), (53, 67), (53, 68), (53, 69), (54, 54), (54, 67), (54, 68), (54, 69), (67, 67), (67, 68), (67, 69), (68, 68), (68, 69), (69, 69)]\n"
     ]
    }
   ],
   "source": [
    "# Select even and odd data files to load\n",
    "dfiles = ['../hera_pspec/data/zen.even.xx.LST.1.28828.uvOCRSA',\n",
    "          '../hera_pspec/data/zen.odd.xx.LST.1.28828.uvOCRSA']\n",
    "\n",
    "# Load into UVData objects\n",
    "uvd_even, uvd_odd = UVData(), UVData()\n",
    "uvd_even.read_miriad(dfiles[0])\n",
    "uvd_odd.read_miriad(dfiles[1])\n",
    "\n",
    "# Check which baselines are available\n",
    "print(\"Available baselines:\", len(uvd_even.get_antpairs()))\n",
    "print(uvd_even.get_antpairs())"
   ]
  },
  {
   "cell_type": "code",
   "execution_count": 3,
   "metadata": {},
   "outputs": [],
   "source": [
    "# Instantiate cosmology and beam\n",
    "cosmo = hp.conversions.Cosmo_Conversions()\n",
    "beamfile = '../hera_pspec/data/HERA_NF_dipole_power.beamfits'\n",
    "uvb = hp.pspecbeam.PSpecBeamUV(beamfile, cosmo=cosmo)"
   ]
  },
  {
   "cell_type": "code",
   "execution_count": 4,
   "metadata": {},
   "outputs": [],
   "source": [
    "# Create a new PSpecData object\n",
    "ds = hp.PSpecData(dsets=[uvd_even, uvd_odd], wgts=[None, None], beam=uvb)\n",
    "\n",
    "# Phase to the first ('even') dataset\n",
    "ds.rephase_to_dset(0)"
   ]
  },
  {
   "cell_type": "markdown",
   "metadata": {},
   "source": [
    "Now the data have been loaded into a `PSpecData` object, we can define the redundant baseline group that we want to bootstrap over and generate a full set of power spectra for all baseline-pairs within that group."
   ]
  },
  {
   "cell_type": "code",
   "execution_count": 5,
   "metadata": {},
   "outputs": [
    {
     "name": "stdout",
     "output_type": "stream",
     "text": [
      "0 [(37, 51), (38, 52), (39, 53), (52, 67), (53, 68), (54, 69)]\n",
      "1 [(37, 52), (38, 53), (39, 54), (51, 67), (52, 68), (53, 69)]\n",
      "2 [(37, 38), (38, 39), (51, 52), (52, 53), (53, 54), (67, 68), (68, 69)]\n",
      "3 [(37, 67), (38, 68), (39, 69)]\n",
      "4 [(38, 51), (39, 52), (53, 67), (54, 68)]\n",
      "5 [(37, 53), (38, 54), (51, 68), (52, 69)]\n",
      "6 [(37, 39), (51, 53), (52, 54), (67, 69)]\n",
      "7 [(38, 67), (39, 68)]\n",
      "8 [(37, 68), (38, 69)]\n",
      "9 [(37, 54), (51, 69)]\n",
      "10 [(39, 67)]\n",
      "11 [(37, 69)]\n",
      "12 [(39, 51), (54, 67)]\n",
      "13 [(51, 54)]\n"
     ]
    }
   ],
   "source": [
    "# Get list of redundant baseline groups\n",
    "antpos, ants = ds.dsets[0].get_ENU_antpos(pick_data_ants=True)\n",
    "antpos = dict(zip(ants, antpos))\n",
    "red_bls = redcal.get_pos_reds(antpos, bl_error_tol=1.0)\n",
    "\n",
    "# Print members of each redundant baseline group\n",
    "for i, redgrp in enumerate(red_bls):\n",
    "    print(i, redgrp)"
   ]
  },
  {
   "cell_type": "code",
   "execution_count": 6,
   "metadata": {},
   "outputs": [
    {
     "name": "stdout",
     "output_type": "stream",
     "text": [
      "((37, 51), (38, 52))\n",
      "((37, 51), (39, 53))\n",
      "((37, 51), (52, 67))\n",
      "((37, 51), (53, 68))\n",
      "((37, 51), (54, 69))\n",
      "((38, 52), (39, 53))\n",
      "((38, 52), (52, 67))\n",
      "((38, 52), (53, 68))\n",
      "((38, 52), (54, 69))\n",
      "((39, 53), (52, 67))\n",
      "((39, 53), (53, 68))\n",
      "((39, 53), (54, 69))\n",
      "((52, 67), (53, 68))\n",
      "((52, 67), (54, 69))\n",
      "((53, 68), (54, 69))\n"
     ]
    }
   ],
   "source": [
    "# Select which spectral windows to use\n",
    "spws = hp.utils.spw_range_from_freqs(uvd_odd, freq_range=[(160e6, 165e6), (165e6, 170e6)], bounds_error=True)\n",
    "\n",
    "# Build a list of baseline pairs to calculate power spectra for\n",
    "# All valid baseline pairs from the first redundant baseline group will be included\n",
    "bls1, bls2, blpairs = hp.utils.construct_blpairs(red_bls[0], exclude_auto_bls=True, exclude_permutations=True)\n",
    "for blp in blpairs:\n",
    "    print(blp)"
   ]
  },
  {
   "cell_type": "code",
   "execution_count": 7,
   "metadata": {
    "scrolled": false
   },
   "outputs": [],
   "source": [
    "# Calculate power spectra for these baseline pairs, for both spectral windows defined above\n",
    "uvp = ds.pspec(bls1, bls2, (0, 1), [('xx', 'xx')], spw_ranges=spws, input_data_weight='identity',\n",
    "               norm='I', taper='blackman-harris', verbose=False)"
   ]
  },
  {
   "cell_type": "markdown",
   "metadata": {},
   "source": [
    "## Average power spectrum\n",
    "Now, we will calculate the average of the power spectra that were just calculated. The average is taken over (redundant) baseline-pairs and times.\n",
    "\n",
    "Note that `blpair_groups` should be a list of lists (where each list contains the set of baseline pairs that should be averaged together)."
   ]
  },
  {
   "cell_type": "code",
   "execution_count": 8,
   "metadata": {},
   "outputs": [],
   "source": [
    "blpairs = sorted(blpairs) # It's useful to keep these sorted\n",
    "uvp_avg = uvp.average_spectra(blpair_groups=[blpairs,], time_avg=True, inplace=False)"
   ]
  },
  {
   "cell_type": "markdown",
   "metadata": {},
   "source": [
    "The averaged power spectra are output to a new `UVPSpec` object. For each group of baseline-pairs that were averaged together, the average is assigned to the first baseline-pair in the group. (Other baseline-pairs from the group are not present in the averaged `UVPSpec` object.)"
   ]
  },
  {
   "cell_type": "code",
   "execution_count": 9,
   "metadata": {},
   "outputs": [
    {
     "name": "stdout",
     "output_type": "stream",
     "text": [
      "[137151138152]\n",
      "((37, 51), (38, 52))\n"
     ]
    }
   ],
   "source": [
    "# Show which baseline-pairs are available in the averaged UVPSpec object\n",
    "# (Only one should be available, corresponding to the first blpair in the group)\n",
    "print(uvp_avg.blpair_array)\n",
    "print(uvp_avg.blpair_to_antnums(uvp_avg.blpair_array[0]))"
   ]
  },
  {
   "cell_type": "code",
   "execution_count": 10,
   "metadata": {},
   "outputs": [
    {
     "name": "stdout",
     "output_type": "stream",
     "text": [
      "(1, 50)\n"
     ]
    }
   ],
   "source": [
    "# To get the averaged power spectrum, we have to get the data for this baseline-pair\n",
    "key = (0, uvp_avg.blpair_array[0], ('xx','xx')) # key = (spw, blpair, polpair)\n",
    "ps_avg = uvp_avg.get_data(key)\n",
    "print(ps_avg.shape)"
   ]
  },
  {
   "cell_type": "markdown",
   "metadata": {},
   "source": [
    "## Bootstrap-sampled average power spectrum\n",
    "Now let's create a bootstrap realization of the average power spectrum. This is constructed by randomly selecting which baseline pairs contribute to the average.\n",
    "\n",
    "The baseline pairs are sampled with replacement, so a given baseline pair can contribute multiple times for example, while others might not contribute at all in a given realization. Each realization of the average will be constructed from the same number of baseline-pairs as the normal average above though; it's just that some baseline-pairs might be repeated (or excluded).\n",
    "\n",
    "The aim of this is to generate many bootstrap samples of the averaged power spectrum. The variance of these bootstrap samples can then be used to estimate the errors on the average power spectrum.\n",
    "\n",
    "The following code generates a single bootstrap realization of the averaged power spectrum:"
   ]
  },
  {
   "cell_type": "code",
   "execution_count": 11,
   "metadata": {},
   "outputs": [
    {
     "name": "stdout",
     "output_type": "stream",
     "text": [
      "1\n",
      "[137151138152]\n"
     ]
    }
   ],
   "source": [
    "# Set the random seed\n",
    "np.random.seed(10)\n",
    "\n",
    "# Generate a bootstrap sample of the averaged power spectrum\n",
    "uvp_boot_list, boot_wgts = hp.grouping.bootstrap_average_blpairs(uvp_list=[uvp,], blpair_groups=[blpairs,], \n",
    "                                                                 time_avg=True)\n",
    "\n",
    "# uvp_boot_list is a list of UVPSpec objects with the same length as the input list (uvp_list)\n",
    "print(len(uvp_boot_list))\n",
    "print(uvp_boot_list[0].blpair_array)"
   ]
  },
  {
   "cell_type": "markdown",
   "metadata": {},
   "source": [
    "Each `UVPSpec` in `uvp_boot_list` contains the averaged version of the corresponding `UVPSpec` object in the input list `uvp_list`. Each of these objects is averaged over a bootstrap realization of baseline-pairs.\n",
    "\n",
    "The bootstrap sampling is done over all available blpairs in the specified `blpair_group` from all available `UVPSpec` objects though. So, each averaged power spectrum in the list may have been produced from a different number of blpairs each time. (The total number of blpairs used in the averages across all `UVPSpec` objects will be the same each time though.)\n",
    "\n",
    "In this example, we only input one `UVPSpec` object, so the output list only contains a single `UVPSpec` object that contains the full bootstrap-sampled average of the power spectrum.\n",
    "\n",
    "We can see which baseline-pairs contributed to this realization by inspecting the `boot_wgts` list. For each `UVPSpec` object in `uvp_boot_list`, this contains the weights that were used for each baseline-pair in each group."
   ]
  },
  {
   "cell_type": "code",
   "execution_count": 12,
   "metadata": {},
   "outputs": [
    {
     "name": "stdout",
     "output_type": "stream",
     "text": [
      "blpair ((37, 51), (38, 52)), weight: 2\n",
      "blpair ((37, 51), (39, 53)), weight: 2\n",
      "blpair ((37, 51), (52, 67)), weight: 0\n",
      "blpair ((37, 51), (53, 68)), weight: 0\n",
      "blpair ((37, 51), (54, 69)), weight: 1\n",
      "blpair ((38, 52), (39, 53)), weight: 0\n",
      "blpair ((38, 52), (52, 67)), weight: 0\n",
      "blpair ((38, 52), (53, 68)), weight: 0\n",
      "blpair ((38, 52), (54, 69)), weight: 1\n",
      "blpair ((39, 53), (52, 67)), weight: 3\n",
      "blpair ((39, 53), (53, 68)), weight: 1\n",
      "blpair ((39, 53), (54, 69)), weight: 1\n",
      "blpair ((52, 67), (53, 68)), weight: 1\n",
      "blpair ((52, 67), (54, 69)), weight: 3\n",
      "blpair ((53, 68), (54, 69)), weight: 0\n",
      "------------------------------\n",
      "Sum of weights: 15\n",
      "No. of available blpairs: 15\n"
     ]
    }
   ],
   "source": [
    "# Print the weights for the first blpair group from the first input UVPSpec object\n",
    "wgts = boot_wgts[0][0]\n",
    "blps = blpairs # From the first blpair group only\n",
    "for i, w in enumerate(wgts):\n",
    "    print(\"blpair %s, weight: %d\" % (blpairs[i], w))\n",
    "\n",
    "print(\"-\"*30)\n",
    "print(\"Sum of weights: %d\" % np.sum(wgts))\n",
    "print(\"No. of available blpairs: %d\" % len(blpairs))"
   ]
  },
  {
   "cell_type": "markdown",
   "metadata": {},
   "source": [
    "As before, we can get the average power spectrum from the `UVPSpec` object by fetching the data from the first blpair in the group:"
   ]
  },
  {
   "cell_type": "code",
   "execution_count": 13,
   "metadata": {},
   "outputs": [
    {
     "name": "stdout",
     "output_type": "stream",
     "text": [
      "(1, 50)\n"
     ]
    }
   ],
   "source": [
    "key = (0, uvp_boot_list[0].blpair_array[0], ('xx','xx')) # key = (spw, blpair, polpair)\n",
    "_ps = uvp_boot_list[0].get_data(key)\n",
    "print(_ps.shape)"
   ]
  },
  {
   "cell_type": "markdown",
   "metadata": {},
   "source": [
    "## Estimating error bars from multiple bootstrap realizations\n",
    "Now we can generate a large number of bootstrap samples of the averaged power spectrum. The standard deviation of this set of power spectra then gives us an estimate of the error bars on the averaged power spectrum."
   ]
  },
  {
   "cell_type": "code",
   "execution_count": 14,
   "metadata": {},
   "outputs": [
    {
     "name": "stdout",
     "output_type": "stream",
     "text": [
      "(100, 50)\n",
      "(50,)\n"
     ]
    }
   ],
   "source": [
    "np.random.seed(10) # Set random seed again\n",
    "\n",
    "# Generate 100 bootstrap realizations\n",
    "pspec_boots = []\n",
    "for i in range(100):\n",
    "    uvpboots, _wgts = hp.grouping.bootstrap_average_blpairs([uvp,], [blpairs,], time_avg=True)\n",
    "    uvpboot = uvpboots[0]\n",
    "    \n",
    "    # Extract 1D delay spectrum for this realization\n",
    "    key = (0, uvpboot.blpair_array[0], 'xx')\n",
    "    pspec_boots.append( uvpboot.get_data(key).flatten() )\n",
    "\n",
    "# Print shape of array\n",
    "pspec_boots = np.array(pspec_boots)\n",
    "print(pspec_boots.shape)\n",
    "    \n",
    "# Calculate std deviation\n",
    "ps_std = np.abs(np.std(pspec_boots, axis=0).real)\n",
    "print(ps_std.shape)"
   ]
  },
  {
   "cell_type": "markdown",
   "metadata": {},
   "source": [
    "Now we have the average of the power spectrum and a bootstrap estimate of the error bars. Let's plot to see what this looks like:"
   ]
  },
  {
   "cell_type": "code",
   "execution_count": 15,
   "metadata": {},
   "outputs": [
    {
     "data": {
      "image/png": "[encoded data removed]",
      "text/plain": [
       "<Figure size 864x576 with 1 Axes>"
      ]
     },
     "metadata": {
      "needs_background": "light"
     },
     "output_type": "display_data"
    }
   ],
   "source": [
    "# Plot results\n",
    "fig, ax = plt.subplots(figsize=(12,8))\n",
    "\n",
    "# Get delays from the regular averaged UVPSpec object (they should all be the same)\n",
    "dlys = uvp_avg.get_dlys(0) * 1e9 # Get delays [in ns] for spectral window 0\n",
    "\n",
    "# Plot average power spectrum, plus bootstrap errorbars\n",
    "ax.errorbar(dlys, np.abs(ps_avg.real).flatten(), yerr=ps_std, lw=1.8)\n",
    "ax.set_yscale('log')"
   ]
  },
  {
   "cell_type": "code",
   "execution_count": null,
   "metadata": {},
   "outputs": [],
   "source": []
  }
 ],
 "metadata": {
  "kernelspec": {
   "display_name": "Python 3",
   "language": "python",
   "name": "python3"
  },
  "language_info": {
   "codemirror_mode": {
    "name": "ipython",
    "version": 3
   },
   "file_extension": ".py",
   "mimetype": "text/x-python",
   "name": "python",
   "nbconvert_exporter": "python",
   "pygments_lexer": "ipython3",
   "version": "3.7.3"
  }
 },
 "nbformat": 4,
 "nbformat_minor": 2
}
