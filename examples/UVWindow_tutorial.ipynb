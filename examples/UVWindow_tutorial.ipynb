{
 "cells": [
  {
   "cell_type": "markdown",
   "metadata": {},
   "source": [
    "# Tutorial notebook for the UVWindow module"
   ]
  },
  {
   "cell_type": "markdown",
   "metadata": {},
   "source": [
    "In this notebook, we present how to use the `UVWindow` module, which provides routines to compute exact window functions for a given set of baseline lengths, with relative weights, on a given frequency range."
   ]
  },
  {
   "cell_type": "markdown",
   "metadata": {},
   "source": [
    "The theoretical background detailling the definition and computation of these window functions can be found in a memo. We only give a short summary here."
   ]
  },
  {
   "cell_type": "markdown",
   "metadata": {},
   "source": [
    "There are two classes included in the `uvwindow.py` script.\n",
    "* `FTBeam`, which is used to compute and access the Fourier transform of the flat-sky approximation of the HERA beam for a given range of frequencies and a given polarisation. It is used internally by `UVWindow`. For now, its value is read from files but a computation from scratch will soon be supported.\n",
    "* `UVWindow`, which computes the exact window functions given a set of baseline lengths, a pair of polarisations, and a spectral window."
   ]
  },
  {
   "cell_type": "markdown",
   "metadata": {},
   "source": [
    "The \"Fourier transform of the beam\" corresponds to, for $A(\\theta,\\nu)$ the HERA beam at angular direction $\\theta$ and frequency $\\nu$, for a given polarisation:\n",
    "\\begin{equation} \n",
    "\\tilde{A}(\\mathbf{q}_\\perp,\\nu) =  \\int \\mathrm{d}^2 \\theta~ A(\\mathbf{\\theta,\\nu}) ~\\mathrm{e}^{-2i\\pi \\mathbf{\\theta} \\cdot \\mathbf{q}_\\perp}\n",
    "\\end{equation}\n",
    "where the Fourier dual of $\\theta$ is\n",
    "\\begin{equation}\n",
    "\\mathbf{q}_\\perp \\equiv\\frac{\\nu}{c}\\mathbf{b}- \\frac{d_c(z)}{2\\pi }  \\mathbf{k_\\perp},\n",
    "\\end{equation}\n",
    "for $\\mathbf{b}$ the baseline length, and $d_c(z)$ the comoving distance to redshift $z(\\nu)$."
   ]
  },
  {
   "cell_type": "markdown",
   "metadata": {},
   "source": [
    "The cylindrical window fuctions obtained with the module are arrays giving the mapping between instrument space $(b,\\tau)$ and cosmological space $(k_\\perp,k_\\parallel)$. They can be spherically averaged to obtain the spherical window functions.\n",
    "\n",
    "Then each estimated bandpower $\\hat{P}$ at a given $(b,\\tau)$ is an integral of the true, cosmological, power spectrum, with the window functions as weights:\n",
    "\\begin{equation}\n",
    "\\hat{P}(b,\\tau)=\\int \\mathrm{d}k_\\parallel~\\mathrm{d}k_\\perp~W(b,\\tau,k_\\perp,k_\\parallel) P(k_\\perp,k_\\parallel).\n",
    "\\end{equation}"
   ]
  },
  {
   "cell_type": "markdown",
   "metadata": {},
   "source": [
    "## Setting up the environment"
   ]
  },
  {
   "cell_type": "markdown",
   "metadata": {},
   "source": [
    "Import necessary modules"
   ]
  },
  {
   "cell_type": "code",
   "execution_count": 1,
   "metadata": {},
   "outputs": [],
   "source": [
    "from pyuvdata import UVData, UVBeam\n",
    "from pyuvdata import  utils as uvutils\n",
    "import hera_pspec as hp\n",
    "from hera_pspec.data import DATA_PATH\n",
    "from hera_cal import redcal\n",
    "from  hera_pspec import utils\n",
    "from hera_pspec import uvpspec_utils as uvputils"
   ]
  },
  {
   "cell_type": "code",
   "execution_count": 2,
   "metadata": {},
   "outputs": [],
   "source": [
    "from astropy.io import fits\n",
    "from astropy import units\n",
    "from scipy.interpolate import interp2d, interp1d\n",
    "from scipy import integrate\n",
    "import sys, matplotlib, os, h5py\n",
    "import numpy as np\n",
    "from itertools import product, combinations\n",
    "from astropy import units\n",
    "from multiprocessing import Pool\n",
    "import time, h5py\n",
    "import matplotlib.pyplot as plt\n",
    "from matplotlib import colors, cm\n",
    "%matplotlib inline"
   ]
  },
  {
   "cell_type": "code",
   "execution_count": 3,
   "metadata": {},
   "outputs": [],
   "source": [
    "from hera_pspec import UVWindow, FTBeam"
   ]
  },
  {
   "cell_type": "code",
   "execution_count": 4,
   "metadata": {},
   "outputs": [],
   "source": [
    "%load_ext autoreload\n",
    "%autoreload 2"
   ]
  },
  {
   "cell_type": "markdown",
   "metadata": {},
   "source": [
    "Define global parameters"
   ]
  },
  {
   "cell_type": "code",
   "execution_count": 5,
   "metadata": {},
   "outputs": [],
   "source": [
    "cosmo = hp.conversions.Cosmo_Conversions()\n",
    "little_h = True"
   ]
  },
  {
   "cell_type": "code",
   "execution_count": 6,
   "metadata": {},
   "outputs": [],
   "source": [
    "# Data files to use in tests\n",
    "folder = '/lustre/aoc/projects/hera/agorce/wf_hera/'\n",
    "dfile = folder+'HERA_v2.uvh5'\n",
    "ftfile = folder+'delay_wf/FT_beam_HERA_dipole_yy.hdf5'\n",
    "base_ftfile = folder+'delay_wf/FT_beam_HERA_dipole'\n",
    "outfile = 'test.hdf5'"
   ]
  },
  {
   "cell_type": "markdown",
   "metadata": {},
   "source": [
    "Define the bins used for the spherical window functions. They must be an `astropy` quantity with appropriate units."
   ]
  },
  {
   "cell_type": "code",
   "execution_count": 7,
   "metadata": {},
   "outputs": [],
   "source": [
    "# Spherical Binning Parameters\n",
    "k_start_multiplied = .75 # the center of first spherical k bin in units of Delta k\n",
    "dk = 0.046\n",
    "kbins = np.arange(k_start_multiplied * dk, 2.5, dk) # even spacing \n",
    "nbinsk = kbins.size\n",
    "kbin_edges = np.arange(kbins.min()-dk/2,kbins.max()+dk,step=dk)\n",
    "kbins *= units.h / units.Mpc"
   ]
  },
  {
   "cell_type": "markdown",
   "metadata": {},
   "source": [
    "Let us extract baseline lengths from a data file. We will then compute window functions for these baselines."
   ]
  },
  {
   "cell_type": "code",
   "execution_count": 8,
   "metadata": {},
   "outputs": [],
   "source": [
    "uvd = UVData()\n",
    "uvd.read_uvh5(dfile, read_data=False)"
   ]
  },
  {
   "cell_type": "code",
   "execution_count": 9,
   "metadata": {},
   "outputs": [],
   "source": [
    "reds, lens, angs = utils.get_reds(uvd,bl_error_tol=1.0,pick_data_ants=False)"
   ]
  },
  {
   "cell_type": "markdown",
   "metadata": {},
   "source": [
    "Choose baseline groups used to comput the window functions."
   ]
  },
  {
   "cell_type": "code",
   "execution_count": 10,
   "metadata": {},
   "outputs": [
    {
     "name": "stdout",
     "output_type": "stream",
     "text": [
      "[14.605287651600797, 38.651375604107194, 50.61035358581802, 63.67930178890329, 66.94147018901626, 77.29908245579671, 87.64817185719117, 91.22884839187219, 95.79107914972985, 102.25757190969506, 110.2923953717931, 115.95800845253737, 124.8193645853515]\n"
     ]
    }
   ],
   "source": [
    "bl_lens = lens[::10]\n",
    "print(bl_lens)"
   ]
  },
  {
   "cell_type": "markdown",
   "metadata": {},
   "source": [
    "## Compute the window functions: Basic usage"
   ]
  },
  {
   "cell_type": "markdown",
   "metadata": {},
   "source": [
    "The derivation of the window function relies on Fourier transforms performed on the beam of the instrument. The spatial Fourier transforms of the flat-sky-approximated beam have been pre-computed and an example file (called `ftfile` below) is available in `hera_pspec/data/`. This file corresponds to the beam for the `xx` polarisation and a reduced spectral window to save disk space."
   ]
  },
  {
   "cell_type": "code",
   "execution_count": 11,
   "metadata": {},
   "outputs": [],
   "source": [
    "spw_range = (176, 340)\n",
    "pol = 'yy'"
   ]
  },
  {
   "cell_type": "markdown",
   "metadata": {},
   "source": [
    "### 1. Initialise  `FTBeam` object"
   ]
  },
  {
   "cell_type": "markdown",
   "metadata": {},
   "source": [
    "The `FTBeam` object takes several different inputs:\n",
    "* A 3D array `data` containing the real part of the Fourier transform of the beam in the sky plane (flat-sky approximation), for a set of frequencies given by `freq_array`.\n",
    "* A polarisation channel (e.g., 'xx', can also be a polarisation integer).\n",
    "* The spectral window `freq_array` corresponding to `data`, given as a list (or 1d array) of frequencies in Hz.\n",
    "* The parameter `mapsize`, corresponding to the size of the flat map the beam was projected onto (in deg)\n",
    "* The orientation in cardinal direction east or north of X dipole, given in `x_orientation`.\n",
    "\n",
    "The inputs (esp. `data` and `freq_array`) should be chosen with respect to the window functions that the user want to compute, as the `FTBeam` object will be fed directly to the `UVWindow` object to initialise it.\n",
    "\n",
    "It is usually easier to initialise the `FTBeam` object through the class methods `from_beam` and `from_file` as illustrated below."
   ]
  },
  {
   "cell_type": "markdown",
   "metadata": {},
   "source": [
    "#### 1.1 Initialise from file"
   ]
  },
  {
   "cell_type": "markdown",
   "metadata": {},
   "source": [
    "The `FTBeam.from_file` method reads a h5py file containing the real part of the Fourier transform of the beam in the sky plane to initialise a `FTBeam` object with the appropriate properties. It must be fed:\n",
    "* `ftfile`, the path to the file constraining to the Fourier transform of the beam on the sky plane, including the polarisation (e.g., path/to/file/ft_beam_HERA_dipole_pI.hdf5)\n",
    "* `spw_range` as a tuple of the indices of the minimum and maximum frequencies used to compute the FT above. The indices are tken over the total instrument bandwidth. If `None`, the whole instrument bandwidth is considered.\n",
    "* The orientation in cardinal direction east or north of X dipole, given in `x_orientation`."
   ]
  },
  {
   "cell_type": "code",
   "execution_count": 12,
   "metadata": {},
   "outputs": [],
   "source": [
    "ftbeam = FTBeam.from_file(ftfile=ftfile, spw_range=spw_range, x_orientation=uvd.x_orientation)"
   ]
  },
  {
   "cell_type": "markdown",
   "metadata": {},
   "source": [
    "#### 1.2 Initialise from beam"
   ]
  },
  {
   "cell_type": "markdown",
   "metadata": {},
   "source": [
    "The `FTBeam.from_beam` function is not implemented yet, and will raise a `NotImplementedError` if you try to call it. In the future, it will directly derive the Fourier transform of the beam in the sky plane, given path to file containing beam simulations for a given polarisation."
   ]
  },
  {
   "cell_type": "markdown",
   "metadata": {},
   "source": [
    "### 2. Initialise  UVWindow object"
   ]
  },
  {
   "cell_type": "markdown",
   "metadata": {},
   "source": [
    "Most of the `UVWindow` object's attributes are initialised through the `FTBeam` object given as input (e.g., `pols`, `freq_array1`, ...). The `ftbeam_obj` can be either an individual object (then the window functions are computed for the auto-correlation of the polarisation of the object) or a list/tuple/array of two `FTbeam` objects that will be cross-correlated in the computation (see Memo).\n",
    "\n",
    "To initialise the `UVWindow` object, you can give additional (optional) inputs related to the computation of the window functions:\n",
    "* A `taper` used to smooth the data along the spectral window. Ex: 'blackman-harris'.\n",
    "* A `conversions.Cosmo_Conversions` object for cosmological calculations.\n",
    "* The boolean `little_h` which indicates if $k$ units include $h$ or not."
   ]
  },
  {
   "cell_type": "code",
   "execution_count": 13,
   "metadata": {},
   "outputs": [],
   "source": [
    "uvw = UVWindow(ftbeam_obj = ftbeam,\n",
    "               taper = 'blackman-harris',\n",
    "               cosmo=cosmo,\n",
    "               little_h=little_h,\n",
    "               verbose=True)"
   ]
  },
  {
   "cell_type": "code",
   "execution_count": 14,
   "metadata": {
    "scrolled": true
   },
   "outputs": [
    {
     "data": {
      "text/plain": [
       "True"
      ]
     },
     "execution_count": 14,
     "metadata": {},
     "output_type": "execute_result"
    }
   ],
   "source": [
    "np.all(uvw.freq_array==ftbeam.freq_array)"
   ]
  },
  {
   "cell_type": "code",
   "execution_count": 15,
   "metadata": {},
   "outputs": [
    {
     "data": {
      "text/plain": [
       "('yy', 'yy')"
      ]
     },
     "execution_count": 15,
     "metadata": {},
     "output_type": "execute_result"
    }
   ],
   "source": [
    "uvw.ftbeam_obj_pol[0].pol, uvw.pols[0]"
   ]
  },
  {
   "cell_type": "markdown",
   "metadata": {},
   "source": [
    "Within the `UVWindow` object, the input `FTBeam` objects are saved in a list (one element for each polarisation):"
   ]
  },
  {
   "cell_type": "code",
   "execution_count": 16,
   "metadata": {},
   "outputs": [
    {
     "data": {
      "text/plain": [
       "[<hera_pspec.uvwindow.FTBeam at 0x7f4c95223990>,\n",
       " <hera_pspec.uvwindow.FTBeam at 0x7f4c95223990>]"
      ]
     },
     "execution_count": 16,
     "metadata": {},
     "output_type": "execute_result"
    }
   ],
   "source": [
    "uvw.ftbeam_obj_pol"
   ]
  },
  {
   "cell_type": "markdown",
   "metadata": {},
   "source": [
    "The `UVWindow` object has useful attributes, such as the average frequency (in Hz) and redshift over the spectral window considered:"
   ]
  },
  {
   "cell_type": "code",
   "execution_count": 17,
   "metadata": {},
   "outputs": [
    {
     "data": {
      "text/plain": [
       "(10.349945290862271, 125146484.375)"
      ]
     },
     "execution_count": 17,
     "metadata": {},
     "output_type": "execute_result"
    }
   ],
   "source": [
    "uvw.avg_z, uvw.avg_nu"
   ]
  },
  {
   "cell_type": "markdown",
   "metadata": {},
   "source": [
    "If `little_h=True`, then the attribute `uvw.kunits` includes $h$:"
   ]
  },
  {
   "cell_type": "code",
   "execution_count": 18,
   "metadata": {},
   "outputs": [
    {
     "data": {
      "text/latex": [
       "$\\mathrm{\\frac{h}{Mpc}}$"
      ],
      "text/plain": [
       "Unit(\"h / Mpc\")"
      ]
     },
     "execution_count": 18,
     "metadata": {},
     "output_type": "execute_result"
    }
   ],
   "source": [
    "uvw.kunits"
   ]
  },
  {
   "cell_type": "markdown",
   "metadata": {},
   "source": [
    "### 3. Compute spherical window functions"
   ]
  },
  {
   "cell_type": "markdown",
   "metadata": {},
   "source": [
    "We use the `get_spherical_wf` to directly access the spherically-averaged window functions, for a given set of baseline lengths. The function uses different inputs:\n",
    "* The set of spherical $k$-bins to use, as an `astropy` quantity with units.\n",
    "* A list of baseline lengths `bl_lens`, with, as an option, a list of associated weights (`bl_weights`)\n",
    "* Lists of $k_\\perp$ and $k_\\parallel$ values, which will be used to grid the cylindrical window functions (see below)\n",
    "* An option to return how many (baseline, delay) pairs were averaged to obtain each spherical $k$-bin value (`return_weights=True`)"
   ]
  },
  {
   "cell_type": "code",
   "execution_count": 19,
   "metadata": {},
   "outputs": [
    {
     "name": "stderr",
     "output_type": "stream",
     "text": [
      "Max spherical k probed is not included in bins.\n"
     ]
    },
    {
     "name": "stdout",
     "output_type": "stream",
     "text": [
      "Computing for blg 13 of 13... \n",
      "Computed wf in 304.1 secs\n"
     ]
    }
   ],
   "source": [
    "t0 = time.time()\n",
    "sph_wf = uvw.get_spherical_wf(kbins,\n",
    "                              bl_lens = bl_lens, bl_weights=None,\n",
    "                              kperp_bins=None,kpara_bins=None,\n",
    "                              return_weights=False,\n",
    "                              verbose = True)\n",
    "t1 = time.time()\n",
    "print('Computed wf in %.1f secs' %((t1-t0)))"
   ]
  },
  {
   "cell_type": "code",
   "execution_count": 20,
   "metadata": {},
   "outputs": [
    {
     "data": {
      "text/plain": [
       "(0.0, 1.0)"
      ]
     },
     "execution_count": 20,
     "metadata": {},
     "output_type": "execute_result"
    },
    {
     "data": {
      "image/png": "[encoded data removed]",
      "text/plain": [
       "<Figure size 432x288 with 1 Axes>"
      ]
     },
     "metadata": {
      "needs_background": "light"
     },
     "output_type": "display_data"
    }
   ],
   "source": [
    "for ik in range(kbins.size):\n",
    "    plt.plot(kbins.value, sph_wf[ik,:], color='k')\n",
    "plt.xlabel(r'$k~h\\mathrm{Mpc}^{-1}$')\n",
    "plt.ylabel(r'$W(k)$')\n",
    "plt.xlim(0, 1)"
   ]
  },
  {
   "cell_type": "markdown",
   "metadata": {},
   "source": [
    "### 4. Compute cylindrical window functions"
   ]
  },
  {
   "cell_type": "markdown",
   "metadata": {},
   "source": [
    "It is also possible to compute the cylindrical window functions for a given baseline length:"
   ]
  },
  {
   "cell_type": "code",
   "execution_count": 21,
   "metadata": {},
   "outputs": [],
   "source": [
    "# choose baseline\n",
    "ib = 12"
   ]
  },
  {
   "cell_type": "code",
   "execution_count": 22,
   "metadata": {},
   "outputs": [],
   "source": [
    "kperp, kpara, cyl_wf = uvw.get_cylindrical_wf(bl_lens[ib], kperp_bins=None, kpara_bins=None, \n",
    "                                              return_bins='unweighted')"
   ]
  },
  {
   "cell_type": "markdown",
   "metadata": {},
   "source": [
    "The $k_\\perp$ and $k_\\parallel$ bins used as a grid to compute these functions are returned simultaneously with the `return_bins` option. If the option is `return_bins='weighted'`, then we retrieve the $k_\\perp$ and $k_\\parallel$ bins weighted by the number of modes used to compute each value."
   ]
  },
  {
   "cell_type": "markdown",
   "metadata": {},
   "source": [
    "The resulting array is $W(b,\\tau,k_\\perp,k_\\parallel)$ and has shape (Ndlys, Nkperp, Nkpara)."
   ]
  },
  {
   "cell_type": "code",
   "execution_count": 23,
   "metadata": {},
   "outputs": [
    {
     "data": {
      "text/plain": [
       "(164, 38, 90)"
      ]
     },
     "execution_count": 23,
     "metadata": {},
     "output_type": "execute_result"
    }
   ],
   "source": [
    "cyl_wf.shape"
   ]
  },
  {
   "cell_type": "code",
   "execution_count": 24,
   "metadata": {},
   "outputs": [
    {
     "data": {
      "text/plain": [
       "Text(0.5, 1.0, '$(b,\\\\tau)=(124.8 ~\\\\mathrm{m},4745 ~\\\\mathrm{ns})$')"
      ]
     },
     "execution_count": 24,
     "metadata": {},
     "output_type": "execute_result"
    },
    {
     "data": {
      "image/png": "[encoded data removed]",
      "text/plain": [
       "<Figure size 432x288 with 1 Axes>"
      ]
     },
     "metadata": {
      "needs_background": "light"
     },
     "output_type": "display_data"
    }
   ],
   "source": [
    "it = 6\n",
    "\n",
    "plt.figure()\n",
    "plt.imshow(cyl_wf[it,:,:],extent=(kpara.min(),kpara.max(),kperp.max(),kperp.min()),aspect='auto')\n",
    "kpara_centre = cosmo.tau_to_kpara(uvw.avg_z,little_h=uvw.little_h)*abs(uvw.dly_array[it]) \n",
    "kperp_centre = cosmo.bl_to_kperp(uvw.avg_z,little_h=uvw.little_h)*bl_lens[ib]\n",
    "plt.axvline(kpara_centre,color='r');plt.axhline(kperp_centre,color='r')\n",
    "plt.ylabel(r'$k_{\\perp}$ [h~Mpc$^{-1}$]'); plt.xlabel(r'$k_{\\parallel}$ [h~Mpc$^{-1}$]')\n",
    "plt.title(r'$(b,\\tau)=(%.1f ~\\mathrm{m},%i ~\\mathrm{ns})$' %(bl_lens[ib],abs(uvw.dly_array[it])*1e9))"
   ]
  },
  {
   "cell_type": "markdown",
   "metadata": {},
   "source": [
    "The cylindrical window functions can then be averaged to obtain the spherical ones:"
   ]
  },
  {
   "cell_type": "code",
   "execution_count": 25,
   "metadata": {},
   "outputs": [],
   "source": [
    "# compute the gride of $k$ magnitudes covered by the array\n",
    "ktot = np.sqrt(kperp[:, None]**2 + kpara**2)\n",
    "# and average\n",
    "sph_wf2, _ = uvw.cylindrical_to_spherical(cyl_wf, kbins, ktot, lens[ib])"
   ]
  },
  {
   "cell_type": "code",
   "execution_count": 26,
   "metadata": {},
   "outputs": [
    {
     "data": {
      "text/plain": [
       "(0.0, 1.0)"
      ]
     },
     "execution_count": 26,
     "metadata": {},
     "output_type": "execute_result"
    },
    {
     "data": {
      "image/png": "[encoded data removed]",
      "text/plain": [
       "<Figure size 432x288 with 1 Axes>"
      ]
     },
     "metadata": {
      "needs_background": "light"
     },
     "output_type": "display_data"
    }
   ],
   "source": [
    "plt.plot(kbins.value,sph_wf[2,:])\n",
    "plt.plot(kbins.value,sph_wf2[2,:],ls='--')\n",
    "plt.xlabel(r'$k~h\\mathrm{Mpc}^{-1}$'); plt.ylabel(r'$W(k)$')\n",
    "plt.xlim(0, 1)"
   ]
  },
  {
   "cell_type": "markdown",
   "metadata": {},
   "source": [
    "The result is naturally different from the one using all the baselines."
   ]
  },
  {
   "cell_type": "markdown",
   "metadata": {},
   "source": [
    "### UVWindow & UVPSpec"
   ]
  },
  {
   "cell_type": "markdown",
   "metadata": {},
   "source": [
    "Let's first obtain a `UVPSPec` object which we be used for futher examples."
   ]
  },
  {
   "cell_type": "markdown",
   "metadata": {},
   "source": [
    "Initialise UVData object"
   ]
  },
  {
   "cell_type": "code",
   "execution_count": 27,
   "metadata": {},
   "outputs": [],
   "source": [
    "uvd = UVData()\n",
    "uvd.read_uvh5(dfile)"
   ]
  },
  {
   "cell_type": "markdown",
   "metadata": {},
   "source": [
    "Load beam"
   ]
  },
  {
   "cell_type": "code",
   "execution_count": 28,
   "metadata": {},
   "outputs": [],
   "source": [
    "# List of beamfile to load. This is a healpix map.\n",
    "beamfile = os.path.join(DATA_PATH, 'HERA_NF_dipole_power.beamfits')\n",
    "# intantiate beam and pass cosmology, if not fed, a default Planck cosmology will be assumed\n",
    "uvb = hp.pspecbeam.PSpecBeamUV(beamfile, cosmo=None)\n",
    "# find conversion factor from Jy to mK\n",
    "Jy_to_mK = uvb.Jy_to_mK(np.unique(uvd.freq_array), pol=pol)\n",
    "# reshape to appropriately match a UVData.data_array object and multiply in!\n",
    "uvd.data_array *= Jy_to_mK[None, None, :, None]"
   ]
  },
  {
   "cell_type": "markdown",
   "metadata": {},
   "source": [
    "Create data set to cross-correlate"
   ]
  },
  {
   "cell_type": "code",
   "execution_count": 29,
   "metadata": {},
   "outputs": [],
   "source": [
    "# Create a new PSpecData object, and don't forget to feed the beam object\n",
    "ds = hp.PSpecData(dsets=[uvd, uvd], wgts=[None, None], beam=uvb)"
   ]
  },
  {
   "cell_type": "markdown",
   "metadata": {},
   "source": [
    "Choose parameters to compute the power spectrum:"
   ]
  },
  {
   "cell_type": "code",
   "execution_count": 30,
   "metadata": {},
   "outputs": [],
   "source": [
    "baselines = [uvd.baseline_to_antnums(bl) for bl in np.unique(uvd.baseline_array)]\n",
    "baselines1, baselines2, blpairs = hp.utils.construct_blpairs(baselines,\n",
    "                                                             exclude_permutations=False,\n",
    "                                                             exclude_auto_bls=True)"
   ]
  },
  {
   "cell_type": "code",
   "execution_count": 31,
   "metadata": {},
   "outputs": [
    {
     "name": "stderr",
     "output_type": "stream",
     "text": [
      "Casting complex values to real discards the imaginary part\n"
     ]
    }
   ],
   "source": [
    "uvp = ds.pspec(baselines1, baselines2, dsets=(0, 1), pols=[(pol, pol)], spw_ranges=spw_range, \n",
    "               taper='blackman-harris',verbose=False)"
   ]
  },
  {
   "cell_type": "markdown",
   "metadata": {},
   "source": [
    "#### 1. Initialise `UVWindow` object from `UVPSpec` object"
   ]
  },
  {
   "cell_type": "markdown",
   "metadata": {},
   "source": [
    "Initialise `UVWindow` object from `uvp` -- the `FTBeam` object required to initialise `UVWindow` will be internally computed."
   ]
  },
  {
   "cell_type": "code",
   "execution_count": 32,
   "metadata": {
    "scrolled": true
   },
   "outputs": [],
   "source": [
    "uvw_ps = UVWindow.from_uvpspec(uvp, ftfile=base_ftfile, ipol=0, spw=0,\n",
    "                               x_orientation=uvd.x_orientation, verbose=True)"
   ]
  },
  {
   "cell_type": "markdown",
   "metadata": {},
   "source": [
    "The properties of the `UVPSpec` object are parsed to the `UVWindow` object."
   ]
  },
  {
   "cell_type": "code",
   "execution_count": 33,
   "metadata": {},
   "outputs": [
    {
     "data": {
      "text/plain": [
       "('blackman-harris', 'blackman-harris')"
      ]
     },
     "execution_count": 33,
     "metadata": {},
     "output_type": "execute_result"
    }
   ],
   "source": [
    "uvp.taper,uvw_ps.taper"
   ]
  },
  {
   "cell_type": "code",
   "execution_count": 34,
   "metadata": {},
   "outputs": [
    {
     "data": {
      "text/plain": [
       "(1414, ('yy', 'yy'))"
      ]
     },
     "execution_count": 34,
     "metadata": {},
     "output_type": "execute_result"
    }
   ],
   "source": [
    "uvp.polpair_array[0], uvw_ps.pols"
   ]
  },
  {
   "cell_type": "markdown",
   "metadata": {},
   "source": [
    "Then, we can use the module functions as before:"
   ]
  },
  {
   "cell_type": "code",
   "execution_count": 35,
   "metadata": {},
   "outputs": [
    {
     "name": "stderr",
     "output_type": "stream",
     "text": [
      "Max spherical k probed is not included in bins.\n"
     ]
    },
    {
     "name": "stdout",
     "output_type": "stream",
     "text": [
      "Computing for blg 13 of 13... \n"
     ]
    }
   ],
   "source": [
    "sph_wf3 = uvw_ps.get_spherical_wf(kbins,\n",
    "                                  kperp_bins=None,\n",
    "                                  kpara_bins=None,\n",
    "                                  bl_lens = bl_lens,\n",
    "                                  verbose = True)"
   ]
  },
  {
   "cell_type": "code",
   "execution_count": 36,
   "metadata": {},
   "outputs": [
    {
     "data": {
      "text/plain": [
       "(0.0, 1.0)"
      ]
     },
     "execution_count": 36,
     "metadata": {},
     "output_type": "execute_result"
    },
    {
     "data": {
      "image/png": "[encoded data removed]",
      "text/plain": [
       "<Figure size 432x288 with 1 Axes>"
      ]
     },
     "metadata": {
      "needs_background": "light"
     },
     "output_type": "display_data"
    }
   ],
   "source": [
    "plt.plot(kbins.value,sph_wf[2,:])\n",
    "plt.plot(kbins.value,sph_wf3[2,:],ls='--')\n",
    "plt.xlabel(r'$k~h\\mathrm{Mpc}^{-1}$')\n",
    "plt.ylabel(r'$W(k)$')\n",
    "plt.xlim(0, 1)"
   ]
  },
  {
   "cell_type": "markdown",
   "metadata": {},
   "source": [
    "#### 2. Extract exact window functions from `UVPSpec` object"
   ]
  },
  {
   "cell_type": "markdown",
   "metadata": {},
   "source": [
    "Set `exact_windows=True` when calling `ds.pspec` to directly obtain and save as attributes the exact window functions."
   ]
  },
  {
   "cell_type": "code",
   "execution_count": 37,
   "metadata": {},
   "outputs": [
    {
     "name": "stderr",
     "output_type": "stream",
     "text": [
      "Casting complex values to real discards the imaginary part\n"
     ]
    },
    {
     "name": "stdout",
     "output_type": "stream",
     "text": [
      "True\n"
     ]
    }
   ],
   "source": [
    "uvp = ds.pspec(baselines1, baselines2, dsets=(0, 1), pols=[(pol, pol)], spw_ranges=spw_range, \n",
    "               taper='blackman-harris', verbose=False, exact_windows=True, ftbeam_file=base_ftfile)\n",
    "print(uvp.exact_windows)"
   ]
  },
  {
   "cell_type": "markdown",
   "metadata": {},
   "source": [
    "You can also use the `get_exact_window_functions` method in `UVPSpec` on a pre-existing object:"
   ]
  },
  {
   "cell_type": "code",
   "execution_count": 38,
   "metadata": {},
   "outputs": [
    {
     "name": "stdout",
     "output_type": "stream",
     "text": [
      "False\n"
     ]
    }
   ],
   "source": [
    "uvp = ds.pspec(baselines1, baselines2, dsets=(0, 1), pols=[(pol, pol)], spw_ranges=spw_range, \n",
    "               taper='blackman-harris', verbose=False, exact_windows=False)\n",
    "print(uvp.exact_windows)"
   ]
  },
  {
   "cell_type": "code",
   "execution_count": 39,
   "metadata": {},
   "outputs": [
    {
     "name": "stdout",
     "output_type": "stream",
     "text": [
      "True\n"
     ]
    }
   ],
   "source": [
    "uvp.get_exact_window_functions(ftbeam_file=base_ftfile, inplace=True,\n",
    "                               x_orientation=uvd.x_orientation)\n",
    "print(uvp.exact_windows)"
   ]
  },
  {
   "cell_type": "markdown",
   "metadata": {},
   "source": [
    "The result of `uvp.get_red_blpairs()` is used to group baseline-pairs by redundancy groups."
   ]
  },
  {
   "cell_type": "code",
   "execution_count": 40,
   "metadata": {},
   "outputs": [
    {
     "name": "stdout",
     "output_type": "stream",
     "text": [
      "(120, 164, 18, 90, 1)\n",
      "120 164 18 90 1\n"
     ]
    }
   ],
   "source": [
    "spw = 0\n",
    "\n",
    "print(uvp.window_function_array[spw].shape)\n",
    "print(uvp.Nblpairts,\n",
    "      uvp.Ndlys,\n",
    "      uvp.window_function_kperp_bins[spw].size,\n",
    "      uvp.window_function_kpara_bins[spw].size,\n",
    "      uvp.Npols)"
   ]
  },
  {
   "cell_type": "markdown",
   "metadata": {},
   "source": [
    "The exact window functions are assigned as attributes of the UVPSpec object, along with the $k_\\perp$ and $k_\\parallel$ grids used to compute them. The attribute `uvp.exact_windows` is set to True."
   ]
  },
  {
   "cell_type": "code",
   "execution_count": 41,
   "metadata": {},
   "outputs": [
    {
     "data": {
      "text/plain": [
       "True"
      ]
     },
     "execution_count": 41,
     "metadata": {},
     "output_type": "execute_result"
    }
   ],
   "source": [
    "uvp.exact_windows"
   ]
  },
  {
   "cell_type": "code",
   "execution_count": 42,
   "metadata": {},
   "outputs": [
    {
     "data": {
      "text/plain": [
       "Text(0.5, 1.0, '$(b,\\\\tau)=(14.6 ~\\\\mathrm{m},4745 ~\\\\mathrm{ns})$')"
      ]
     },
     "execution_count": 42,
     "metadata": {},
     "output_type": "execute_result"
    },
    {
     "data": {
      "image/png": "[encoded data removed]",
      "text/plain": [
       "<Figure size 432x288 with 1 Axes>"
      ]
     },
     "metadata": {
      "needs_background": "light"
     },
     "output_type": "display_data"
    }
   ],
   "source": [
    "spw = 0\n",
    "\n",
    "kperp = uvp.window_function_kperp_bins[spw].flatten()\n",
    "kpara = uvp.window_function_kpara_bins[spw].flatten()\n",
    "\n",
    "plt.figure()\n",
    "plt.imshow(uvp.window_function_array[spw][4, 6,:,:, 0],\n",
    "           extent=(kpara.min(),kpara.max(),kperp.max(),kperp.min()),aspect='auto')\n",
    "plt.ylabel(r'$k_{\\perp}$ [h Mpc$^{-1}$]'); plt.xlabel(r'$k_{\\parallel}$ [h Mpc$^{-1}$]')\n",
    "plt.title(r'$(b,\\tau)=(%.1f ~\\mathrm{m},%i ~\\mathrm{ns})$' \n",
    "          %(uvp.get_red_blpairs()[1][0],abs(uvp.get_dlys(spw)[6])*1e9))"
   ]
  },
  {
   "cell_type": "markdown",
   "metadata": {},
   "source": [
    "Once `uvp.exact_windows=True`, you can call the window functions with `uvp.get_window_function`, as for the initial computation:"
   ]
  },
  {
   "cell_type": "code",
   "execution_count": 43,
   "metadata": {},
   "outputs": [
    {
     "name": "stdout",
     "output_type": "stream",
     "text": [
      "(60, 164, 18, 90)\n"
     ]
    }
   ],
   "source": [
    "spw = 0 \n",
    "blpair = uvp.blpair_array[2]\n",
    "polpair = uvp.polpair_array[0]\n",
    "\n",
    "key = (spw, blpair, polpair)\n",
    "W = uvp.get_window_function(key)\n",
    "print(W.shape)"
   ]
  },
  {
   "cell_type": "code",
   "execution_count": 44,
   "metadata": {},
   "outputs": [
    {
     "data": {
      "text/plain": [
       "Text(0.5, 0, '$k_{\\\\parallel}$ [h Mpc$^{-1}$]')"
      ]
     },
     "execution_count": 44,
     "metadata": {},
     "output_type": "execute_result"
    },
    {
     "data": {
      "image/png": "[encoded data removed]",
      "text/plain": [
       "<Figure size 432x288 with 1 Axes>"
      ]
     },
     "metadata": {
      "needs_background": "light"
     },
     "output_type": "display_data"
    }
   ],
   "source": [
    "kperp = uvp.window_function_kperp_bins[spw].flatten()\n",
    "kpara = uvp.window_function_kpara_bins[spw].flatten()\n",
    "\n",
    "plt.figure()\n",
    "plt.imshow(W[4, 6, :, :], aspect='auto',\n",
    "           extent=(kpara.min(), kpara.max(), kperp.max(), kperp.min()))\n",
    "plt.ylabel(r'$k_{\\perp}$ [h Mpc$^{-1}$]')\n",
    "plt.xlabel(r'$k_{\\parallel}$ [h Mpc$^{-1}$]')"
   ]
  },
  {
   "cell_type": "markdown",
   "metadata": {},
   "source": [
    "Note that, in case the `UVPSpec` object has been previously averaged, the function does *not* check if the baselines called in `blpair_lens` and `blpair_groups` are indeed included in the `UVPSpec` data."
   ]
  },
  {
   "cell_type": "markdown",
   "metadata": {},
   "source": [
    "With the cylindrical window functions in hand, you can obtain the spherical average in the following way:"
   ]
  },
  {
   "cell_type": "code",
   "execution_count": 45,
   "metadata": {},
   "outputs": [],
   "source": [
    "wf_array = hp.grouping.spherical_wf_from_uvp(uvp, kbins=kbins.value, bin_widths=np.diff(kbins.value).mean(),\n",
    "                                             blpair_groups=None, blpair_lens=None, blpair_weights=None,\n",
    "                                             error_weights=None, spw_array=None, little_h=True, verbose=True)"
   ]
  },
  {
   "cell_type": "code",
   "execution_count": 46,
   "metadata": {},
   "outputs": [
    {
     "name": "stdout",
     "output_type": "stream",
     "text": [
      "(60, 54, 54, 1) (54,)\n"
     ]
    }
   ],
   "source": [
    "print(wf_array[0].shape, kbins.shape)"
   ]
  },
  {
   "cell_type": "markdown",
   "metadata": {},
   "source": [
    "The `inplace` option allows you to choose if you want to save the exact window functions and the corresponding $k_\\perp$ and $k_\\parallel$ bins as attributes or if you just want to output the results. If `inplace=False`, you can choose the spectral window over which to compute the window functions with the `spw_array` argument."
   ]
  },
  {
   "cell_type": "code",
   "execution_count": 47,
   "metadata": {},
   "outputs": [],
   "source": [
    "uvp = ds.pspec(baselines1, baselines2, dsets=(0, 1), pols=[(pol, pol)], spw_ranges=spw_range,\n",
    "               taper='blackman-harris', verbose=False)"
   ]
  },
  {
   "cell_type": "code",
   "execution_count": 48,
   "metadata": {},
   "outputs": [
    {
     "name": "stdout",
     "output_type": "stream",
     "text": [
      "(120, 164, 18, 90, 1) (18, 1) (90, 1)\n"
     ]
    }
   ],
   "source": [
    "spw = 0\n",
    "\n",
    "kperp_bins, kpara_bins, cyl_wf = uvp.get_exact_window_functions(ftbeam_file=base_ftfile, inplace=False,\n",
    "                                                                x_orientation=uvd.x_orientation, spw_array=spw)\n",
    "print(cyl_wf[spw].shape, kperp_bins[spw].shape, kpara_bins[spw].shape)"
   ]
  },
  {
   "cell_type": "code",
   "execution_count": 49,
   "metadata": {},
   "outputs": [
    {
     "data": {
      "text/plain": [
       "Text(0.5, 1.0, '$(b,\\\\tau)=(14.6 ~\\\\mathrm{m},4745 ~\\\\mathrm{ns})$')"
      ]
     },
     "execution_count": 49,
     "metadata": {},
     "output_type": "execute_result"
    },
    {
     "data": {
      "image/png": "[encoded data removed]",
      "text/plain": [
       "<Figure size 432x288 with 1 Axes>"
      ]
     },
     "metadata": {
      "needs_background": "light"
     },
     "output_type": "display_data"
    }
   ],
   "source": [
    "plt.figure()\n",
    "plt.imshow(cyl_wf[spw][4, 6,:,:, 0],\n",
    "           extent=(kpara_bins[spw].min(),kpara_bins[spw].max(),kperp_bins[spw].max(),kperp_bins[spw].min()),aspect='auto')\n",
    "plt.ylabel(r'$k_{\\perp}$ [h Mpc$^{-1}$]'); plt.xlabel(r'$k_{\\parallel}$ [h Mpc$^{-1}$]')\n",
    "plt.title(r'$(b,\\tau)=(%.1f ~\\mathrm{m},%i ~\\mathrm{ns})$' \n",
    "          %(uvp.get_red_blpairs()[1][0],abs(uvp.get_dlys(spw)[6])*1e9))"
   ]
  },
  {
   "cell_type": "markdown",
   "metadata": {},
   "source": [
    "#### 3. Averaging"
   ]
  },
  {
   "cell_type": "code",
   "execution_count": 50,
   "metadata": {},
   "outputs": [],
   "source": [
    "uvp = ds.pspec(baselines1, baselines2, dsets=(0, 1), pols=[(pol, pol)], spw_ranges=spw_range, \n",
    "               taper='blackman-harris',verbose=False)"
   ]
  },
  {
   "cell_type": "code",
   "execution_count": 51,
   "metadata": {},
   "outputs": [],
   "source": [
    "uvp.get_exact_window_functions(ftbeam_file=base_ftfile, inplace=True,\n",
    "                               x_orientation=uvd.x_orientation)"
   ]
  },
  {
   "cell_type": "markdown",
   "metadata": {},
   "source": [
    "Once the exact window functions have been computed, it is possible to apply error weights, or to average them by time or redundancy with the `grouping.average_spectra` method. If `uvp.exact_windows = False`, the ordinary computations will be performed."
   ]
  },
  {
   "cell_type": "code",
   "execution_count": 52,
   "metadata": {},
   "outputs": [
    {
     "name": "stdout",
     "output_type": "stream",
     "text": [
      "(120, 164, 18, 90, 1)\n",
      "(2, 164, 18, 90, 1)\n"
     ]
    }
   ],
   "source": [
    "print(uvp.window_function_array[0].shape)\n",
    "hp.grouping.average_spectra(uvp, time_avg=True, inplace=True)\n",
    "print(uvp.window_function_array[0].shape)"
   ]
  },
  {
   "cell_type": "code",
   "execution_count": 53,
   "metadata": {},
   "outputs": [
    {
     "data": {
      "text/plain": [
       "True"
      ]
     },
     "execution_count": 53,
     "metadata": {},
     "output_type": "execute_result"
    }
   ],
   "source": [
    "uvp.exact_windows"
   ]
  },
  {
   "cell_type": "markdown",
   "metadata": {},
   "source": [
    "Note that the time-average does not change anything to the window functions and only changes the shape of the resulting array."
   ]
  },
  {
   "cell_type": "code",
   "execution_count": 54,
   "metadata": {},
   "outputs": [
    {
     "data": {
      "text/plain": [
       "Text(0.5, 1.0, '$(b,\\\\tau)=(14.6 ~\\\\mathrm{m},4745 ~\\\\mathrm{ns})$')"
      ]
     },
     "execution_count": 54,
     "metadata": {},
     "output_type": "execute_result"
    },
    {
     "data": {
      "image/png": "[encoded data removed]",
      "text/plain": [
       "<Figure size 432x288 with 1 Axes>"
      ]
     },
     "metadata": {
      "needs_background": "light"
     },
     "output_type": "display_data"
    }
   ],
   "source": [
    "plt.figure()\n",
    "plt.imshow(cyl_wf[spw][4, 6,:,:, 0],\n",
    "           extent=(kpara_bins[spw].min(),kpara_bins[spw].max(),kperp_bins[spw].max(),kperp_bins[spw].min()),aspect='auto')\n",
    "plt.ylabel(r'$k_{\\perp}$ [h Mpc$^{-1}$]'); plt.xlabel(r'$k_{\\parallel}$ [h Mpc$^{-1}$]')\n",
    "plt.title(r'$(b,\\tau)=(%.1f ~\\mathrm{m},%i ~\\mathrm{ns})$' \n",
    "          %(uvp.get_red_blpairs()[1][0],abs(uvp.get_dlys(spw)[6])*1e9))"
   ]
  },
  {
   "cell_type": "markdown",
   "metadata": {},
   "source": [
    "#### 4. Spherical average"
   ]
  },
  {
   "cell_type": "markdown",
   "metadata": {},
   "source": [
    "All the above options return the cylindrical window functions, which you can later spherically average with the method `grouping.spherical_wf_from_uvp` as detailled above. However, you can directly access the spherical window functions if you spherically average your `UVPSpec` object."
   ]
  },
  {
   "cell_type": "code",
   "execution_count": 55,
   "metadata": {},
   "outputs": [],
   "source": [
    "uvp = ds.pspec(baselines1, baselines2, dsets=(0, 1), pols=[(pol, pol)], spw_ranges=spw_range, \n",
    "               taper='blackman-harris',verbose=False)"
   ]
  },
  {
   "cell_type": "code",
   "execution_count": 56,
   "metadata": {},
   "outputs": [],
   "source": [
    "uvp.get_exact_window_functions(ftbeam_file=base_ftfile, inplace=True,\n",
    "                               x_orientation=uvd.x_orientation)"
   ]
  },
  {
   "cell_type": "code",
   "execution_count": 57,
   "metadata": {
    "scrolled": true
   },
   "outputs": [],
   "source": [
    "sph_uvp = hp.grouping.spherical_average(uvp, kbins.value, bin_widths=np.diff(kbins.value).mean(),\n",
    "                                        blpair_groups=uvp.get_red_blpairs()[0], time_avg=True)"
   ]
  },
  {
   "cell_type": "code",
   "execution_count": 58,
   "metadata": {},
   "outputs": [
    {
     "data": {
      "text/plain": [
       "(0.0, 1.0)"
      ]
     },
     "execution_count": 58,
     "metadata": {},
     "output_type": "execute_result"
    },
    {
     "data": {
      "image/png": "[encoded data removed]",
      "text/plain": [
       "<Figure size 432x288 with 1 Axes>"
      ]
     },
     "metadata": {
      "needs_background": "light"
     },
     "output_type": "display_data"
    }
   ],
   "source": [
    "plt.plot(kbins.value, sph_wf[2, :])\n",
    "plt.plot(kbins.value, sph_uvp.window_function_array[0].squeeze()[2, :], ls='--')\n",
    "plt.xlabel(r'$k~h\\mathrm{Mpc}^{-1}$')\n",
    "plt.ylabel(r'$W(k)$')\n",
    "plt.xlim(0, 1)"
   ]
  },
  {
   "cell_type": "markdown",
   "metadata": {},
   "source": [
    "### Compute cylindrical window functions and save"
   ]
  },
  {
   "cell_type": "code",
   "execution_count": 59,
   "metadata": {},
   "outputs": [],
   "source": [
    "uvw = UVWindow(ftbeam_obj = ftbeam,\n",
    "               taper = 'blackman-harris',\n",
    "               cosmo=cosmo,\n",
    "               little_h=little_h,\n",
    "               verbose=True)"
   ]
  },
  {
   "cell_type": "code",
   "execution_count": 60,
   "metadata": {},
   "outputs": [
    {
     "name": "stdout",
     "output_type": "stream",
     "text": [
      "True\n"
     ]
    }
   ],
   "source": [
    "uvw.run_and_write(filepath=outfile,\n",
    "                  bl_lens = bl_lens[:2],\n",
    "                  kperp_bins=None,\n",
    "                  kpara_bins=None,\n",
    "                  clobber=True)\n",
    "print(os.path.isfile(outfile))"
   ]
  },
  {
   "cell_type": "code",
   "execution_count": 61,
   "metadata": {},
   "outputs": [
    {
     "name": "stdout",
     "output_type": "stream",
     "text": [
      "False\n"
     ]
    }
   ],
   "source": [
    "os.remove(outfile)\n",
    "print(os.path.isfile(outfile))"
   ]
  }
 ],
 "metadata": {
  "kernelspec": {
   "display_name": "Python 3 (ipykernel)",
   "language": "python",
   "name": "python3"
  },
  "language_info": {
   "codemirror_mode": {
    "name": "ipython",
    "version": 3
   },
   "file_extension": ".py",
   "mimetype": "text/x-python",
   "name": "python",
   "nbconvert_exporter": "python",
   "pygments_lexer": "ipython3",
   "version": "3.9.7"
  }
 },
 "nbformat": 4,
 "nbformat_minor": 4
}
