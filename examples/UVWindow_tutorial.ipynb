{
 "cells": [
  {
   "cell_type": "markdown",
   "metadata": {},
   "source": [
    "# Tutorial notebook for the UVWindow module"
   ]
  },
  {
   "cell_type": "markdown",
   "metadata": {},
   "source": [
    "In this notebook, we present how to use the `UVWindow` module, which provides routines to compute exact window functions for a given set of baseline lengths, with relative weights, on a given frequency range."
   ]
  },
  {
   "cell_type": "markdown",
   "metadata": {},
   "source": [
    "The theoretical background detailling the definition and computation of these window functions can be found in a memo. We only give a short summary here."
   ]
  },
  {
   "cell_type": "markdown",
   "metadata": {},
   "source": [
    "There are two classes included in the `uvwindow.py` script.\n",
    "* `FTBeam`, which is used to compute and access the Fourier transform of the flat-sky approximation of the HERA beam for a given range of frequencies and a given polarisation. It is used internally by `UVWindow`. For now, its value is read from files but a computation from scratch will soon be supported.\n",
    "* `UVWindow`, which computes the exact window functions given a set of baseline lengths, a pair of polarisations, and a spectral window."
   ]
  },
  {
   "cell_type": "markdown",
   "metadata": {},
   "source": [
    "The \"Fourier transform of the beam\" corresponds to, for $A(\\theta,\\nu)$ the HERA beam at angular direction $\\theta$ and frequency $\\nu$, for a given polarisation:\n",
    "\\begin{equation} \n",
    "\\tilde{A}(\\mathbf{q}_\\perp,\\nu) =  \\int \\mathrm{d}^2 \\theta~ A(\\mathbf{\\theta,\\nu}) ~\\mathrm{e}^{-2i\\pi \\mathbf{\\theta} \\cdot \\mathbf{q}_\\perp}\n",
    "\\end{equation}\n",
    "where the Fourier dual of $\\theta$ is\n",
    "\\begin{equation}\n",
    "\\mathbf{q}_\\perp \\equiv\\frac{\\nu}{c}\\mathbf{b}- \\frac{d_c(z)}{2\\pi }  \\mathbf{k_\\perp},\n",
    "\\end{equation}\n",
    "for $\\mathbf{b}$ the baseline length, and $d_c(z)$ the comoving distance to redshift $z(\\nu)$."
   ]
  },
  {
   "cell_type": "markdown",
   "metadata": {},
   "source": [
    "The cylindrical window fuctions obtained with the module are arrays giving the mapping between instrument space $(b,\\tau)$ and cosmological space $(k_\\perp,k_\\parallel)$. They can be spherically averaged to obtain the spherical window functions.\n",
    "\n",
    "Then each estimated bandpower $\\hat{P}$ at a given $(b,\\tau)$ is an integral of the true, cosmological, power spectrum, with the window functions as weights:\n",
    "\\begin{equation}\n",
    "\\hat{P}(b,\\tau)=\\int \\mathrm{d}k_\\parallel~\\mathrm{d}k_\\perp~W(b,\\tau,k_\\perp,k_\\parallel) P(k_\\perp,k_\\parallel).\n",
    "\\end{equation}"
   ]
  },
  {
   "cell_type": "markdown",
   "metadata": {},
   "source": [
    "## Setting up the environment"
   ]
  },
  {
   "cell_type": "markdown",
   "metadata": {},
   "source": [
    "Import necessary modules"
   ]
  },
  {
   "cell_type": "code",
   "execution_count": 1,
   "metadata": {},
   "outputs": [],
   "source": [
    "from pyuvdata import UVData, UVBeam\n",
    "from pyuvdata import  utils as uvutils\n",
    "import hera_pspec as hp\n",
    "from hera_pspec.data import DATA_PATH\n",
    "from hera_cal import redcal\n",
    "from  hera_pspec import utils\n",
    "from hera_pspec import uvpspec_utils as uvputils"
   ]
  },
  {
   "cell_type": "code",
   "execution_count": 2,
   "metadata": {},
   "outputs": [],
   "source": [
    "from astropy.io import fits\n",
    "from astropy import units\n",
    "from scipy.interpolate import interp2d, interp1d\n",
    "from scipy import integrate\n",
    "import sys, matplotlib, os, h5py\n",
    "import numpy as np\n",
    "from itertools import product, combinations\n",
    "from astropy import units\n",
    "from multiprocessing import Pool\n",
    "import time, h5py\n",
    "import matplotlib.pyplot as plt\n",
    "from matplotlib import colors, cm\n",
    "%matplotlib inline"
   ]
  },
  {
   "cell_type": "code",
   "execution_count": 3,
   "metadata": {},
   "outputs": [],
   "source": [
    "from hera_pspec import UVWindow, FTBeam"
   ]
  },
  {
   "cell_type": "code",
   "execution_count": 4,
   "metadata": {},
   "outputs": [],
   "source": [
    "%load_ext autoreload\n",
    "%autoreload 2"
   ]
  },
  {
   "cell_type": "markdown",
   "metadata": {},
   "source": [
    "Define global parameters"
   ]
  },
  {
   "cell_type": "code",
   "execution_count": 5,
   "metadata": {},
   "outputs": [],
   "source": [
    "cosmo = hp.conversions.Cosmo_Conversions()\n",
    "little_h = True"
   ]
  },
  {
   "cell_type": "code",
   "execution_count": 7,
   "metadata": {},
   "outputs": [],
   "source": [
    "# Data files to use in tests\n",
    "dfile = 'zen.2458116.31939.HH.uvh5'\n",
    "ftfile = os.path.join(DATA_PATH, 'FT_beam_HERA_dipole_test_xx.hdf5')\n",
    "base_ftfile = os.path.join(DATA_PATH, 'FT_beam_HERA_dipole_test')\n",
    "outfile = os.path.join(DATA_PATH, 'test.hdf5')"
   ]
  },
  {
   "cell_type": "markdown",
   "metadata": {},
   "source": [
    "Define the bins used for the spherical window functions. They must be an `astropy` quantity with appropriate units."
   ]
  },
  {
   "cell_type": "code",
   "execution_count": 8,
   "metadata": {},
   "outputs": [],
   "source": [
    "kmax, dk = 1., 0.128/2\n",
    "krange = np.arange(dk*1.5,kmax,step=dk)\n",
    "nbinsk = krange.size -1\n",
    "kbins = (krange[1:]+krange[:-1])/2\n",
    "kbins *= units.h / units.Mpc"
   ]
  },
  {
   "cell_type": "markdown",
   "metadata": {},
   "source": [
    "Let us extract baseline lengths from a data file. We will then compute window functions for these baselines."
   ]
  },
  {
   "cell_type": "code",
   "execution_count": 9,
   "metadata": {},
   "outputs": [],
   "source": [
    "uvd = UVData()\n",
    "uvd.read_uvh5(os.path.join(DATA_PATH, dfile), read_data=False)"
   ]
  },
  {
   "cell_type": "code",
   "execution_count": 10,
   "metadata": {},
   "outputs": [],
   "source": [
    "reds, lens, angs = utils.get_reds(uvd,bl_error_tol=1.0,pick_data_ants=False)"
   ]
  },
  {
   "cell_type": "markdown",
   "metadata": {},
   "source": [
    "Choose baseline groups used to comput the window functions."
   ]
  },
  {
   "cell_type": "code",
   "execution_count": 11,
   "metadata": {},
   "outputs": [
    {
     "name": "stdout",
     "output_type": "stream",
     "text": [
      "[25.305230165777832]\n"
     ]
    }
   ],
   "source": [
    "bl_lens = [lens[3]]\n",
    "print(bl_lens)"
   ]
  },
  {
   "cell_type": "markdown",
   "metadata": {},
   "source": [
    "## Compute the window functions: Basic usage"
   ]
  },
  {
   "cell_type": "markdown",
   "metadata": {},
   "source": [
    "The derivation of the window function relies on Fourier transforms performed on the beam of the instrument. The spatial Fourier transforms of the flat-sky-approximated beam have been pre-computed and an example file (called `ftfile` below) is available in `hera_pspec/data/`. This file corresponds to the beam for the `xx` polarisation and a reduced spectral window to save disk space."
   ]
  },
  {
   "cell_type": "code",
   "execution_count": 12,
   "metadata": {},
   "outputs": [],
   "source": [
    "spw_range = (5,25)\n",
    "pol = 'xx'"
   ]
  },
  {
   "cell_type": "markdown",
   "metadata": {},
   "source": [
    "### 1. Initialise  `FTBeam` object"
   ]
  },
  {
   "cell_type": "markdown",
   "metadata": {},
   "source": [
    "The `FTBeam` object takes several different inputs:\n",
    "* A 3D array `data` containing the real part of the Fourier transform of the beam in the sky plane (flat-sky approximation), for a set of frequencies given by `freq_array`.\n",
    "* A polarisation channel (e.g., 'xx', can also be a polarisation integer).\n",
    "* The spectral window `freq_array` corresponding to `data`, given as a list (or 1d array) of frequencies in Hz.\n",
    "* The parameter `mapsize`, corresponding to the size of the flat map the beam was projected onto (in deg)\n",
    "* The orientation in cardinal direction east or north of X dipole, given in `x_orientation`.\n",
    "\n",
    "The inputs (esp. `data` and `freq_array`) should be chosen with respect to the window functions that the user want to compute, as the `FTBeam` object will be fed directly to the `UVWindow` object to initialise it.\n",
    "\n",
    "It is usually easier to initialise the `FTBeam` object through the class methods `from_beam` and `from_file` as illustrated below."
   ]
  },
  {
   "cell_type": "markdown",
   "metadata": {},
   "source": [
    "#### 1.1 Initialise from file"
   ]
  },
  {
   "cell_type": "markdown",
   "metadata": {},
   "source": [
    "The `FTBeam.from_file` method reads a h5py file containing the real part of the Fourier transform of the beam in the sky plane to initialise a `FTBeam` object with the appropriate properties. It must be fed:\n",
    "* `ftfile`, the path to the file constraining to the Fourier transform of the beam on the sky plane, including the polarisation (e.g., path/to/file/ft_beam_HERA_dipole_pI.hdf5)\n",
    "* `spw_range` as a tuple of the indices of the minimum and maximum frequencies used to compute the FT above. The indices are tken over the total instrument bandwidth. If `None`, the whole instrument bandwidth is considered.\n",
    "* The orientation in cardinal direction east or north of X dipole, given in `x_orientation`."
   ]
  },
  {
   "cell_type": "code",
   "execution_count": 17,
   "metadata": {},
   "outputs": [],
   "source": [
    "ftbeam = FTBeam.from_file(ftfile=ftfile, spw_range=spw_range)"
   ]
  },
  {
   "cell_type": "markdown",
   "metadata": {},
   "source": [
    "#### 1.2 Initialise from beam"
   ]
  },
  {
   "cell_type": "markdown",
   "metadata": {},
   "source": [
    "The `FTBeam.from_beam` function is not implemented yet, and will raise a `NotImplementedError` if you try to call it. In the future, it will directly derive the Fourier transform of the beam in the sky plane, given path to file containing beam simulations for a given polarisation."
   ]
  },
  {
   "cell_type": "markdown",
   "metadata": {},
   "source": [
    "### 2. Initialise  UVWindow object"
   ]
  },
  {
   "cell_type": "markdown",
   "metadata": {},
   "source": [
    "Most of the `UVWindow` object's attributes are initialised through the `FTBeam` object given as input (e.g., `pols`, `freq_array1`, ...). The `ftbeam_obj` can be either an individual object (then the window functions are computed for the auto-correlation of the polarisation of the object) or a list/tuple/array of two `FTbeam` objects that will be cross-correlated in the computation (see Memo).\n",
    "\n",
    "To initialise the `UVWindow` object, you can give additional (optional) inputs related to the computation of the window functions:\n",
    "* A `taper` used to smooth the data along the spectral window. Ex: 'blackman-harris'.\n",
    "* A `conversions.Cosmo_Conversions` object for cosmological calculations.\n",
    "* The boolean `little_h` which indicates if $k$ units include $h$ or not."
   ]
  },
  {
   "cell_type": "code",
   "execution_count": 19,
   "metadata": {},
   "outputs": [],
   "source": [
    "uvw = UVWindow(ftbeam_obj = ftbeam,\n",
    "               taper = 'blackman-harris',\n",
    "               cosmo=cosmo,\n",
    "               little_h=little_h,\n",
    "               verbose=True)"
   ]
  },
  {
   "cell_type": "code",
   "execution_count": 21,
   "metadata": {
    "scrolled": true
   },
   "outputs": [
    {
     "data": {
      "text/plain": [
       "True"
      ]
     },
     "execution_count": 21,
     "metadata": {},
     "output_type": "execute_result"
    }
   ],
   "source": [
    "np.all(uvw.freq_array==ftbeam.freq_array)"
   ]
  },
  {
   "cell_type": "code",
   "execution_count": 24,
   "metadata": {},
   "outputs": [
    {
     "data": {
      "text/plain": [
       "('xx', 'xx')"
      ]
     },
     "execution_count": 24,
     "metadata": {},
     "output_type": "execute_result"
    }
   ],
   "source": [
    "uvw.ftbeam_obj_pol[0].pol, uvw.pols[0]"
   ]
  },
  {
   "cell_type": "markdown",
   "metadata": {},
   "source": [
    "Within the `UVWindow` object, the input `FTBeam` objects are saved in a list (one element for each polarisation):"
   ]
  },
  {
   "cell_type": "code",
   "execution_count": 22,
   "metadata": {},
   "outputs": [
    {
     "data": {
      "text/plain": [
       "[<hera_pspec.uvwindow.FTBeam at 0x16fb01d00>,\n",
       " <hera_pspec.uvwindow.FTBeam at 0x16fb01d00>]"
      ]
     },
     "execution_count": 22,
     "metadata": {},
     "output_type": "execute_result"
    }
   ],
   "source": [
    "uvw.ftbeam_obj_pol"
   ]
  },
  {
   "cell_type": "markdown",
   "metadata": {},
   "source": [
    "The `UVWindow` object has useful attributes, such as the average frequency (in Hz) and redshift over the spectral window considered:"
   ]
  },
  {
   "cell_type": "code",
   "execution_count": 25,
   "metadata": {},
   "outputs": [
    {
     "data": {
      "text/plain": [
       "(11.035543972064543, 118017578.125)"
      ]
     },
     "execution_count": 25,
     "metadata": {},
     "output_type": "execute_result"
    }
   ],
   "source": [
    "uvw.avg_z, uvw.avg_nu"
   ]
  },
  {
   "cell_type": "markdown",
   "metadata": {},
   "source": [
    "If `little_h=True`, then the attribute `uvw.kunits` includes $h$:"
   ]
  },
  {
   "cell_type": "code",
   "execution_count": 26,
   "metadata": {},
   "outputs": [
    {
     "data": {
      "text/latex": [
       "$\\mathrm{\\frac{h}{Mpc}}$"
      ],
      "text/plain": [
       "Unit(\"h / Mpc\")"
      ]
     },
     "execution_count": 26,
     "metadata": {},
     "output_type": "execute_result"
    }
   ],
   "source": [
    "uvw.kunits"
   ]
  },
  {
   "cell_type": "markdown",
   "metadata": {},
   "source": [
    "### 3. Compute spherical window functions"
   ]
  },
  {
   "cell_type": "markdown",
   "metadata": {},
   "source": [
    "We use the `get_spherical_wf` to directly access the spherically-averaged window functions, for a given set of baseline lengths. The function uses different inputs:\n",
    "* The set of spherical $k$-bins to use, as an `astropy` quantity with units.\n",
    "* A list of baseline lengths `bl_lens`, with, as an option, a list of associated weights (`bl_weights`)\n",
    "* Lists of $k_\\perp$ and $k_\\parallel$ values, which will be used to grid the cylindrical window functions (see below)\n",
    "* An option to return how many (baseline, delay) pairs were averaged to obtain each spherical $k$-bin value (`return_weights=True`)"
   ]
  },
  {
   "cell_type": "code",
   "execution_count": 27,
   "metadata": {},
   "outputs": [
    {
     "name": "stderr",
     "output_type": "stream",
     "text": [
      "Max spherical k probed is not included in bins.\n"
     ]
    },
    {
     "name": "stdout",
     "output_type": "stream",
     "text": [
      "Computing for blg 126 of 126... \n",
      "Computed wf in 47.8 secs\n"
     ]
    },
    {
     "name": "stderr",
     "output_type": "stream",
     "text": [
      "Some spherical bins are empty. Add baselines or expand spectral window.\n"
     ]
    }
   ],
   "source": [
    "t0 = time.time()\n",
    "sph_wf = uvw.get_spherical_wf(kbins,\n",
    "                              bl_lens = lens, bl_weights=None,\n",
    "                              kperp_bins=None,kpara_bins=None,\n",
    "                              return_weights=False,\n",
    "                              verbose = True)\n",
    "t1 = time.time()\n",
    "print('Computed wf in %.1f secs' %((t1-t0)))"
   ]
  },
  {
   "cell_type": "code",
   "execution_count": 28,
   "metadata": {},
   "outputs": [
    {
     "data": {
      "text/plain": [
       "Text(0, 0.5, '$W(k)$')"
      ]
     },
     "execution_count": 28,
     "metadata": {},
     "output_type": "execute_result"
    },
    {
     "data": {
      "image/png": "[encoded data removed]",
      "text/plain": [
       "<Figure size 432x288 with 1 Axes>"
      ]
     },
     "metadata": {
      "needs_background": "light"
     },
     "output_type": "display_data"
    }
   ],
   "source": [
    "for ik in range(kbins.size):\n",
    "    plt.plot(kbins.value,sph_wf[ik,:],color='k')\n",
    "plt.axvline(kbins[2].value,ls='--')\n",
    "plt.xlabel(r'$k~h\\mathrm{Mpc}^{-1}$'); plt.ylabel(r'$W(k)$')"
   ]
  },
  {
   "cell_type": "markdown",
   "metadata": {},
   "source": [
    "These are ugly because of the very restricted spectral window considered in the example ftfile."
   ]
  },
  {
   "cell_type": "markdown",
   "metadata": {},
   "source": [
    "### 4. Compute cylindrical window functions"
   ]
  },
  {
   "cell_type": "markdown",
   "metadata": {},
   "source": [
    "It is also possible to compute the cylindrical window functions for a given baseline length:"
   ]
  },
  {
   "cell_type": "code",
   "execution_count": 29,
   "metadata": {},
   "outputs": [],
   "source": [
    "# choose baseline\n",
    "ib = 12"
   ]
  },
  {
   "cell_type": "code",
   "execution_count": 30,
   "metadata": {},
   "outputs": [],
   "source": [
    "kperp, kpara, cyl_wf = uvw.get_cylindrical_wf(lens[ib], kperp_bins=None, kpara_bins=None, \n",
    "                                              return_bins='unweighted')"
   ]
  },
  {
   "cell_type": "markdown",
   "metadata": {},
   "source": [
    "The $k_\\perp$ and $k_\\parallel$ bins used as a grid to compute these functions are returned simultaneously with the `return_bins` option. If the option is `return_bins='weighted'`, then we retrieve the $k_\\perp$ and $k_\\parallel$ bins weighted by the number of modes used to compute each value."
   ]
  },
  {
   "cell_type": "markdown",
   "metadata": {},
   "source": [
    "The resulting array is $W(b,\\tau,k_\\perp,k_\\parallel)$ and has shape (Ndlys, Nkperp, Nkpara)."
   ]
  },
  {
   "cell_type": "code",
   "execution_count": 31,
   "metadata": {},
   "outputs": [
    {
     "data": {
      "text/plain": [
       "(20, 16, 18)"
      ]
     },
     "execution_count": 31,
     "metadata": {},
     "output_type": "execute_result"
    }
   ],
   "source": [
    "cyl_wf.shape"
   ]
  },
  {
   "cell_type": "code",
   "execution_count": 33,
   "metadata": {},
   "outputs": [
    {
     "data": {
      "text/plain": [
       "Text(0.5, 1.0, '$(b,\\\\tau)=(38.6 ~\\\\mathrm{m},2048 ~\\\\mathrm{ns})$')"
      ]
     },
     "execution_count": 33,
     "metadata": {},
     "output_type": "execute_result"
    },
    {
     "data": {
      "image/png": "[encoded data removed]",
      "text/plain": [
       "<Figure size 432x288 with 1 Axes>"
      ]
     },
     "metadata": {
      "needs_background": "light"
     },
     "output_type": "display_data"
    }
   ],
   "source": [
    "it = 6\n",
    "\n",
    "plt.figure()\n",
    "plt.imshow(cyl_wf[it,:,:],extent=(kpara.min(),kpara.max(),kperp.max(),kperp.min()),aspect='auto')\n",
    "kpara_centre = cosmo.tau_to_kpara(uvw.avg_z,little_h=uvw.little_h)*abs(uvw.dly_array[it]) \n",
    "kperp_centre = cosmo.bl_to_kperp(uvw.avg_z,little_h=uvw.little_h)*lens[ib]\n",
    "plt.axvline(kpara_centre,color='r');plt.axhline(kperp_centre,color='r')\n",
    "plt.ylabel(r'$k_{\\perp}$ [h~Mpc$^{-1}$]'); plt.xlabel(r'$k_{\\parallel}$ [h~Mpc$^{-1}$]')\n",
    "plt.title(r'$(b,\\tau)=(%.1f ~\\mathrm{m},%i ~\\mathrm{ns})$' %(lens[ib],abs(uvw.dly_array[it])*1e9))"
   ]
  },
  {
   "cell_type": "markdown",
   "metadata": {},
   "source": [
    "The cylindrical window functions can then be averaged to obtain the spherical ones:"
   ]
  },
  {
   "cell_type": "code",
   "execution_count": 35,
   "metadata": {},
   "outputs": [
    {
     "name": "stderr",
     "output_type": "stream",
     "text": [
      "Some spherical bins are empty. Add baselines or expand spectral window.\n"
     ]
    }
   ],
   "source": [
    "# compute the gride of $k$ magnitudes covered by the array\n",
    "ktot = np.sqrt(kperp[:, None]**2+kpara**2)\n",
    "# and average\n",
    "sph_wf2, _ = uvw.cylindrical_to_spherical(cyl_wf[None], kbins, ktot, bl_lens)"
   ]
  },
  {
   "cell_type": "markdown",
   "metadata": {},
   "source": [
    "We retrieve the same result as before:"
   ]
  },
  {
   "cell_type": "code",
   "execution_count": 36,
   "metadata": {},
   "outputs": [
    {
     "data": {
      "text/plain": [
       "Text(0, 0.5, '$W(k)$')"
      ]
     },
     "execution_count": 36,
     "metadata": {},
     "output_type": "execute_result"
    },
    {
     "data": {
      "image/png": "[encoded data removed]",
      "text/plain": [
       "<Figure size 432x288 with 1 Axes>"
      ]
     },
     "metadata": {
      "needs_background": "light"
     },
     "output_type": "display_data"
    }
   ],
   "source": [
    "plt.plot(kbins.value,sph_wf[2,:])\n",
    "plt.plot(kbins.value,sph_wf2[2,:],ls='--')\n",
    "plt.xlabel(r'$k~h\\mathrm{Mpc}^{-1}$'); plt.ylabel(r'$W(k)$')"
   ]
  },
  {
   "cell_type": "markdown",
   "metadata": {},
   "source": [
    "## Other options"
   ]
  },
  {
   "cell_type": "markdown",
   "metadata": {},
   "source": [
    "### Initialise UVWindow from UVPSpec object"
   ]
  },
  {
   "cell_type": "markdown",
   "metadata": {},
   "source": [
    "Let's first obtain a `UVPSPec` object"
   ]
  },
  {
   "cell_type": "markdown",
   "metadata": {},
   "source": [
    "Initialise UVData object"
   ]
  },
  {
   "cell_type": "code",
   "execution_count": 37,
   "metadata": {},
   "outputs": [
    {
     "name": "stderr",
     "output_type": "stream",
     "text": [
      "Fixing auto-correlations to be be real-only, after some imaginary values were detected in data_array.\n"
     ]
    }
   ],
   "source": [
    "datafile = os.path.join(DATA_PATH, dfile)\n",
    "uvd = UVData()\n",
    "uvd.read_uvh5(datafile)"
   ]
  },
  {
   "cell_type": "markdown",
   "metadata": {},
   "source": [
    "Load beam"
   ]
  },
  {
   "cell_type": "code",
   "execution_count": 38,
   "metadata": {},
   "outputs": [],
   "source": [
    "# List of beamfile to load. This is a healpix map.\n",
    "beamfile = os.path.join(DATA_PATH, 'HERA_NF_dipole_power.beamfits')\n",
    "# intantiate beam and pass cosmology, if not fed, a default Planck cosmology will be assumed\n",
    "uvb = hp.pspecbeam.PSpecBeamUV(beamfile, cosmo=None)\n",
    "# find conversion factor from Jy to mK\n",
    "Jy_to_mK = uvb.Jy_to_mK(np.unique(uvd.freq_array), pol=pol)\n",
    "# reshape to appropriately match a UVData.data_array object and multiply in!\n",
    "uvd.data_array *= Jy_to_mK[None, None, :, None]"
   ]
  },
  {
   "cell_type": "markdown",
   "metadata": {},
   "source": [
    "Create data set to cross-correlate"
   ]
  },
  {
   "cell_type": "code",
   "execution_count": 39,
   "metadata": {},
   "outputs": [],
   "source": [
    "# Create a new PSpecData object, and don't forget to feed the beam object\n",
    "ds = hp.PSpecData(dsets=[uvd, uvd], wgts=[None, None], beam=uvb)"
   ]
  },
  {
   "cell_type": "markdown",
   "metadata": {},
   "source": [
    "Choose parameters to compute the power spectrum:"
   ]
  },
  {
   "cell_type": "code",
   "execution_count": 40,
   "metadata": {},
   "outputs": [],
   "source": [
    "baselines = [uvd.baseline_to_antnums(bl) for bl in [uvd.baseline_array[0]]]\n",
    "baselines1, baselines2, blpairs = hp.utils.construct_blpairs(baselines,exclude_permutations=False)"
   ]
  },
  {
   "cell_type": "code",
   "execution_count": 41,
   "metadata": {},
   "outputs": [
    {
     "name": "stderr",
     "output_type": "stream",
     "text": [
      "Casting complex values to real discards the imaginary part\n"
     ]
    }
   ],
   "source": [
    "uvp = ds.pspec(baselines1, baselines2, dsets=(0, 1), pols=[(pol, pol)], spw_ranges=(175,195), \n",
    "               taper='blackman-harris',verbose=False)"
   ]
  },
  {
   "cell_type": "markdown",
   "metadata": {},
   "source": [
    "Initialise `UVWindow` object from `uvp` -- the `FTBeam` object required to initialise `UVWindow` will be internally computed."
   ]
  },
  {
   "cell_type": "code",
   "execution_count": 43,
   "metadata": {
    "scrolled": true
   },
   "outputs": [],
   "source": [
    "uvw_ps = UVWindow.from_uvpspec(uvp, ftfile=base_ftfile, ipol=0, spw=0,\n",
    "                               x_orientation=uvd.x_orientation, verbose=True)"
   ]
  },
  {
   "cell_type": "markdown",
   "metadata": {},
   "source": [
    "The properties of the `UVPSpec` object are parsed to the `UVWindow` object."
   ]
  },
  {
   "cell_type": "code",
   "execution_count": 44,
   "metadata": {},
   "outputs": [
    {
     "data": {
      "text/plain": [
       "('blackman-harris', 'blackman-harris')"
      ]
     },
     "execution_count": 44,
     "metadata": {},
     "output_type": "execute_result"
    }
   ],
   "source": [
    "uvp.taper,uvw_ps.taper"
   ]
  },
  {
   "cell_type": "code",
   "execution_count": 45,
   "metadata": {},
   "outputs": [
    {
     "data": {
      "text/plain": [
       "(1515, ('xx', 'xx'))"
      ]
     },
     "execution_count": 45,
     "metadata": {},
     "output_type": "execute_result"
    }
   ],
   "source": [
    "uvp.polpair_array[0], uvw_ps.pols"
   ]
  },
  {
   "cell_type": "markdown",
   "metadata": {},
   "source": [
    "Then, we can use the module functions as before:"
   ]
  },
  {
   "cell_type": "code",
   "execution_count": 46,
   "metadata": {},
   "outputs": [
    {
     "name": "stdout",
     "output_type": "stream",
     "text": [
      "\r",
      "Computing for blg 1 of 1...\r",
      "Computing for blg 1 of 1... \n"
     ]
    },
    {
     "name": "stderr",
     "output_type": "stream",
     "text": [
      "Max spherical k probed is not included in bins.\n",
      "Some spherical bins are empty. Add baselines or expand spectral window.\n"
     ]
    }
   ],
   "source": [
    "sph_wf3,_=uvw_ps.get_spherical_wf(kbins,\n",
    "                               kperp_bins=None,kpara_bins=None,\n",
    "                               bl_lens = bl_lens,\n",
    "                               return_weights = True,\n",
    "                               verbose = True)"
   ]
  },
  {
   "cell_type": "code",
   "execution_count": 47,
   "metadata": {},
   "outputs": [
    {
     "data": {
      "text/plain": [
       "Text(0, 0.5, '$W(k)$')"
      ]
     },
     "execution_count": 47,
     "metadata": {},
     "output_type": "execute_result"
    },
    {
     "data": {
      "image/png": "[encoded data removed]",
      "text/plain": [
       "<Figure size 432x288 with 1 Axes>"
      ]
     },
     "metadata": {
      "needs_background": "light"
     },
     "output_type": "display_data"
    }
   ],
   "source": [
    "plt.plot(kbins.value,sph_wf[2,:])\n",
    "plt.plot(kbins.value,sph_wf3[2,:],ls='--')\n",
    "plt.xlabel(r'$k~h\\mathrm{Mpc}^{-1}$'); plt.ylabel(r'$W(k)$')"
   ]
  },
  {
   "cell_type": "markdown",
   "metadata": {},
   "source": [
    "### Compute cylindrical window functions and save"
   ]
  },
  {
   "cell_type": "code",
   "execution_count": 50,
   "metadata": {},
   "outputs": [],
   "source": [
    "uvw = UVWindow(ftbeam_obj = ftbeam,\n",
    "               taper = 'blackman-harris',\n",
    "               cosmo=cosmo,\n",
    "               little_h=little_h,\n",
    "               verbose=True)"
   ]
  },
  {
   "cell_type": "code",
   "execution_count": 54,
   "metadata": {},
   "outputs": [
    {
     "name": "stdout",
     "output_type": "stream",
     "text": [
      "True\n"
     ]
    }
   ],
   "source": [
    "uvw.run_and_write(filepath=os.path.join(DATA_PATH, 'test.h5py'),\n",
    "                  bl_lens = bl_lens,\n",
    "                  kperp_bins=None,kpara_bins=None,\n",
    "                  clobber=True)\n",
    "print(os.path.isfile(os.path.join(DATA_PATH, 'test.h5py')))"
   ]
  },
  {
   "cell_type": "code",
   "execution_count": 55,
   "metadata": {},
   "outputs": [],
   "source": [
    "os.remove(os.path.join(DATA_PATH, 'test.h5py'))"
   ]
  },
  {
   "cell_type": "code",
   "execution_count": null,
   "metadata": {},
   "outputs": [],
   "source": []
  }
 ],
 "metadata": {
  "kernelspec": {
   "display_name": "Python 3 (ipykernel)",
   "language": "python",
   "name": "python3"
  },
  "language_info": {
   "codemirror_mode": {
    "name": "ipython",
    "version": 3
   },
   "file_extension": ".py",
   "mimetype": "text/x-python",
   "name": "python",
   "nbconvert_exporter": "python",
   "pygments_lexer": "ipython3",
   "version": "3.9.7"
  }
 },
 "nbformat": 4,
 "nbformat_minor": 4
}
