{
 "cells": [
  {
   "cell_type": "markdown",
   "metadata": {},
   "source": [
    "In this notebook, I demonstrate the efficacy of inverse sinc weighting in subtracting foreground side-lobes associated with flagged channels.  "
   ]
  },
  {
   "cell_type": "code",
   "execution_count": 1,
   "metadata": {
    "ExecuteTime": {
     "end_time": "2019-07-02T04:53:22.495717Z",
     "start_time": "2019-07-02T04:53:21.203823Z"
    }
   },
   "outputs": [],
   "source": [
    "%matplotlib inline\n",
    "from pyuvdata import UVData\n",
    "import hera_pspec as hp\n",
    "import numpy as np\n",
    "import matplotlib.pyplot as plt\n",
    "import copy, os, itertools, inspect\n",
    "from hera_pspec.data import DATA_PATH\n",
    "from hera_sim.simulate import Simulator\n",
    "import hera_sim\n",
    "from hera_sim import noise\n",
    "import hera_pspec as hp"
   ]
  },
  {
   "cell_type": "markdown",
   "metadata": {},
   "source": [
    "I perform this demonstrating on simulated visibilities generated using `hera_sim`"
   ]
  },
  {
   "cell_type": "code",
   "execution_count": 2,
   "metadata": {
    "ExecuteTime": {
     "end_time": "2019-07-02T04:53:23.361808Z",
     "start_time": "2019-07-02T04:53:22.498713Z"
    }
   },
   "outputs": [],
   "source": [
    "dfile = os.path.join(DATA_PATH, 'zen.all.xx.LST.1.06964.uvA')\n",
    "simulated_data = Simulator(dfile)\n",
    "simulated_eor = Simulator(dfile)\n",
    "\n",
    "simulated_data.data.data_array[:] = 0.+0j\n",
    "simulated_eor.data.data_array[:] = 0.+0j"
   ]
  },
  {
   "cell_type": "markdown",
   "metadata": {},
   "source": [
    "First, I generate some random flags inside of the spectral windows I will be analyzing. These flags should generate nasty frequency side-lobes that will make any attempats at detecting the EoR in an unfiltered delay-transform power spectrum futile. "
   ]
  },
  {
   "cell_type": "code",
   "execution_count": 3,
   "metadata": {
    "ExecuteTime": {
     "end_time": "2019-07-02T04:53:23.368122Z",
     "start_time": "2019-07-02T04:53:23.364069Z"
    }
   },
   "outputs": [],
   "source": [
    "nflags = 15\n",
    "for i in range(nflags):\n",
    "    ind1 = np.random.randint(300,400)\n",
    "    ind2 = np.random.randint(600,721)\n",
    "    simulated_data.data.flag_array[:,:,ind1,:] = True\n",
    "    simulated_data.data.flag_array[:,:,ind2,:] = True\n",
    "    \n",
    "    simulated_eor.data.flag_array[:,:,ind1,:] = True\n",
    "    simulated_eor.data.flag_array[:,:,ind2,:] = True"
   ]
  },
  {
   "cell_type": "markdown",
   "metadata": {},
   "source": [
    "Here, I generate visibilities that only contain foregrounds and the EoR signal but no thermal noise. "
   ]
  },
  {
   "cell_type": "code",
   "execution_count": 4,
   "metadata": {
    "ExecuteTime": {
     "end_time": "2019-07-02T04:53:25.088657Z",
     "start_time": "2019-07-02T04:53:23.371139Z"
    }
   },
   "outputs": [],
   "source": [
    "Tsky_mdl = noise.HERA_Tsky_mdl['xx']\n",
    "\n",
    "\n",
    "fg_model = lambda lsts, fqs, bl_vec: hera_sim.foregrounds.diffuse_foreground(lsts, fqs, bl_vec, Tsky_mdl)\\\n",
    "                                    +hera_sim.foregrounds.pntsrc_foreground(lsts, fqs, bl_vec)\n",
    "\n",
    "noise_model = lambda lsts, fqs: noise.thermal_noise(lsts, fqs, Tsky_mdl)\n",
    "\n",
    "eor_model = lambda lsts, fqs, bl_vec: hera_sim.eor.noiselike_eor(lsts, fqs, bl_vec, eor_amp = 3e-2)\n",
    "\n",
    "simulated_eor.add_eor(eor_model)\n",
    "simulated_data.data.data_array = copy.copy(simulated_eor.data.data_array)\n",
    "\n",
    "\n",
    "simulated_data.add_foregrounds(fg_model)\n",
    "\n",
    "uvd = simulated_data.data\n",
    "uvd_eor = simulated_eor.data"
   ]
  },
  {
   "cell_type": "markdown",
   "metadata": {},
   "source": [
    "## Set up our dspec object."
   ]
  },
  {
   "cell_type": "markdown",
   "metadata": {},
   "source": [
    "Now that we have simulated visibilities, I define a cosmology and load up a beam file, and split the data into even and odd time steps, scale to mK units and create a delay spectrum object."
   ]
  },
  {
   "cell_type": "code",
   "execution_count": 5,
   "metadata": {
    "ExecuteTime": {
     "end_time": "2019-07-02T04:53:25.191752Z",
     "start_time": "2019-07-02T04:53:25.091810Z"
    }
   },
   "outputs": [
    {
     "name": "stdout",
     "output_type": "stream",
     "text": [
      "Warning: taking power spectra between LST bins misaligned by more than 15 seconds\n",
      "Warning: taking power spectra between LST bins misaligned by more than 15 seconds\n"
     ]
    }
   ],
   "source": [
    "# Instantiate a Cosmo Conversions object\n",
    "# we will need this cosmology to put the power spectra into cosmological units\n",
    "cosmo = hp.conversions.Cosmo_Conversions()\n",
    "\n",
    "# List of beamfile to load. This is a healpix map.\n",
    "beamfile = os.path.join(DATA_PATH, 'HERA_NF_dipole_power.beamfits')\n",
    "\n",
    "# intantiate beam and pass cosmology, if not fed, a default Planck cosmology will be assumed\n",
    "uvb = hp.pspecbeam.PSpecBeamUV(beamfile, cosmo=cosmo)\n",
    "\n",
    "\n",
    "# find conversion factor from Jy to mK\n",
    "Jy_to_mK = uvb.Jy_to_mK(np.unique(uvd.freq_array), pol='XX')\n",
    "\n",
    "\n",
    "# reshape to appropriately match a UVData.data_array object and multiply in!\n",
    "uvd.data_array *= Jy_to_mK[None, None, :, None]\n",
    "uvd_eor.data_array *= Jy_to_mK[None, None, :, None]\n",
    "\n",
    "# slide the time axis of uvd by one integration\n",
    "uvd1 = uvd.select(times=np.unique(uvd.time_array)[:-1:2], inplace=False)\n",
    "uvd2 = uvd.select(times=np.unique(uvd.time_array)[1::2], inplace=False)\n",
    "\n",
    "\n",
    "uvd_eor1 = uvd_eor.select(times=np.unique(uvd_eor.time_array)[:-1:2], inplace=False)\n",
    "uvd_eor2 = uvd_eor.select(times=np.unique(uvd_eor.time_array)[1::2], inplace=False)\n",
    "\n",
    "\n",
    "# Create a new PSpecData object, and don't forget to feed the beam object\n",
    "ds = hp.PSpecData(dsets=[uvd1, uvd2], wgts=[None, None], beam=uvb)\n",
    "ds_eor = hp.PSpecData(dsets=[uvd_eor1, uvd_eor2], wgts=[None, None], beam=uvb)\n",
    "\n",
    "\n",
    "# Because the LST integrations are offset by more than ~15 seconds we will get a warning\n",
    "# but this is okay b/c it is still **significantly** less than the beam-crossing time and we are using short\n",
    "# baselines...\n",
    "\n",
    "# here we phase all datasets in dsets to the zeroth dataset\n",
    "ds.rephase_to_dset(0)\n",
    "ds_eor.rephase_to_dset(0)\n",
    "\n",
    "# change units of UVData objects\n",
    "ds.dsets[0].vis_units = 'mK'\n",
    "ds.dsets[1].vis_units = 'mK'\n",
    "\n",
    "ds_eor.dsets[0].vis_units = 'mK'\n",
    "ds_eor.dsets[1].vis_units = 'mK'\n",
    "\n",
    "# Specify which baselines to include\n",
    "baselines = [(24,25), (37,38), (38,39)]\n",
    "\n"
   ]
  },
  {
   "cell_type": "markdown",
   "metadata": {},
   "source": [
    "### Construct an r_params dictionary."
   ]
  },
  {
   "cell_type": "markdown",
   "metadata": {},
   "source": [
    "`r_params` contains the centers, widths, and level of each filtering window. You will have to specify the centers, widths, and degree to which you want to filter each baseline in delay with a dictionary constructed in the manner shown below. "
   ]
  },
  {
   "cell_type": "code",
   "execution_count": 6,
   "metadata": {
    "ExecuteTime": {
     "end_time": "2019-07-02T04:53:25.197024Z",
     "start_time": "2019-07-02T04:53:25.193647Z"
    }
   },
   "outputs": [],
   "source": [
    "\n",
    "rp = {'filter_centers':[0.],\n",
    "      'filter_widths':[250e-9],\n",
    "      'filter_factors':[1e-9]}\n",
    "    \n",
    "r_params = {}\n",
    "\n",
    "for bl in baselines:\n",
    "    key1 = (0,) + bl + ('xx',)\n",
    "    key2 = (1,) + bl + ('xx',)\n",
    "    r_params[key1] = rp\n",
    "    r_params[key2] = rp"
   ]
  },
  {
   "cell_type": "markdown",
   "metadata": {},
   "source": [
    "we include the filtering in power spectrum estimation using `input_data_weight='sinc_downweight'` and `r_params= r_params`."
   ]
  },
  {
   "cell_type": "code",
   "execution_count": 7,
   "metadata": {
    "ExecuteTime": {
     "end_time": "2019-07-02T04:53:34.089399Z",
     "start_time": "2019-07-02T04:53:25.198835Z"
    }
   },
   "outputs": [
    {
     "name": "stdout",
     "output_type": "stream",
     "text": [
      "Warning: taking power spectra between LST bins misaligned by more than 15 seconds\n",
      "\n",
      "Setting spectral range: (300, 400)\n",
      "\n",
      "Using polarization pair: ('xx', 'xx')\n",
      "\n",
      "(bl1, bl2) pair: ((24, 25), (24, 25))\n",
      "pol: (-5, -5)\n",
      "WARNING: Number of unflagged chans for key1 and/or key2 < n_dlys\n",
      " which may lead to normalization instabilities.\n",
      "  Building G...\n",
      "  Building q_hat...\n",
      "  Normalizing power spectrum...\n",
      "  Computing and multiplying scalar...\n",
      "\n",
      "(bl1, bl2) pair: ((37, 38), (37, 38))\n",
      "pol: (-5, -5)\n",
      "WARNING: Number of unflagged chans for key1 and/or key2 < n_dlys\n",
      " which may lead to normalization instabilities.\n",
      "  Building G...\n",
      "  Building q_hat...\n",
      "  Normalizing power spectrum...\n",
      "  Computing and multiplying scalar...\n",
      "\n",
      "(bl1, bl2) pair: ((38, 39), (38, 39))\n",
      "pol: (-5, -5)\n",
      "WARNING: Number of unflagged chans for key1 and/or key2 < n_dlys\n",
      " which may lead to normalization instabilities.\n",
      "  Building G...\n",
      "  Building q_hat...\n",
      "  Normalizing power spectrum...\n",
      "  Computing and multiplying scalar...\n",
      "\n",
      "Setting spectral range: (600, 721)\n",
      "\n",
      "Using polarization pair: ('xx', 'xx')\n",
      "\n",
      "(bl1, bl2) pair: ((24, 25), (24, 25))\n",
      "pol: (-5, -5)\n",
      "WARNING: Number of unflagged chans for key1 and/or key2 < n_dlys\n",
      " which may lead to normalization instabilities.\n",
      "  Building G...\n",
      "  Building q_hat...\n",
      "  Normalizing power spectrum...\n",
      "  Computing and multiplying scalar...\n",
      "\n",
      "(bl1, bl2) pair: ((37, 38), (37, 38))\n",
      "pol: (-5, -5)\n",
      "WARNING: Number of unflagged chans for key1 and/or key2 < n_dlys\n",
      " which may lead to normalization instabilities.\n",
      "  Building G...\n",
      "  Building q_hat...\n",
      "  Normalizing power spectrum...\n",
      "  Computing and multiplying scalar...\n",
      "\n",
      "(bl1, bl2) pair: ((38, 39), (38, 39))\n",
      "pol: (-5, -5)\n",
      "WARNING: Number of unflagged chans for key1 and/or key2 < n_dlys\n",
      " which may lead to normalization instabilities.\n",
      "  Building G...\n",
      "  Building q_hat...\n",
      "  Normalizing power spectrum...\n",
      "  Computing and multiplying scalar...\n"
     ]
    }
   ],
   "source": [
    "# we will use the baselines list to produce 3 power spectra\n",
    "# whose data will be drawn from the dsets[0] and dsets[1]\n",
    "# across two spectral windows with identity weighting and a blackman-harris taper\n",
    "uvp_isw = ds.pspec(baselines, baselines, (0, 1), [('xx', 'xx')], spw_ranges=[(300, 400), (600,721)], \n",
    "               norm='I', taper='none', verbose=True,\n",
    "               input_data_weight = 'sinc_downweight', r_params = r_params)"
   ]
  },
  {
   "cell_type": "markdown",
   "metadata": {},
   "source": [
    "We will compare the impact of filtering versus no filtering using with `uvp` and compare the filtered signal to the underlying 21cm signal in `uvp_eor`. "
   ]
  },
  {
   "cell_type": "code",
   "execution_count": 8,
   "metadata": {
    "ExecuteTime": {
     "end_time": "2019-07-02T04:53:42.259632Z",
     "start_time": "2019-07-02T04:53:34.091203Z"
    },
    "scrolled": false
   },
   "outputs": [
    {
     "name": "stdout",
     "output_type": "stream",
     "text": [
      "Warning: taking power spectra between LST bins misaligned by more than 15 seconds\n",
      "\n",
      "Setting spectral range: (300, 400)\n",
      "\n",
      "Using polarization pair: ('xx', 'xx')\n",
      "\n",
      "(bl1, bl2) pair: ((24, 25), (24, 25))\n",
      "pol: (-5, -5)\n",
      "WARNING: Number of unflagged chans for key1 and/or key2 < n_dlys\n",
      " which may lead to normalization instabilities.\n",
      "  Building G...\n",
      "  Building q_hat...\n",
      "  Normalizing power spectrum...\n",
      "  Computing and multiplying scalar...\n",
      "\n",
      "(bl1, bl2) pair: ((37, 38), (37, 38))\n",
      "pol: (-5, -5)\n",
      "WARNING: Number of unflagged chans for key1 and/or key2 < n_dlys\n",
      " which may lead to normalization instabilities.\n",
      "  Building G...\n",
      "  Building q_hat...\n",
      "  Normalizing power spectrum...\n",
      "  Computing and multiplying scalar...\n",
      "\n",
      "(bl1, bl2) pair: ((38, 39), (38, 39))\n",
      "pol: (-5, -5)\n",
      "WARNING: Number of unflagged chans for key1 and/or key2 < n_dlys\n",
      " which may lead to normalization instabilities.\n",
      "  Building q_hat...\n",
      "  Normalizing power spectrum...\n",
      "  Computing and multiplying scalar...\n",
      "\n",
      "Setting spectral range: (600, 721)\n",
      "\n",
      "Using polarization pair: ('xx', 'xx')\n",
      "\n",
      "(bl1, bl2) pair: ((24, 25), (24, 25))\n",
      "pol: (-5, -5)\n",
      "WARNING: Number of unflagged chans for key1 and/or key2 < n_dlys\n",
      " which may lead to normalization instabilities.\n",
      "  Building G...\n",
      "  Building q_hat...\n",
      "  Normalizing power spectrum...\n",
      "  Computing and multiplying scalar...\n",
      "\n",
      "(bl1, bl2) pair: ((37, 38), (37, 38))\n",
      "pol: (-5, -5)\n",
      "WARNING: Number of unflagged chans for key1 and/or key2 < n_dlys\n",
      " which may lead to normalization instabilities.\n",
      "  Building q_hat...\n",
      "  Normalizing power spectrum...\n",
      "  Computing and multiplying scalar...\n",
      "\n",
      "(bl1, bl2) pair: ((38, 39), (38, 39))\n",
      "pol: (-5, -5)\n",
      "WARNING: Number of unflagged chans for key1 and/or key2 < n_dlys\n",
      " which may lead to normalization instabilities.\n",
      "  Building q_hat...\n",
      "  Normalizing power spectrum...\n",
      "  Computing and multiplying scalar...\n",
      "Warning: taking power spectra between LST bins misaligned by more than 15 seconds\n",
      "\n",
      "Setting spectral range: (300, 400)\n",
      "\n",
      "Using polarization pair: ('xx', 'xx')\n",
      "\n",
      "(bl1, bl2) pair: ((24, 25), (24, 25))\n",
      "pol: (-5, -5)\n",
      "WARNING: Number of unflagged chans for key1 and/or key2 < n_dlys\n",
      " which may lead to normalization instabilities.\n",
      "  Building G...\n",
      "  Building q_hat...\n",
      "  Normalizing power spectrum...\n",
      "  Computing and multiplying scalar...\n",
      "\n",
      "(bl1, bl2) pair: ((37, 38), (37, 38))\n",
      "pol: (-5, -5)\n",
      "WARNING: Number of unflagged chans for key1 and/or key2 < n_dlys\n",
      " which may lead to normalization instabilities.\n",
      "  Building G...\n",
      "  Building q_hat...\n",
      "  Normalizing power spectrum...\n",
      "  Computing and multiplying scalar...\n",
      "\n",
      "(bl1, bl2) pair: ((38, 39), (38, 39))\n",
      "pol: (-5, -5)\n",
      "WARNING: Number of unflagged chans for key1 and/or key2 < n_dlys\n",
      " which may lead to normalization instabilities.\n",
      "  Building q_hat...\n",
      "  Normalizing power spectrum...\n",
      "  Computing and multiplying scalar...\n",
      "\n",
      "Setting spectral range: (600, 721)\n",
      "\n",
      "Using polarization pair: ('xx', 'xx')\n",
      "\n",
      "(bl1, bl2) pair: ((24, 25), (24, 25))\n",
      "pol: (-5, -5)\n",
      "WARNING: Number of unflagged chans for key1 and/or key2 < n_dlys\n",
      " which may lead to normalization instabilities.\n",
      "  Building G...\n",
      "  Building q_hat...\n",
      "  Normalizing power spectrum...\n",
      "  Computing and multiplying scalar...\n",
      "\n",
      "(bl1, bl2) pair: ((37, 38), (37, 38))\n",
      "pol: (-5, -5)\n",
      "WARNING: Number of unflagged chans for key1 and/or key2 < n_dlys\n",
      " which may lead to normalization instabilities.\n",
      "  Building q_hat...\n",
      "  Normalizing power spectrum...\n",
      "  Computing and multiplying scalar...\n",
      "\n",
      "(bl1, bl2) pair: ((38, 39), (38, 39))\n",
      "pol: (-5, -5)\n",
      "WARNING: Number of unflagged chans for key1 and/or key2 < n_dlys\n",
      " which may lead to normalization instabilities.\n",
      "  Building q_hat...\n",
      "  Normalizing power spectrum...\n",
      "  Computing and multiplying scalar...\n"
     ]
    }
   ],
   "source": [
    "# we will use the baselines list to produce 3 power spectra\n",
    "# whose data will be drawn from the dsets[0] and dsets[1]\n",
    "# across two spectral windows with identity weighting and a blackman-harris taper\n",
    "uvp = ds.pspec(baselines, baselines, (0, 1), [('xx', 'xx')], spw_ranges=[(300, 400), (600,721)], input_data_weight='identity',\n",
    "               norm='I', taper='none', verbose=True)\n",
    "\n",
    "uvp_eor = ds_eor.pspec(baselines, baselines, (0, 1), [('xx', 'xx')], spw_ranges=[(300, 400), (600,721)], input_data_weight='identity',\n",
    "               norm='I', taper='none', verbose=True)"
   ]
  },
  {
   "cell_type": "code",
   "execution_count": 9,
   "metadata": {
    "ExecuteTime": {
     "end_time": "2019-07-02T04:53:42.864389Z",
     "start_time": "2019-07-02T04:53:42.261403Z"
    }
   },
   "outputs": [
    {
     "data": {
      "text/plain": [
       "<matplotlib.legend.Legend at 0x126ea05c0>"
      ]
     },
     "execution_count": 9,
     "metadata": {},
     "output_type": "execute_result"
    },
    {
     "data": {
      "image/png": "[encoded data removed]",
      "text/plain": [
       "<Figure size 864x576 with 1 Axes>"
      ]
     },
     "metadata": {
      "needs_background": "light"
     },
     "output_type": "display_data"
    }
   ],
   "source": [
    "# plot power spectrum of spectral window 1\n",
    "fig, ax = plt.subplots(figsize=(12,8))\n",
    "\n",
    "plt.fill_between([-300,300],[1e-10,1e-10],[1e30,1e30],color='grey',alpha=.2)\n",
    "spw = 1\n",
    "blp =((24, 25), (24,25))\n",
    "key = (spw, blp, 'xx')\n",
    "dlys = uvp.get_dlys(spw) * 1e9\n",
    "power = np.abs(np.real(uvp.get_data(key)))\n",
    "power_isw = np.abs(np.real(uvp_isw.get_data(key)))\n",
    "power_eor = np.abs(np.real(uvp_eor.get_data(key)))\n",
    "\n",
    "p1 = ax.plot(dlys, power.mean(axis=0),label='Signal+Foregrounds')\n",
    "p2 = ax.plot(dlys, power_isw.mean(axis=0), label='Signal + Foregrounds Filtered')\n",
    "p2 = ax.plot(dlys, power_eor.mean(axis=0),label='Signal Only')\n",
    "\n",
    "ax.set_yscale('log')\n",
    "ax.grid()\n",
    "ax.set_xlabel(\"delay [ns]\", fontsize=14)\n",
    "ax.set_ylabel(r\"$P(k)\\ \\rm [mK^2\\ h^{-3}\\ Mpc^3]$\", fontsize=14)\n",
    "ax.set_title(\"spw : {}, blpair : {}, pol : {}\".format(*key), fontsize=14)\n",
    "plt.ylim(1e3,1e18)\n",
    "plt.legend(loc='best')"
   ]
  },
  {
   "cell_type": "markdown",
   "metadata": {},
   "source": [
    "The above plot demonstrates that `sinc_downweight` filtering is capable of removing foregrounds and their flagging side-lobes at high fidelity. "
   ]
  }
 ],
 "metadata": {
  "kernelspec": {
   "display_name": "Python 3",
   "language": "python",
   "name": "python3"
  },
  "language_info": {
   "codemirror_mode": {
    "name": "ipython",
    "version": 3
   },
   "file_extension": ".py",
   "mimetype": "text/x-python",
   "name": "python",
   "nbconvert_exporter": "python",
   "pygments_lexer": "ipython3",
   "version": "3.6.7"
  }
 },
 "nbformat": 4,
 "nbformat_minor": 2
}
