{
 "cells": [
  {
   "cell_type": "markdown",
   "metadata": {},
   "source": [
    "# `hera_pspec` 5/16/2018 Design Review Warmup\n",
    "\n",
    "HERA Power Spectrum Team\n",
    "<br>\n",
    "5/9/2018"
   ]
  },
  {
   "cell_type": "markdown",
   "metadata": {},
   "source": [
    "In order to facilitate a productive meeting, we want participants to have a basic familiarity with the software development in `hera_pspec`. To this end, we ask that you spend some time looking over the example problems provided below. In looking over these problems, you may find it helpful to read [our documentation](http://hera-pspec.readthedocs.io/en/latest/) and/or to look over our [tutorial notebooks](https://github.com/HERA-Team/hera_pspec/tree/master/examples).\n",
    "\n",
    "This notebook requires that you have installed the most up-to-date version of `hera_pspec`. See [our README](https://github.com/HERA-Team/hera_pspec) for installation instructions and dependencies."
   ]
  },
  {
   "cell_type": "code",
   "execution_count": 4,
   "metadata": {
    "collapsed": true
   },
   "outputs": [],
   "source": [
    "%matplotlib inline\n",
    "import hera_pspec as hp\n",
    "import matplotlib.pyplot as plt\n",
    "import numpy as np\n",
    "from hera_pspec.data import DATA_PATH\n",
    "from pyuvdata import UVData\n",
    "import os\n",
    "import glob"
   ]
  },
  {
   "cell_type": "markdown",
   "metadata": {},
   "source": [
    "## Task 1: Push data through to a basic delay spectra \n",
    "\n",
    "This task is to designed to simulate a basic power spectrum pipeline, from calibrated data to delay spectra in cosmological units."
   ]
  },
  {
   "cell_type": "markdown",
   "metadata": {},
   "source": [
    "### 1a: Load the data\n",
    "Start by loading in calibrated, RFI flagged and LST-binned visibility test data, `zen.all.xx.LST.1.06964.uvA`, into a `pyuvdata.UVData` object. This data can be accessed by constructing the path `os.path.join(DATA_PATH, <filename>)`."
   ]
  },
  {
   "cell_type": "code",
   "execution_count": null,
   "metadata": {
    "collapsed": true
   },
   "outputs": [],
   "source": []
  },
  {
   "cell_type": "markdown",
   "metadata": {},
   "source": [
    "### 1b: Define the cosmological model\n",
    "Next define the cosmological model you will use in this notebook by instantiating a `hera_pspec.conversions.Cosmo_Conversions()`."
   ]
  },
  {
   "cell_type": "code",
   "execution_count": null,
   "metadata": {
    "collapsed": true
   },
   "outputs": [],
   "source": []
  },
  {
   "cell_type": "markdown",
   "metadata": {},
   "source": [
    "### 1c: Choose a beam model\n",
    "Use the `NF_HERA_Beams.beamfits` file in the `DATA_PATH` for the beam model. You can load this in using the `hera_pspec.pspecbeam.PSpecBeamUV` object. *Don't forget to pass the cosmology object you instantiated previously through to the beam via the *`cosmo`* keyword-argument.*"
   ]
  },
  {
   "cell_type": "code",
   "execution_count": null,
   "metadata": {
    "collapsed": true
   },
   "outputs": [],
   "source": []
  },
  {
   "cell_type": "markdown",
   "metadata": {},
   "source": [
    "### 1d: Jy to mK conversion\n",
    "\n",
    "Use the beam object you instantiated to convert the units of the data in the `UVData` object from Janskies to milli-Kelvin. Don't forget to change the `vis_units` attribute of the `UVData` object to `mK`."
   ]
  },
  {
   "cell_type": "code",
   "execution_count": null,
   "metadata": {
    "collapsed": true
   },
   "outputs": [],
   "source": []
  },
  {
   "cell_type": "markdown",
   "metadata": {},
   "source": [
    "### 1e: Create a `PSpecData` object and run OQE\n",
    "\n",
    "Instantiate a `PSpecData` object, feeding the single `UVData` object as both the first and second dataset, and pass the beam model through via the `beam` keyword. Then run OQE to generate power spectra between baselines `(24, 25) & (37, 38)` with identity data weighting and `I` normalization. Choose a spectral window between channels 600 -- 700."
   ]
  },
  {
   "cell_type": "code",
   "execution_count": null,
   "metadata": {
    "collapsed": true
   },
   "outputs": [],
   "source": []
  },
  {
   "cell_type": "markdown",
   "metadata": {},
   "source": [
    "### 1f: Plot the power spectra\n",
    "\n",
    "Simple enough. (See `hera_pspec.plot` module for a plotting interface)."
   ]
  },
  {
   "cell_type": "code",
   "execution_count": null,
   "metadata": {
    "collapsed": true
   },
   "outputs": [],
   "source": []
  },
  {
   "cell_type": "markdown",
   "metadata": {},
   "source": [
    "### Bonus:"
   ]
  },
  {
   "cell_type": "markdown",
   "metadata": {},
   "source": [
    "### 1g: Run OQE on a set of redundant baselines\n",
    "\n",
    "Now generate multiple delay spectra by cross-multiplying baselines within a redundant group. To start, you may want to look at the `hera_pspec.pspecdata.construct_blpairs` function."
   ]
  },
  {
   "cell_type": "code",
   "execution_count": null,
   "metadata": {
    "collapsed": true
   },
   "outputs": [],
   "source": []
  },
  {
   "cell_type": "markdown",
   "metadata": {},
   "source": [
    "### 1h: Generate thermal noise estimates and add them to the plot\n",
    "We will soon have system temperature measurements from the LSTbinned data, but for now just assume $T_{\\rm sys} = 300\\rm\\ K$."
   ]
  },
  {
   "cell_type": "code",
   "execution_count": null,
   "metadata": {
    "collapsed": true
   },
   "outputs": [],
   "source": []
  },
  {
   "cell_type": "markdown",
   "metadata": {},
   "source": [
    "### 1i: Generate bootstrap error bars and add them to the plot"
   ]
  },
  {
   "cell_type": "code",
   "execution_count": null,
   "metadata": {
    "collapsed": true
   },
   "outputs": [],
   "source": []
  },
  {
   "cell_type": "code",
   "execution_count": null,
   "metadata": {
    "collapsed": true
   },
   "outputs": [],
   "source": []
  }
 ],
 "metadata": {
  "kernelspec": {
   "display_name": "Python 2",
   "language": "python",
   "name": "python2"
  },
  "language_info": {
   "codemirror_mode": {
    "name": "ipython",
    "version": 2
   },
   "file_extension": ".py",
   "mimetype": "text/x-python",
   "name": "python",
   "nbconvert_exporter": "python",
   "pygments_lexer": "ipython2",
   "version": "2.7.13"
  }
 },
 "nbformat": 4,
 "nbformat_minor": 2
}
