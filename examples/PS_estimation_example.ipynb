{
 "cells": [
  {
   "cell_type": "markdown",
   "metadata": {},
   "source": [
    "# Simple power spectrum estimation from an input dataset\n",
    "This example shows how to estimate the power spectrum from a set of data files using an Optimal Quadratic Estimator (OQE) approach."
   ]
  },
  {
   "cell_type": "code",
   "execution_count": 1,
   "metadata": {
    "collapsed": true
   },
   "outputs": [],
   "source": [
    "%matplotlib inline\n",
    "from pyuvdata import UVData\n",
    "import hera_pspec as hp\n",
    "import numpy as np\n",
    "import matplotlib.pyplot as plt\n",
    "import copy\n",
    "import os\n",
    "import itertools\n",
    "from funcsigs import signature\n",
    "from hera_pspec.data import DATA_PATH"
   ]
  },
  {
   "cell_type": "markdown",
   "metadata": {},
   "source": [
    "## Loading the input data: forming power spectra from adjacent time integrations\n",
    "\n",
    "The input data are specified as a list of `UVData` objects, which are then packaged into a `PSpecData` class. This class is responsible for collecting the data and covariances together and performing the OQE power spectrum estimation.\n",
    "\n",
    "At least two `UVData` objects must be specified, these could be different datasets, or just copies of a single dataset, given the use-case. In what follows, we will use only one data set and produce two copies of it, but will shift the second dataset by one time integration and interleave it relative to the first, such that we can form auto-baseline power spectra without noise-bias. "
   ]
  },
  {
   "cell_type": "code",
   "execution_count": 2,
   "metadata": {
    "collapsed": false
   },
   "outputs": [
    {
     "name": "stdout",
     "output_type": "stream",
     "text": [
      "[(24, 24), (24, 25), (24, 37), (24, 38), (24, 39), (25, 25), (25, 37), (25, 38), (25, 39), (37, 37), (37, 38), (37, 39), (38, 38), (38, 39), (39, 39)]\n"
     ]
    }
   ],
   "source": [
    "# select the data file to load\n",
    "dfile = os.path.join(DATA_PATH, 'zen.all.xx.LST.1.06964.uvA')\n",
    "\n",
    "# Load into UVData objects\n",
    "uvd = UVData()\n",
    "uvd.read_miriad(dfile)\n",
    "\n",
    "# Check which baselines are available\n",
    "print(uvd.get_antpairs())"
   ]
  },
  {
   "cell_type": "markdown",
   "metadata": {},
   "source": [
    "## Define a cosmology\n",
    "\n",
    "Here we will instantiate a `hera_pspec.conversions.Cosmo_Conversions` object that will define the cosmology we adopt throughout this notebook. **All calculations that depend on a cosmology will be tied to the one we adopt here: the various objects in `hera_pspec` will pass this specific object between themselves, which starts by attaching the cosmology to a `PSpecBeamUV` object.** Further on in the notebook, we will see how we can explicitly overwrite the adopted cosmology and appropriately re-calculate the necessary variables."
   ]
  },
  {
   "cell_type": "code",
   "execution_count": 3,
   "metadata": {
    "collapsed": false
   },
   "outputs": [
    {
     "name": "stdout",
     "output_type": "stream",
     "text": [
      "Cosmo_Conversions object at <0x122f5e250>\n",
      "Om_L : 0.6844; Om_b : 0.0491; Om_c : 0.2644; Om_M : 0.3135; Om_k : 0.0021; H0 : 67.2700\n"
     ]
    }
   ],
   "source": [
    "# Instantiate a Cosmo Conversions object\n",
    "# we will need this cosmology to put the power spectra into cosmological units\n",
    "cosmo = hp.conversions.Cosmo_Conversions()\n",
    "print(cosmo)\n"
   ]
  },
  {
   "cell_type": "markdown",
   "metadata": {},
   "source": [
    "Instantiate a beam object, and attach the cosmo conversions object onto it."
   ]
  },
  {
   "cell_type": "code",
   "execution_count": null,
   "metadata": {
    "collapsed": true
   },
   "outputs": [],
   "source": [
    "# List of beamfile to load. This is a healpix map.\n",
    "beamfile = os.path.join(DATA_PATH, 'HERA_NF_dipole_power.beamfits')\n",
    "\n",
    "# intantiate beam and pass cosmology, if not fed, a default Planck cosmology will be assumed\n",
    "uvb = hp.pspecbeam.PSpecBeamUV(beamfile, cosmo=cosmo)\n",
    "from pyuvdata import UVBeam, utils as uvutils\n",
    "pol_array =  uvb.primary_beam.polarization_array\n",
    "pol= uvutils.polstr2num('yy')\n",
    "stokes_p_ind = np.where(np.isin(pol_array, pol))[0][0]\n",
    "print stokes_p_ind\n",
    "print np.shape(uvb.primary_beam.data_array)\n",
    "freq = np.linspace(120*1e6,150*1e6,500)\n",
    "beam_res = uvb.primary_beam._interp_freq(freq)"
   ]
  },
  {
   "cell_type": "code",
   "execution_count": 27,
   "metadata": {
    "collapsed": false
   },
   "outputs": [
    {
     "name": "stdout",
     "output_type": "stream",
     "text": [
      "(1, 1, 4, 500, 12288)\n"
     ]
    }
   ],
   "source": [
    "print np.shape(beam_res[0])"
   ]
  },
  {
   "cell_type": "markdown",
   "metadata": {},
   "source": [
    "Next convert from Jy units to mK. This involves calculating the effective beam area (see HERA Memo #27 and #43), which can be done with the beam object we instantiated earlier."
   ]
  },
  {
   "cell_type": "code",
   "execution_count": 5,
   "metadata": {
    "collapsed": false
   },
   "outputs": [],
   "source": [
    "# find conversion factor from Jy to mK\n",
    "Jy_to_mK = uvb.Jy_to_mK(np.unique(uvd.freq_array), pol='XX')\n",
    "\n",
    "# reshape to appropriately match a UVData.data_array object and multiply in!\n",
    "uvd.data_array *= Jy_to_mK[None, None, :, None]"
   ]
  },
  {
   "cell_type": "markdown",
   "metadata": {},
   "source": [
    "Configure data and instantiate a `PSpecData` object, while also feeding in the beam object."
   ]
  },
  {
   "cell_type": "code",
   "execution_count": 6,
   "metadata": {
    "collapsed": false
   },
   "outputs": [
    {
     "name": "stdout",
     "output_type": "stream",
     "text": [
      "\n",
      "Setting spectral range: (600, 700)\n",
      "\n",
      "Using polarization pair: ('xx', 'xx')\n",
      "\n",
      "(bl1, bl2) pair: ((24, 25), (24, 25))\n",
      "pol: (-5, -5)\n",
      "  Building G...\n",
      "  Building q_hat...\n",
      "  Computing and multiplying scalar...\n",
      "  Normalizing power spectrum...\n"
     ]
    }
   ],
   "source": [
    "# slide the time axis of uvd by one integration\n",
    "uvd1 = uvd.select(times=np.unique(uvd.time_array)[:-1:2], inplace=False)\n",
    "uvd2 = uvd.select(times=np.unique(uvd.time_array)[1::2], inplace=False)\n",
    "\n",
    "# Create a new PSpecData object, and don't forget to feed the beam object\n",
    "beamfile_Q = os.path.join(DATA_PATH, 'Gaussian_beam_freq_0.beamfits')\n",
    "bm_Q  = hp.pspecbeam.PSpecBeamUV(beamfile_Q)\n",
    "bls   = [(24, 25)] \n",
    "spw_ranges=[(600, 700)]\n",
    "ds_Q  = hp.pspecdata.PSpecData(dsets=[uvd, uvd], wgts=[None, None],beam=bm_Q, labels=['red', 'blue'])\n",
    "uvp = ds_Q.pspec(bls, bls, (0, 1), [('xx', 'xx')], spw_ranges=spw_ranges, input_data_weight='identity',\n",
    "                                       norm='I', taper='none', verbose=True, exact_norm=False)\n",
    "\n",
    "\n",
    "#print ds_Q.spw_range\n",
    "#print ds_Q.delays()[0]\n",
    "\n",
    "#Q_sample = ds_Q.get_Q(0) #Get Q matrix for 0th delay mode                                                                                             \n",
    "#np.testing.assert_equal(np.shape(Q_sample), (spw_ranges[0][1] - spw_ranges[0][0], spw_ranges[0][1] - spw_ranges[0][0])) #Check for the right shape"
   ]
  },
  {
   "cell_type": "code",
   "execution_count": 7,
   "metadata": {
    "collapsed": false
   },
   "outputs": [
    {
     "name": "stdout",
     "output_type": "stream",
     "text": [
      "\n",
      "Setting spectral range: (0, 64)\n",
      "\n",
      "Using polarization pair: ('xx', 'xx')\n",
      "\n",
      "(bl1, bl2) pair: ((25, 39), (25, 39))\n",
      "pol: (-5, -5)\n",
      "WARNING: Number of unflagged chans for key1 and/or key2 < n_dlys\n",
      " which may lead to normalization instabilities.\n",
      "  Building G...\n",
      "  Building q_hat...\n"
     ]
    },
    {
     "ename": "TypeError",
     "evalue": "tuple indices must be integers, not tuple",
     "output_type": "error",
     "traceback": [
      "\u001b[0;31m---------------------------------------------------------------------------\u001b[0m",
      "\u001b[0;31mTypeError\u001b[0m                                 Traceback (most recent call last)",
      "\u001b[0;32m<ipython-input-7-a55e15cc6bdd>\u001b[0m in \u001b[0;36m<module>\u001b[0;34m()\u001b[0m\n\u001b[1;32m      9\u001b[0m \u001b[0;34m\u001b[0m\u001b[0m\n\u001b[1;32m     10\u001b[0m uvp_new = ds_t.pspec([bl1_Q], [bl2_Q], (0, 1), [('xx', 'xx')], input_data_weight='identity',\n\u001b[0;32m---> 11\u001b[0;31m                                norm='I', taper='none', verbose=True, exact_norm=True)\n\u001b[0m\u001b[1;32m     12\u001b[0m uvp_ext = ds_t.pspec([bl1_Q], [bl2_Q], (0, 1), [('xx', 'xx')], input_data_weight='identity',\n\u001b[1;32m     13\u001b[0m                                norm='I', taper='none', verbose=True, exact_norm=False)\n",
      "\u001b[0;32m/Library/Python/2.7/site-packages/hera_pspec-0.1.0-py2.7.egg/hera_pspec/pspecdata.pyc\u001b[0m in \u001b[0;36mpspec\u001b[0;34m(self, bls1, bls2, dsets, pols, n_dlys, input_data_weight, norm, taper, sampling, little_h, spw_ranges, store_cov, exact_norm, verbose, history)\u001b[0m\n\u001b[1;32m   2315\u001b[0m                     \u001b[0;31m# Calculate unnormalized bandpowers\u001b[0m\u001b[0;34m\u001b[0m\u001b[0;34m\u001b[0m\u001b[0m\n\u001b[1;32m   2316\u001b[0m                     \u001b[0;32mif\u001b[0m \u001b[0mverbose\u001b[0m\u001b[0;34m:\u001b[0m \u001b[0;32mprint\u001b[0m\u001b[0;34m(\u001b[0m\u001b[0;34m\"  Building q_hat...\"\u001b[0m\u001b[0;34m)\u001b[0m\u001b[0;34m\u001b[0m\u001b[0m\n\u001b[0;32m-> 2317\u001b[0;31m                     \u001b[0mqv\u001b[0m \u001b[0;34m=\u001b[0m \u001b[0mself\u001b[0m\u001b[0;34m.\u001b[0m\u001b[0mq_hat\u001b[0m\u001b[0;34m(\u001b[0m\u001b[0mkey1\u001b[0m\u001b[0;34m,\u001b[0m \u001b[0mkey2\u001b[0m\u001b[0;34m,\u001b[0m \u001b[0mexact_norm\u001b[0m\u001b[0;34m=\u001b[0m\u001b[0mexact_norm\u001b[0m\u001b[0;34m)\u001b[0m\u001b[0;34m\u001b[0m\u001b[0m\n\u001b[0m\u001b[1;32m   2318\u001b[0m \u001b[0;34m\u001b[0m\u001b[0m\n\u001b[1;32m   2319\u001b[0m                     \u001b[0;31m# Multiply by scalar\u001b[0m\u001b[0;34m\u001b[0m\u001b[0;34m\u001b[0m\u001b[0m\n",
      "\u001b[0;32m/Library/Python/2.7/site-packages/hera_pspec-0.1.0-py2.7.egg/hera_pspec/pspecdata.pyc\u001b[0m in \u001b[0;36mq_hat\u001b[0;34m(self, key1, key2, allow_fft, exact_norm)\u001b[0m\n\u001b[1;32m   1011\u001b[0m                 \u001b[0;31m# Ideally, del_tau should be part of get_Q. We use it here to\u001b[0m\u001b[0;34m\u001b[0m\u001b[0;34m\u001b[0m\u001b[0m\n\u001b[1;32m   1012\u001b[0m                 \u001b[0;31m# avoid its repeated computation\u001b[0m\u001b[0;34m\u001b[0m\u001b[0;34m\u001b[0m\u001b[0m\n\u001b[0;32m-> 1013\u001b[0;31m                 \u001b[0mQ\u001b[0m \u001b[0;34m=\u001b[0m \u001b[0mdel_tau\u001b[0m \u001b[0;34m*\u001b[0m \u001b[0mself\u001b[0m\u001b[0;34m.\u001b[0m\u001b[0mget_Q\u001b[0m\u001b[0;34m(\u001b[0m\u001b[0mi\u001b[0m\u001b[0;34m)\u001b[0m\u001b[0;34m\u001b[0m\u001b[0m\n\u001b[0m\u001b[1;32m   1014\u001b[0m                 \u001b[0mQ_matrix_all_delays\u001b[0m\u001b[0;34m[\u001b[0m\u001b[0mi\u001b[0m\u001b[0;34m]\u001b[0m \u001b[0;34m=\u001b[0m \u001b[0mQ\u001b[0m\u001b[0;34m\u001b[0m\u001b[0m\n\u001b[1;32m   1015\u001b[0m                 \u001b[0mQRx2\u001b[0m \u001b[0;34m=\u001b[0m \u001b[0mnp\u001b[0m\u001b[0;34m.\u001b[0m\u001b[0mdot\u001b[0m\u001b[0;34m(\u001b[0m\u001b[0mQ\u001b[0m\u001b[0;34m,\u001b[0m \u001b[0mRx2\u001b[0m\u001b[0;34m)\u001b[0m\u001b[0;34m\u001b[0m\u001b[0m\n",
      "\u001b[0;32m/Library/Python/2.7/site-packages/hera_pspec-0.1.0-py2.7.egg/hera_pspec/pspecdata.pyc\u001b[0m in \u001b[0;36mget_Q\u001b[0;34m(self, mode)\u001b[0m\n\u001b[1;32m   1540\u001b[0m \u001b[0;34m\u001b[0m\u001b[0m\n\u001b[1;32m   1541\u001b[0m         \u001b[0;32mtry\u001b[0m\u001b[0;34m:\u001b[0m\u001b[0;34m\u001b[0m\u001b[0m\n\u001b[0;32m-> 1542\u001b[0;31m             \u001b[0mbeam_res\u001b[0m\u001b[0;34m,\u001b[0m \u001b[0mbeam_omega\u001b[0m\u001b[0;34m,\u001b[0m \u001b[0mN\u001b[0m \u001b[0;34m=\u001b[0m \u001b[0mself\u001b[0m\u001b[0;34m.\u001b[0m\u001b[0mprimary_beam\u001b[0m\u001b[0;34m.\u001b[0m\u001b[0mbeam_normalized_response\u001b[0m\u001b[0;34m(\u001b[0m\u001b[0mpol\u001b[0m\u001b[0;34m,\u001b[0m \u001b[0mnu\u001b[0m\u001b[0;34m)\u001b[0m\u001b[0;34m\u001b[0m\u001b[0m\n\u001b[0m\u001b[1;32m   1543\u001b[0m             \u001b[0;31m#Get beam response in (frequency, pixel), beam area(freq) and Nside, used in computing dtheta.\u001b[0m\u001b[0;34m\u001b[0m\u001b[0;34m\u001b[0m\u001b[0m\n\u001b[1;32m   1544\u001b[0m             \u001b[0mprod\u001b[0m          \u001b[0;34m=\u001b[0m \u001b[0;34m(\u001b[0m\u001b[0;36m1.0\u001b[0m\u001b[0;34m/\u001b[0m\u001b[0mbeam_omega\u001b[0m\u001b[0;34m)\u001b[0m\u001b[0;34m\u001b[0m\u001b[0m\n",
      "\u001b[0;32m/Library/Python/2.7/site-packages/hera_pspec-0.1.0-py2.7.egg/hera_pspec/pspecbeam.pyc\u001b[0m in \u001b[0;36mbeam_normalized_response\u001b[0;34m(self, pol, freq)\u001b[0m\n\u001b[1;32m    473\u001b[0m         \u001b[0;32mif\u001b[0m \u001b[0mpol\u001b[0m \u001b[0;32min\u001b[0m \u001b[0mpol_array\u001b[0m\u001b[0;34m:\u001b[0m\u001b[0;34m\u001b[0m\u001b[0m\n\u001b[1;32m    474\u001b[0m             \u001b[0mstokes_p_ind\u001b[0m \u001b[0;34m=\u001b[0m \u001b[0mnp\u001b[0m\u001b[0;34m.\u001b[0m\u001b[0mwhere\u001b[0m\u001b[0;34m(\u001b[0m\u001b[0mnp\u001b[0m\u001b[0;34m.\u001b[0m\u001b[0misin\u001b[0m\u001b[0;34m(\u001b[0m\u001b[0mpol_array\u001b[0m\u001b[0;34m,\u001b[0m \u001b[0mpol\u001b[0m\u001b[0;34m)\u001b[0m\u001b[0;34m)\u001b[0m\u001b[0;34m[\u001b[0m\u001b[0;36m0\u001b[0m\u001b[0;34m]\u001b[0m\u001b[0;34m[\u001b[0m\u001b[0;36m0\u001b[0m\u001b[0;34m]\u001b[0m\u001b[0;34m\u001b[0m\u001b[0m\n\u001b[0;32m--> 475\u001b[0;31m             \u001b[0mbeam_res\u001b[0m \u001b[0;34m=\u001b[0m \u001b[0mbeam_res\u001b[0m\u001b[0;34m[\u001b[0m\u001b[0;36m0\u001b[0m\u001b[0;34m,\u001b[0m \u001b[0;36m0\u001b[0m\u001b[0;34m,\u001b[0m \u001b[0mstokes_p_ind\u001b[0m\u001b[0;34m]\u001b[0m \u001b[0;31m# extract the beam with the correct polarization, dim (nfreq X npix)\u001b[0m\u001b[0;34m\u001b[0m\u001b[0m\n\u001b[0m\u001b[1;32m    476\u001b[0m         \u001b[0;32melse\u001b[0m\u001b[0;34m:\u001b[0m\u001b[0;34m\u001b[0m\u001b[0m\n\u001b[1;32m    477\u001b[0m             \u001b[0;32mraise\u001b[0m \u001b[0mValueError\u001b[0m\u001b[0;34m(\u001b[0m\u001b[0;34m'Do not have the right polarization information'\u001b[0m\u001b[0;34m)\u001b[0m\u001b[0;34m\u001b[0m\u001b[0m\n",
      "\u001b[0;31mTypeError\u001b[0m: tuple indices must be integers, not tuple"
     ]
    }
   ],
   "source": [
    "uvd = UVData()\n",
    "uvd.read_miriad(os.path.join(DATA_PATH,\"zen.2458042.17772.xx.HH.uvXA\"))\n",
    "beamfile_Q = os.path.join(DATA_PATH, 'Gaussian_beam_freq_0.beamfits')\n",
    "bl1_Q  = (25,39)\n",
    "bl2_Q  = (25,39)\n",
    "bm_Q   = hp.PSpecBeamUV(beamfile_Q)\n",
    "\n",
    "ds_t    = hp.PSpecData(dsets=[uvd, uvd], wgts=[None, None], beam=bm_Q)\n",
    "\n",
    "uvp_new = ds_t.pspec([bl1_Q], [bl2_Q], (0, 1), [('xx', 'xx')], input_data_weight='identity',\n",
    "                               norm='I', taper='none', verbose=True, exact_norm=True)\n",
    "uvp_ext = ds_t.pspec([bl1_Q], [bl2_Q], (0, 1), [('xx', 'xx')], input_data_weight='identity',\n",
    "                               norm='I', taper='none', verbose=True, exact_norm=False)\n",
    "\n",
    "spw         = 0\n",
    "blp         = (bl1_Q, bl2_Q)\n",
    "key         = (spw, blp, 'xx')\n",
    "power_real_new  = (np.real(uvp_new.get_data(key)))\n",
    "power_real_ext  = (np.real(uvp_ext.get_data(key)))\n",
    "\n",
    "print np.shape(power_real_new)\n",
    "print np.shape(power_real_ext)"
   ]
  },
  {
   "cell_type": "code",
   "execution_count": null,
   "metadata": {
    "collapsed": false
   },
   "outputs": [],
   "source": [
    "diff = (power_real_new[50]-power_real_ext[50])/power_real_ext[50]\n",
    "print diff"
   ]
  },
  {
   "cell_type": "code",
   "execution_count": null,
   "metadata": {
    "collapsed": false
   },
   "outputs": [],
   "source": []
  },
  {
   "cell_type": "markdown",
   "metadata": {},
   "source": [
    "## Phase second `dset` to first `dset`\n",
    "\n",
    "Because we are forming power spectra between datasets that are offset in LST there will be some level of decoherence (and therefore signal loss) of the EoR signal. For short baselines and small LST offsets this is typically negligible, but it is still good to try to recover what coherency we can, simply by phasing (i.e. fringe-stopping) the datasets before forming the power spectra. This can be done with the `rephase_to_dset` method, and can only be done once. "
   ]
  },
  {
   "cell_type": "code",
   "execution_count": null,
   "metadata": {
    "collapsed": false
   },
   "outputs": [],
   "source": [
    "# Because the LST integrations are offset by more than ~15 seconds we will get a warning\n",
    "# but this is okay b/c it is still **significantly** less than the beam-crossing time and we are using short\n",
    "# baselines...\n",
    "\n",
    "# here we phase all datasets in dsets to the zeroth dataset\n",
    "ds.rephase_to_dset(0)"
   ]
  },
  {
   "cell_type": "code",
   "execution_count": null,
   "metadata": {
    "collapsed": true
   },
   "outputs": [],
   "source": [
    "# change units of UVData objects\n",
    "ds.dsets[0].vis_units = 'mK'\n",
    "ds.dsets[1].vis_units = 'mK'"
   ]
  },
  {
   "cell_type": "markdown",
   "metadata": {},
   "source": [
    "## Estimating the power spectrum for a handful of baseline pairs (auto-baseline pspec)\n",
    "Estimate the power spectrum for a handful baseline pairs between the two datasets in `ds.dsets`. You can specify which baselines are included in the power spectrum estimate, which datasets to use, what freq channels to use, and how the estimate should be weighted."
   ]
  },
  {
   "cell_type": "code",
   "execution_count": null,
   "metadata": {
    "collapsed": true
   },
   "outputs": [],
   "source": [
    "# Specify which baselines to include\n",
    "baselines = [(24,25), (37,38), (38,39)]"
   ]
  },
  {
   "cell_type": "markdown",
   "metadata": {},
   "source": [
    "### Read the docstring! Here are the first few lines..."
   ]
  },
  {
   "cell_type": "code",
   "execution_count": null,
   "metadata": {
    "collapsed": false
   },
   "outputs": [],
   "source": [
    "print(\"ds.pspec{}\".format(signature(ds.pspec)))\n",
    "print('\\n'.join(ds.pspec.__doc__.split('\\n')[:30]))"
   ]
  },
  {
   "cell_type": "markdown",
   "metadata": {},
   "source": [
    "Call the `PSpecData.pspec` function to use the OQE framework. The result is a `UVPSpec` object that holds all of the power spectra and their meta-data."
   ]
  },
  {
   "cell_type": "code",
   "execution_count": null,
   "metadata": {
    "collapsed": false,
    "scrolled": false
   },
   "outputs": [],
   "source": [
    "# we will use the baselines list to produce 3 power spectra\n",
    "# whose data will be drawn from the dsets[0] and dsets[1]\n",
    "# across two spectral windows with identity weighting and a blackman-harris taper\n",
    "uvp = ds.pspec(baselines, baselines, (0, 1), [('xx', 'xx')], spw_ranges=[(300, 400), (600,721)], input_data_weight='identity',\n",
    "               norm='I', taper='blackman-harris', verbose=True)"
   ]
  },
  {
   "cell_type": "markdown",
   "metadata": {},
   "source": [
    "## Making sense of the meta-data\n",
    "\n",
    "The fundamental unit in the `UVPSpec` object is a single delay spectrum, indexed by a spectral window selection (`spw`), a baseline-pair selection (`blpair`) and a polarization (`pol`). Spectral windows are marked by their index (see `spw_array`), polarization are marked by their pol string (`xx`) or pol integer (`-5`), and a baseline-pair is marked by its blpair integer, which is simply the antenna numbers put into length-3 integers and concatenated. For example, the baseline-pair `((100, 200), (300, 400))` would have a blpair integer `100200300400`.\n",
    "\n",
    "To access particular slices of the data in a `UVPSpec` object, the user should interface with the `get_data` method, which takes a selection of `spw`, `blpair` and `pol` as arguments. See the example below."
   ]
  },
  {
   "cell_type": "code",
   "execution_count": null,
   "metadata": {
    "collapsed": false
   },
   "outputs": [],
   "source": [
    "# let's get the delay spectra from spw 0, blpair ((24, 25), (24, 25)) and xx pol\n",
    "key = (0, ((24, 25), (24, 25)), 'xx')\n",
    "\n",
    "# output should be shape (Ntimes, Ndlys)\n",
    "print(uvp.get_data(key).shape)\n",
    "\n",
    "# we can also access data by feeding a dictionary\n",
    "key = {'pol':'xx', 'spw': 0, 'blpair':((24, 25), (24, 25))}\n",
    "print(uvp.get_data(key).shape)"
   ]
  },
  {
   "cell_type": "markdown",
   "metadata": {},
   "source": [
    "There is also metadata telling you things like the data weighting, normalization, tapering, units, telescope location, LST and JD time stamps, etc."
   ]
  },
  {
   "cell_type": "code",
   "execution_count": null,
   "metadata": {
    "collapsed": false
   },
   "outputs": [],
   "source": [
    "# get power spectrum units\n",
    "print(\"pspec units: \", uvp.units)\n",
    "\n",
    "# get weighting\n",
    "print(\"pspec weighting: \", uvp.weighting)"
   ]
  },
  {
   "cell_type": "markdown",
   "metadata": {},
   "source": [
    "Also, importantly, the cosmology we adopted originally and passed through to the beam and `PSpecData` objects was passed through to this `UVPSpec` object."
   ]
  },
  {
   "cell_type": "code",
   "execution_count": null,
   "metadata": {
    "collapsed": false
   },
   "outputs": [],
   "source": [
    "print(uvp.cosmo)"
   ]
  },
  {
   "cell_type": "markdown",
   "metadata": {},
   "source": [
    "## Plotting\n",
    "\n",
    "Here is an example of how to do some simple and quick plotting of power spectra, which includes getting the power spectra and the delay bins of their bandpowers."
   ]
  },
  {
   "cell_type": "code",
   "execution_count": null,
   "metadata": {
    "collapsed": false
   },
   "outputs": [],
   "source": [
    "# plot power spectrum of spectral window 1\n",
    "fig, ax = plt.subplots(figsize=(12,8))\n",
    "\n",
    "spw = 1\n",
    "blp =((24, 25), (24,25))\n",
    "key = (spw, blp, 'xx')\n",
    "dlys = uvp.get_dlys(spw) * 1e9\n",
    "power = np.abs(np.real(uvp.get_data(key)))\n",
    "\n",
    "p1 = ax.plot(dlys, power.T)\n",
    "ax.set_yscale('log')\n",
    "ax.grid()\n",
    "ax.set_xlabel(\"delay [ns]\", fontsize=14)\n",
    "ax.set_ylabel(r\"$P(k)\\ \\rm [mK^2\\ h^{-3}\\ Mpc^3]$\", fontsize=14)\n",
    "ax.set_title(\"spw : {}, blpair : {}, pol : {}\".format(*key), fontsize=14)"
   ]
  },
  {
   "cell_type": "markdown",
   "metadata": {},
   "source": [
    "## Form redundant baseline spectra (auto & cross baseline pspec)\n",
    "\n",
    "Above we looked at auto-baseline power spectra. Here we will show how to form power spectra between groups of redundant baselines. To do this, we use the `pspecdata.construct_blpairs` helper function to construct the `baselines1` and `baselines2` lists that we then feed into `PSpecData.pspec`. This takes keywords `exclude_auto_bls`, which will remove all baselines paired with itself from the final `blpairs` list, as well as `exclude_permutations`, which will use a combination instead of a permutation to form the baseline-pairs from the input `baselines` list."
   ]
  },
  {
   "cell_type": "code",
   "execution_count": null,
   "metadata": {
    "collapsed": false
   },
   "outputs": [],
   "source": [
    "# baselines is a redundant baseline group\n",
    "baselines = [(24,25), (37,38), (38,39)]\n",
    "\n",
    "# calculate all baseline pairs from group\n",
    "baselines1, baselines2, blpairs = hp.utils.construct_blpairs(baselines, exclude_auto_bls=True, \n",
    "                                                                 exclude_permutations=True)\n",
    "\n",
    "# Inspect baseline pairs\n",
    "print(blpairs)"
   ]
  },
  {
   "cell_type": "markdown",
   "metadata": {},
   "source": [
    "Now we feed these lists through to `pspec`"
   ]
  },
  {
   "cell_type": "code",
   "execution_count": null,
   "metadata": {
    "collapsed": false,
    "scrolled": true
   },
   "outputs": [],
   "source": [
    "uvp = ds.pspec(baselines1, baselines2, (0, 1), [('xx', 'xx')], spw_ranges=[(300, 400), (600,721)], input_data_weight='identity', \n",
    "               norm='I', taper='blackman-harris', verbose=True)"
   ]
  },
  {
   "cell_type": "code",
   "execution_count": null,
   "metadata": {
    "collapsed": false
   },
   "outputs": [],
   "source": [
    "# plot power spectrum of a cross-baseline pspectra from spectral window 1\n",
    "fig, ax = plt.subplots(figsize=(12,8))\n",
    "\n",
    "spw = 1\n",
    "blp =((24, 25), (37, 38))\n",
    "key = (spw, blp, 'xx')\n",
    "dlys = uvp.get_dlys(spw) * 1e9\n",
    "power = np.abs(np.real(uvp.get_data(key)))\n",
    "\n",
    "_ = ax.plot(dlys, power.T)\n",
    "ax.set_yscale('log')\n",
    "ax.grid()\n",
    "ax.set_xlabel(\"delay [ns]\", fontsize=14)\n",
    "ax.set_ylabel(r\"$P(k)\\ \\rm [mK^2\\ h^{-3}\\ Mpc^3]$\", fontsize=14)\n",
    "ax.set_title(\"spw : {}, blpair : {}, pol : {}\".format(*key), fontsize=14)"
   ]
  },
  {
   "cell_type": "markdown",
   "metadata": {},
   "source": [
    "## Convert to $\\Delta^2(k)$\n",
    "\n",
    "You can convert the power spectrum data from $P(k)$ format to \"unitless\" power spectrum $\\Delta^2(k)$ by scaling by the cosmological wave-vectors cubed. This can be done by hand with the `get_kparas()` and `get_kperps()` methods, or can be done automatically using the `convert_to_deltasq()` method.\n",
    "\n",
    "The cosmology used for this calculation will be the one stored in the `UVPSpec` object, which, recall, is the same cosmology we adopted originally."
   ]
  },
  {
   "cell_type": "code",
   "execution_count": null,
   "metadata": {
    "collapsed": false
   },
   "outputs": [],
   "source": [
    "# make a copy of the UVPSpec object\n",
    "dsq = copy.deepcopy(uvp)\n",
    "\n",
    "# how to get the wave vectors for spw = 1 by hand\n",
    "k_perp, k_para = dsq.get_kperps(1, little_h=True), dsq.get_kparas(1, little_h=True)\n",
    "\n",
    "# convert to deltasq automatically\n",
    "dsq.convert_to_deltasq()\n",
    "\n",
    "# see that units have automatically changed\n",
    "print(\"dsq units: \",dsq.units)"
   ]
  },
  {
   "cell_type": "code",
   "execution_count": null,
   "metadata": {
    "collapsed": false
   },
   "outputs": [],
   "source": [
    "# plot deltasq power spectrum of spw 1\n",
    "fig, ax = plt.subplots(figsize=(12,8))\n",
    "\n",
    "spw = 1\n",
    "blp =((24, 25), (37, 38))\n",
    "key = (spw, blp, 'xx')\n",
    "power = np.abs(np.real(dsq.get_data(key)))\n",
    "\n",
    "_ = ax.plot(k_para, power.T)\n",
    "ax.set_yscale('log')\n",
    "ax.grid()\n",
    "ax.set_xlabel(r\"$k_{\\parallel}\\ h\\ Mpc^{-1}$\", fontsize=14)\n",
    "ax.set_ylabel(r\"$\\Delta^2(k)\\ \\rm [mK^2]$\", fontsize=14)\n",
    "ax.set_title(\"spw : {}, blpair : {}, pol : {}\".format(*key), fontsize=14)"
   ]
  },
  {
   "cell_type": "markdown",
   "metadata": {},
   "source": [
    "## Plotting Thermal Noise Curves\n",
    "\n",
    "Using the `hera_pspec.noise` module, you can plot analytic thermal noise power spectra given a $T_{\\rm sys}$ and a `UVPSpec` object, which carries with it the integration time and number of incoherent averages for **each delay spectrum** it contains.\n",
    "\n",
    "To do this, all you need to do as the user is to interface with the `UVPSpec.generate_noise_spectra()` method. Given a selection of spectral window, polarization, system temperature and optionally which blpairs to compute for, it will return a dictionary of thermal noise curves (in either $P(k)$ or $\\Delta^2(k)$ depending on `form` kwarg) for each baseline-pair in the `UVPSpec` object."
   ]
  },
  {
   "cell_type": "code",
   "execution_count": null,
   "metadata": {
    "collapsed": true
   },
   "outputs": [],
   "source": [
    "# generate noise curves for spw 0, pol 'xx' with a Tsys of 300 K\n",
    "spw = 1\n",
    "pol = 'xx'\n",
    "Tsys = 300\n",
    "P_N = uvp.generate_noise_spectra(spw, pol, Tsys)"
   ]
  },
  {
   "cell_type": "markdown",
   "metadata": {},
   "source": [
    "Have generated the `Sense` object, we can now call `generate_noise_spectra` to produce noise curves. The result is a dictionary with baseline-pair integers as keys and ndarrays as values."
   ]
  },
  {
   "cell_type": "code",
   "execution_count": null,
   "metadata": {
    "collapsed": false
   },
   "outputs": [],
   "source": [
    "# plot power spectrum of spw 1 with noise curves\n",
    "fig, ax = plt.subplots(figsize=(12,8))\n",
    "\n",
    "blp = ((24, 25), (37, 38))\n",
    "key = (spw, blp, pol)\n",
    "power = np.abs(np.real(uvp.get_data(key)))\n",
    "\n",
    "_ = ax.plot(k_para, power.T)\n",
    "ax.set_yscale('log')\n",
    "ax.grid()\n",
    "ax.set_xlabel(r\"$k_\\parallel\\ \\rm h\\ Mpc^{-1}$\", fontsize=14)\n",
    "ax.set_ylabel(r\"$P(k)\\ \\rm [mK^2\\ h^{-3}\\ Mpc^3]$\", fontsize=14)\n",
    "ax.set_title(\"spw : {}, blpair : {}, pol : {}\".format(*key), fontsize=14)\n",
    "\n",
    "# plot noise curves for this baseline-pair\n",
    "ax.set_prop_cycle(None)\n",
    "_ = ax.plot(k_para, P_N[uvp.antnums_to_blpair(blp)].T, ls='--', lw=3)"
   ]
  },
  {
   "cell_type": "markdown",
   "metadata": {},
   "source": [
    "## Incoherent Averaging\n",
    "\n",
    "The `UVPSpec` object supports incoherent averaging across baseline-pairs and/or time using the `UVPSpec.average_spectra()` method. If the baseline-pairs are grouped by redundancy, this is equivalent to binning onto a single 3D $k_x, k_y, k_\\parallel$ space. If the baseline-pairs are grouped by baseline separation, this is equivalent to cylindrical binning in $k_\\perp$ and $k_\\parallel$. Spherical binning to form a true 1D power spectrum is currently not supported.\n",
    "\n",
    "Below we will incoherently average across all baseline-pairs in the `UVPSpec` object, knowing that we only constructed 14.6 m power spectra, so we are reasonably justified in doing so."
   ]
  },
  {
   "cell_type": "code",
   "execution_count": null,
   "metadata": {
    "collapsed": true
   },
   "outputs": [],
   "source": [
    "# form the baseline-pair group, which will be a single group \n",
    "# consisting of all baseline-pairs in the object\n",
    "blp_group = [sorted(np.unique(uvp.blpair_array))]\n",
    "\n",
    "# average spectra with inplace = False and assign to a new \"uvp2\" object\n",
    "uvp2 = uvp.average_spectra(blpair_groups=blp_group, time_avg=True, inplace=False)"
   ]
  },
  {
   "cell_type": "markdown",
   "metadata": {},
   "source": [
    "We can then plot the averaged power spectrum, along with a new noise curve which will know to account for the averaging based on the changes to the `integration_array` and `nsample_array`. The colored lines show the same un-averaged pspectra from before, while the black line shows the averaged power spectrum, along with its new thermal noise estimate."
   ]
  },
  {
   "cell_type": "code",
   "execution_count": null,
   "metadata": {
    "collapsed": false
   },
   "outputs": [],
   "source": [
    "# plot power spectrum of spw 1\n",
    "fig, ax = plt.subplots(figsize=(12,8))\n",
    "\n",
    "spw = 1\n",
    "blp = ((24, 25), (37, 38))\n",
    "pol = 'xx'\n",
    "key = (spw, blp, pol)\n",
    "k_para = uvp.get_kparas(spw)\n",
    "power = np.abs(np.real(uvp.get_data(key)))\n",
    "P_N = uvp.generate_noise_spectra(spw, pol, 300)\n",
    "P_N = P_N[uvp.antnums_to_blpair(blp)]\n",
    "\n",
    "avg_power = np.abs(np.real(uvp2.get_data(key)))\n",
    "avg_P_N = uvp2.generate_noise_spectra(spw, pol, 300)\n",
    "avg_P_N = avg_P_N[uvp2.antnums_to_blpair(blp)]\n",
    "\n",
    "_ = ax.plot(k_para, power.T)\n",
    "ax.plot(k_para, avg_power.T, color='k')\n",
    "ax.plot(k_para, avg_P_N.T, color='k', ls='--', lw=3)\n",
    "ax.set_yscale('log')\n",
    "ax.grid()\n",
    "ax.set_xlabel(r\"$k_\\parallel\\ \\rm h\\ Mpc^{-1}$\", fontsize=14)\n",
    "ax.set_ylabel(r\"$P(k)\\ \\rm [mK^2\\ h^{-3}\\ Mpc^3]$\", fontsize=14)\n",
    "ax.set_title(\"spw : {}, blpair : {}, pol : {}\".format(*key), fontsize=14)\n",
    "\n",
    "ax.set_prop_cycle(None)\n",
    "_ = ax.plot(k_para, P_N.T, ls='--', lw=3)"
   ]
  },
  {
   "cell_type": "markdown",
   "metadata": {},
   "source": [
    "## Fold the power spectra\n",
    "\n",
    "The power spectra are natively across positive and negative delays, but often we make plots with only positive delay bins. In addition, averaging bandpowers with identical negative with positive bandpowers gives us an extra factor of sqrt 2 sensitivity, which we can do with the `fold_spectra()` method."
   ]
  },
  {
   "cell_type": "code",
   "execution_count": null,
   "metadata": {
    "collapsed": true
   },
   "outputs": [],
   "source": [
    "uvp.fold_spectra()"
   ]
  },
  {
   "cell_type": "code",
   "execution_count": null,
   "metadata": {
    "collapsed": true
   },
   "outputs": [],
   "source": [
    "uvp2.fold_spectra()"
   ]
  },
  {
   "cell_type": "code",
   "execution_count": null,
   "metadata": {
    "collapsed": false
   },
   "outputs": [],
   "source": [
    "# plot power spectrum of spw 1\n",
    "fig, ax = plt.subplots(figsize=(12,8))\n",
    "\n",
    "spw = 1\n",
    "blp =((24, 25), (37, 38))\n",
    "pol = 'xx'\n",
    "key = (spw, blp, pol)\n",
    "k_para = uvp.get_kparas(spw)\n",
    "power = np.abs(np.real(uvp.get_data(key)))\n",
    "P_N = uvp.generate_noise_spectra(spw, pol, 300)\n",
    "P_N = P_N[uvp.antnums_to_blpair(blp)]\n",
    "\n",
    "avg_power = np.abs(np.real(uvp2.get_data(key)))\n",
    "avg_P_N = uvp2.generate_noise_spectra(spw, pol, 300)\n",
    "avg_P_N = avg_P_N[uvp2.antnums_to_blpair(blp)]\n",
    "\n",
    "_ = ax.plot(k_para, power.T)\n",
    "ax.plot(k_para, avg_power.T, color='k')\n",
    "ax.plot(k_para, avg_P_N.T, color='k', ls='--', lw=3)\n",
    "ax.set_yscale('log')\n",
    "ax.grid()\n",
    "ax.set_xlabel(r\"$k_\\parallel\\ \\rm h\\ Mpc^{-1}$\", fontsize=14)\n",
    "ax.set_ylabel(r\"$P(k)\\ \\rm [mK^2\\ h^{-3}\\ Mpc^3]$\", fontsize=14)\n",
    "ax.set_title(\"spw : {}, blpair : {}, pol : {}\".format(*key), fontsize=14)\n",
    "\n",
    "ax.set_prop_cycle(None)\n",
    "_ = ax.plot(k_para, P_N.T, ls='--', lw=3)"
   ]
  },
  {
   "cell_type": "markdown",
   "metadata": {},
   "source": [
    "## Re-defining the cosmology\n",
    "\n",
    "We started by adopting a single cosmology, which was automatically passed between the various `hera_pspec` objects without user intervention in order to preserve self-consistency. If, however, we would like to adopt a *new cosmology*, we need to re-compute certain cosmology-dependent quantities, namely the normalization of the power spectrum scalar (see HERA Memos #27 and #43). We can do this with the `UVPSpec.set_cosmology` object."
   ]
  },
  {
   "cell_type": "code",
   "execution_count": null,
   "metadata": {
    "collapsed": false
   },
   "outputs": [],
   "source": [
    "# define a new cosmology with no dark energy\n",
    "new_cosmo = hp.conversions.Cosmo_Conversions(Om_L = 0.0)\n",
    "\n",
    "# attempt to overwrite the current UVPSpec cosmology:\n",
    "# this will fail b/c one already exists and overwrite=False\n",
    "uvp.set_cosmology(new_cosmo)"
   ]
  },
  {
   "cell_type": "code",
   "execution_count": null,
   "metadata": {
    "collapsed": false
   },
   "outputs": [],
   "source": [
    "# now set overwrite = True\n",
    "uvp.set_cosmology(new_cosmo, overwrite=True)"
   ]
  },
  {
   "cell_type": "markdown",
   "metadata": {},
   "source": [
    "## Perform data selection on `UVPSpec`\n",
    "\n",
    "We can select out parts of the data using the `select` function."
   ]
  },
  {
   "cell_type": "code",
   "execution_count": null,
   "metadata": {
    "collapsed": false
   },
   "outputs": [],
   "source": [
    "# select all baseline-pairs containing the baseline (24, 25)\n",
    "# only_pairs_in_bls means to select only blpairs that have baseline1 _and_ baseline2 in the bls list\n",
    "uvp2 = uvp.select(bls=[(24, 25)], inplace=False, only_pairs_in_bls=False)\n",
    "\n",
    "# check than only baseline-pairs with a (24, 25) in them are kept\n",
    "print(\"baseline pairs in uvp2: \\n\", map(lambda blp: uvp2.blpair_to_antnums(blp), np.unique(uvp2.blpair_array)))"
   ]
  },
  {
   "cell_type": "markdown",
   "metadata": {
    "collapsed": true
   },
   "source": [
    "## Write to HDF5\n",
    "\n",
    "Write to disk using the `write_hdf5` method. Easy as that."
   ]
  },
  {
   "cell_type": "code",
   "execution_count": null,
   "metadata": {
    "collapsed": true
   },
   "outputs": [],
   "source": [
    "uvp.write_hdf5(\"pspec.hdf5\", overwrite=True)"
   ]
  },
  {
   "cell_type": "markdown",
   "metadata": {},
   "source": [
    "## Read from HDF5\n",
    "\n",
    "Read the whole file, just the meta-data, or a data selection for partial I/O.\n",
    "\n",
    "Frist, let's **read the whole file** and look at some meta-data."
   ]
  },
  {
   "cell_type": "code",
   "execution_count": null,
   "metadata": {
    "collapsed": true
   },
   "outputs": [],
   "source": [
    "# read the whole file\n",
    "uvp2 = hp.uvpspec.UVPSpec()\n",
    "uvp2.read_hdf5(\"pspec.hdf5\")"
   ]
  },
  {
   "cell_type": "code",
   "execution_count": null,
   "metadata": {
    "collapsed": false
   },
   "outputs": [],
   "source": [
    "# print some meta-data\n",
    "print(\"pols : \", uvp2.pol_array)\n",
    "print(\"number of baseline-pairs: \",uvp2.Nblpairs)"
   ]
  },
  {
   "cell_type": "code",
   "execution_count": null,
   "metadata": {
    "collapsed": false
   },
   "outputs": [],
   "source": [
    "# Ensure data_array exists b/c we read the whole file\n",
    "print(\"data_array in uvp2 : \", hasattr(uvp2, 'data_array'))"
   ]
  },
  {
   "cell_type": "markdown",
   "metadata": {},
   "source": [
    "Now read **only the meta-data**."
   ]
  },
  {
   "cell_type": "code",
   "execution_count": null,
   "metadata": {
    "collapsed": true
   },
   "outputs": [],
   "source": [
    "# read only the meta-data\n",
    "uvp2.read_hdf5(\"pspec.hdf5\", just_meta=True)"
   ]
  },
  {
   "cell_type": "code",
   "execution_count": null,
   "metadata": {
    "collapsed": false
   },
   "outputs": [],
   "source": [
    "# print some meta-data\n",
    "print(\"pols : \", uvp2.pol_array)\n",
    "print(\"number of baseline-pairs: \",uvp2.Nblpairs)"
   ]
  },
  {
   "cell_type": "code",
   "execution_count": null,
   "metadata": {
    "collapsed": false
   },
   "outputs": [],
   "source": [
    "# Ensure data_array doesn't exist b/c we only loaded the meta-data\n",
    "print(\"data_array in uvp2 : \", hasattr(uvp2, 'data_array'))"
   ]
  },
  {
   "cell_type": "markdown",
   "metadata": {},
   "source": [
    "Now do **partial loading of certain baseline pairs**."
   ]
  },
  {
   "cell_type": "code",
   "execution_count": null,
   "metadata": {
    "collapsed": false
   },
   "outputs": [],
   "source": [
    "# partial load on certain baseline-pairs \n",
    "uvp2.read_hdf5(\"pspec.hdf5\", just_meta=False, bls=[(37, 38), (38, 39)], only_pairs_in_bls=True)\n",
    "\n",
    "# print baseline pairs\n",
    "print(\"baseline pairs in uvp2: \\n\", map(lambda blp: uvp2.blpair_to_antnums(blp), np.unique(uvp2.blpair_array)))"
   ]
  },
  {
   "cell_type": "markdown",
   "metadata": {},
   "source": [
    "Now do **partial loading of certain times**. To do this, we need to feed the exact float of the times we want, but how do we get these to float precision in the first place without loading the whole file? This is where the `just_meta` load comes in handy.\n",
    "\n",
    "First load just the metadata, then do a partial load using the times you desire from the metadata."
   ]
  },
  {
   "cell_type": "code",
   "execution_count": null,
   "metadata": {
    "collapsed": false
   },
   "outputs": [],
   "source": [
    "# read only meta\n",
    "uvp2.read_hdf5(\"pspec.hdf5\", just_meta=True)\n",
    "\n",
    "# now only load in one of the time integrations\n",
    "uvp2.read_hdf5(\"pspec.hdf5\", times=np.unique(uvp2.time_avg_array)[:1])\n",
    "\n",
    "# check that only one time integration exists, but that all baseline pairs exist\n",
    "print(\"number of unique times: \", len(np.unique(uvp2.time_avg_array)))\n",
    "print(\"number of baseline-pairs: \",uvp2.Nblpairs)"
   ]
  },
  {
   "cell_type": "code",
   "execution_count": null,
   "metadata": {
    "collapsed": true
   },
   "outputs": [],
   "source": [
    "if os.path.exists(\"pspec.hdf5\"): os.remove(\"pspec.hdf5\")"
   ]
  },
  {
   "cell_type": "markdown",
   "metadata": {},
   "source": [
    "## Forming Pseudo-Stokes Power Spectra\n",
    "\n",
    "Forming polarized pseudo-Stokes power spectra is identical to forming linear-dipole polarization power spectra, except that we need pseudo-Stokes visibilities and beam models. See the `Forming_PseudoStokes_Vis` notebook on details on how to do that. Here we will show how to form pseudo-I spectra. "
   ]
  },
  {
   "cell_type": "code",
   "execution_count": null,
   "metadata": {
    "collapsed": true
   },
   "outputs": [],
   "source": [
    "# form pseudoI visibility\n",
    "dset1 = os.path.join(DATA_PATH, 'zen.all.xx.LST.1.06964.uvA')  # xx miriad file\n",
    "dset2 = os.path.join(DATA_PATH, 'zen.all.yy.LST.1.06964.uvA')  # yy miriad file\n",
    "uvdI = hp.pstokes.construct_pstokes(dset1=dset1, dset2=dset2, pstokes='pI')"
   ]
  },
  {
   "cell_type": "code",
   "execution_count": null,
   "metadata": {
    "collapsed": true
   },
   "outputs": [],
   "source": [
    "# List of beamfile to load. This is a healpix map for both XX and YY, and can therefore make an I map\n",
    "beamfile = os.path.join(DATA_PATH, 'HERA_NF_pstokes_power.beamfits')\n",
    "\n",
    "# intantiate beam and pass cosmology, if not fed, a default Planck cosmology will be assumed\n",
    "uvb = hp.pspecbeam.PSpecBeamUV(beamfile, cosmo=cosmo)"
   ]
  },
  {
   "cell_type": "code",
   "execution_count": null,
   "metadata": {
    "collapsed": true
   },
   "outputs": [],
   "source": [
    "# find conversion factor from Jy to mK for XX pol\n",
    "Jy_to_mK = uvb.Jy_to_mK(np.unique(uvdI.freq_array), pol='pI')\n",
    "\n",
    "# reshape to appropriately match a UVData.data_array object and multiply in!\n",
    "uvdI.data_array *= Jy_to_mK[None, None, :, None]\n",
    "\n",
    "# changeunits of UVData objects\n",
    "uvdI.vis_units = 'mK'"
   ]
  },
  {
   "cell_type": "code",
   "execution_count": null,
   "metadata": {
    "collapsed": true
   },
   "outputs": [],
   "source": [
    "# instantiate a PSpecData object\n",
    "ds = hp.PSpecData(dsets=[uvdI, uvdI], wgts=[None, None], beam=uvb)"
   ]
  },
  {
   "cell_type": "code",
   "execution_count": null,
   "metadata": {
    "collapsed": false
   },
   "outputs": [],
   "source": [
    "# baselines is a redundant baseline group\n",
    "baselines = [(24,25), (37,38), (38,39)]\n",
    "\n",
    "# calculate all baseline pairs from group\n",
    "baselines1, baselines2, blpairs = hp.utils.construct_blpairs(baselines, exclude_auto_bls=True, \n",
    "                                                                 exclude_permutations=True)\n",
    "\n",
    "# Inspect baseline pairs\n",
    "print(blpairs)"
   ]
  },
  {
   "cell_type": "code",
   "execution_count": null,
   "metadata": {
    "collapsed": false
   },
   "outputs": [],
   "source": [
    "uvp = ds.pspec(baselines1, baselines2, (0, 1), [('pI', 'pI')], spw_ranges=[(300, 400)], \n",
    "               input_data_weight='identity', norm='I', taper='blackman-harris', verbose=True)"
   ]
  },
  {
   "cell_type": "code",
   "execution_count": null,
   "metadata": {
    "collapsed": false
   },
   "outputs": [],
   "source": [
    "# plot power spectrum of spectral window 0\n",
    "fig, ax = plt.subplots(figsize=(12,8))\n",
    "\n",
    "spw = 0\n",
    "blp = ((24, 25), (37, 38))\n",
    "key = (spw, blp, 'pI')\n",
    "dlys = uvp.get_dlys(spw) * 1e9\n",
    "power = np.abs(np.real(uvp.get_data(key)))\n",
    "\n",
    "p1 = ax.plot(dlys, power.T)\n",
    "ax.set_yscale('log')\n",
    "ax.grid()\n",
    "ax.set_xlabel(\"delay [ns]\", fontsize=14)\n",
    "ax.set_ylabel(r\"$P(k)\\ \\rm [mK^2\\ h^{-3}\\ Mpc^3]$\", fontsize=14)\n",
    "ax.set_title(\"spw : {}, blpair : {}, pol : {}\".format(*key), fontsize=14)"
   ]
  },
  {
   "cell_type": "markdown",
   "metadata": {},
   "source": [
    "## Using Custom Polarized Beams\n",
    "\n",
    "In the case that you have information on polarized beams that can't be put into a `UVBeam` object, you can use the custom beam capability of `hera_pspec.pspecbeam.PSpecBeamFromArray`, which will allow you to create a `PSpecBeam` object from custom $\\Omega_P$ and $\\Omega_{PP}$ arrays. See the `PSpecBeam` tutorial to see how to do this. \n",
    "\n",
    "One can then use this object in the same way as above to create polarized power spectra with custom polarized beams."
   ]
  },
  {
   "cell_type": "code",
   "execution_count": null,
   "metadata": {
    "collapsed": true
   },
   "outputs": [],
   "source": []
  },
  {
   "cell_type": "code",
   "execution_count": null,
   "metadata": {
    "collapsed": true
   },
   "outputs": [],
   "source": []
  },
  {
   "cell_type": "code",
   "execution_count": null,
   "metadata": {
    "collapsed": true
   },
   "outputs": [],
   "source": []
  }
 ],
 "metadata": {
  "kernelspec": {
   "display_name": "Python 2",
   "language": "python",
   "name": "python2"
  },
  "language_info": {
   "codemirror_mode": {
    "name": "ipython",
    "version": 2
   },
   "file_extension": ".py",
   "mimetype": "text/x-python",
   "name": "python",
   "nbconvert_exporter": "python",
   "pygments_lexer": "ipython2",
   "version": "2.7.10"
  }
 },
 "nbformat": 4,
 "nbformat_minor": 2
}
