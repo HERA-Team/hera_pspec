{
 "cells": [
  {
   "cell_type": "markdown",
   "metadata": {},
   "source": [
    "# Simple power spectrum estimation from an input dataset\n",
    "This example shows how to estimate the power spectrum from a set of data files using an Optimal Quadratic Estimator (OQE) approach."
   ]
  },
  {
   "cell_type": "code",
   "execution_count": 1,
   "metadata": {},
   "outputs": [],
   "source": [
    "%matplotlib inline\n",
    "import pyuvdata as uv\n",
    "import hera_pspec as ps\n",
    "import numpy as np\n",
    "import pylab as plt"
   ]
  },
  {
   "cell_type": "markdown",
   "metadata": {},
   "source": [
    "## Loading the input data\n",
    "The input data are specified as a list of `UVData` objects, which are then packaged into a `PSpecData` class. This class is responsible for collecting the data and covariances together and performing the OQE power spectrum estimation. At least two `UVData` objects must be specified -- power spectra are only ever estimated on independent datafiles, to remove noise bias."
   ]
  },
  {
   "cell_type": "code",
   "execution_count": 2,
   "metadata": {},
   "outputs": [
    {
     "name": "stdout",
     "output_type": "stream",
     "text": [
      "[(24, 24), (24, 25), (24, 38), (25, 25), (25, 38), (38, 38)]\n"
     ]
    }
   ],
   "source": [
    "# List of filenames of the data to load\n",
    "dfiles = [\n",
    "    'zen.2458042.12552.xx.HH.uvXAA',\n",
    "    'zen.2458042.12552.xx.HH.uvXAA'\n",
    "]\n",
    "\n",
    "# Load into UVData objects\n",
    "d = []\n",
    "for dfile in dfiles:\n",
    "    _d = uv.UVData()\n",
    "    _d.read_miriad(dfile)\n",
    "    d.append(_d)\n",
    "\n",
    "# Set weights (None => flags from UVData will be used)\n",
    "w = [None for _d in dfiles]\n",
    "\n",
    "# Check which baseline pairs are available\n",
    "print(d[0].get_antpairs())"
   ]
  },
  {
   "cell_type": "code",
   "execution_count": 3,
   "metadata": {},
   "outputs": [],
   "source": [
    "# Create a new PSpecData object\n",
    "ds = ps.PSpecData(dsets=d, wgts=w)"
   ]
  },
  {
   "cell_type": "markdown",
   "metadata": {},
   "source": [
    "## Estimating the power spectrum\n",
    "Estimate the power spectrum for all (non-auto) combinations of datasets in `PSpecData`. You can specify which baselines are included in the power spectrum estimate, and how the estimate should be weigted."
   ]
  },
  {
   "cell_type": "code",
   "execution_count": 5,
   "metadata": {},
   "outputs": [
    {
     "name": "stdout",
     "output_type": "stream",
     "text": [
      "('Baselines:', (0, 24, 25), (1, 24, 25))\n",
      " Setting weighting matrix for input data...\n",
      "  Building G...\n",
      "  Building q_hat...\n",
      "  Normalizing power spectrum...\n",
      "('Baselines:', (0, 24, 38), (1, 24, 38))\n",
      " Setting weighting matrix for input data...\n",
      "  Building G...\n",
      "  Building q_hat...\n",
      "  Normalizing power spectrum...\n",
      "('Baselines:', (0, 25, 38), (1, 25, 38))\n",
      " Setting weighting matrix for input data...\n",
      "  Building G...\n",
      "  Building q_hat...\n",
      "  Normalizing power spectrum...\n"
     ]
    }
   ],
   "source": [
    "# Specify which baselines to include\n",
    "bls = [(24,25), (24,38), (25,38)]\n",
    "\n",
    "# Calculate the power spectrum using an M ~ F^-1/2 weighting\n",
    "pspec, pairs = ds.pspec(bls, input_data_weight='iC', norm='G^-1/2', verbose=True)"
   ]
  },
  {
   "cell_type": "code",
   "execution_count": 6,
   "metadata": {},
   "outputs": [
    {
     "name": "stdout",
     "output_type": "stream",
     "text": [
      "(3, 64, 120)\n",
      "((0, 24, 25), (1, 24, 25))\n",
      "((0, 24, 38), (1, 24, 38))\n",
      "((0, 25, 38), (1, 25, 38))\n"
     ]
    }
   ],
   "source": [
    "# Print the shape of the power spectrum array that was output\n",
    "print(pspec.shape) # (No. dataset and baseline pairs, No. freqs., No. time bins)\n",
    "\n",
    "# Print the list of datasets/baselines that went into each power spectrum\n",
    "for pair in pairs:\n",
    "    print(pair)"
   ]
  },
  {
   "cell_type": "code",
   "execution_count": 7,
   "metadata": {},
   "outputs": [
    {
     "data": {
      "text/plain": [
       "[<matplotlib.lines.Line2D at 0x104804fd0>]"
      ]
     },
     "execution_count": 7,
     "metadata": {},
     "output_type": "execute_result"
    },
    {
     "data": {
      "image/png": "[encoded data removed]",
      "text/plain": [
       "<matplotlib.figure.Figure at 0x1084cdf50>"
      ]
     },
     "metadata": {},
     "output_type": "display_data"
    }
   ],
   "source": [
    "# Plot a few example power spectra\n",
    "plt.plot(pspec[0,:,0])\n",
    "plt.plot(pspec[1,:,0])"
   ]
  },
  {
   "cell_type": "code",
   "execution_count": null,
   "metadata": {
    "collapsed": true
   },
   "outputs": [],
   "source": []
  }
 ],
 "metadata": {
  "kernelspec": {
   "display_name": "Python 2",
   "language": "python",
   "name": "python2"
  },
  "language_info": {
   "codemirror_mode": {
    "name": "ipython",
    "version": 2
   },
   "file_extension": ".py",
   "mimetype": "text/x-python",
   "name": "python",
   "nbconvert_exporter": "python",
   "pygments_lexer": "ipython2",
   "version": "2.7.14"
  }
 },
 "nbformat": 4,
 "nbformat_minor": 2
}
