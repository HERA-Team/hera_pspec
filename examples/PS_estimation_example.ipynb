{
 "cells": [
  {
   "cell_type": "markdown",
   "metadata": {},
   "source": [
    "# Simple power spectrum estimation from an input dataset\n",
    "This example shows how to estimate the power spectrum from a set of data files using an Optimal Quadratic Estimator (OQE) approach."
   ]
  },
  {
   "cell_type": "code",
   "execution_count": 1,
   "metadata": {
    "collapsed": true
   },
   "outputs": [],
   "source": [
    "%matplotlib inline\n",
    "import pyuvdata as uv\n",
    "import hera_pspec as ps\n",
    "import numpy as np\n",
    "import pylab as plt"
   ]
  },
  {
   "cell_type": "markdown",
   "metadata": {},
   "source": [
    "## Loading the input data\n",
    "The input data are specified as a list of `UVData` objects, which are then packaged into a `PSpecData` class. This class is responsible for collecting the data and covariances together and performing the OQE power spectrum estimation. At least two `UVData` objects must be specified -- power spectra are only ever estimated on independent datafiles, to remove noise bias."
   ]
  },
  {
   "cell_type": "code",
   "execution_count": 2,
   "metadata": {
    "collapsed": false
   },
   "outputs": [
    {
     "name": "stdout",
     "output_type": "stream",
     "text": [
      "[(24, 24), (24, 25), (24, 38), (25, 25), (25, 38), (38, 38)]\n"
     ]
    }
   ],
   "source": [
    "# List of filenames of the data to load\n",
    "dfiles = [\n",
    "    'zen.2458042.12552.xx.HH.uvXAA',\n",
    "    'zen.2458042.12552.xx.HH.uvXAA'\n",
    "]\n",
    "\n",
    "# Load into UVData objects\n",
    "d = []\n",
    "for dfile in dfiles:\n",
    "    _d = uv.UVData()\n",
    "    _d.read_miriad(dfile)\n",
    "    d.append(_d)\n",
    "\n",
    "# Set weights (None => flags from UVData will be used)\n",
    "w = [None for _d in dfiles]\n",
    "\n",
    "# Check which baseline pairs are available\n",
    "print(d[0].get_antpairs())"
   ]
  },
  {
   "cell_type": "code",
   "execution_count": 3,
   "metadata": {
    "collapsed": false
   },
   "outputs": [],
   "source": [
    "# Create a new PSpecData object\n",
    "ds = ps.PSpecData(dsets=d, wgts=w)"
   ]
  },
  {
   "cell_type": "markdown",
   "metadata": {},
   "source": [
    "## Estimating the power spectrum\n",
    "Estimate the power spectrum for all (non-auto) combinations of datasets in `PSpecData`. You can specify which baselines are included in the power spectrum estimate, and how the estimate should be weigted."
   ]
  },
  {
   "cell_type": "code",
   "execution_count": 4,
   "metadata": {
    "collapsed": false
   },
   "outputs": [],
   "source": [
    "# Specify which baselines to include\n",
    "bls = [(24,25), (24,38), (25,38)]\n",
    "\n",
    "# Calculate the power spectrum using an M ~ F^-1/2 weighting\n",
    "pspec, pairs = ds.pspec(bls, weights='F^-1/2')"
   ]
  },
  {
   "cell_type": "code",
   "execution_count": 5,
   "metadata": {
    "collapsed": false
   },
   "outputs": [
    {
     "name": "stdout",
     "output_type": "stream",
     "text": [
      "(3, 64, 120)\n",
      "((0, 24, 25), (1, 24, 25))\n",
      "((0, 24, 38), (1, 24, 38))\n",
      "((0, 25, 38), (1, 25, 38))\n"
     ]
    }
   ],
   "source": [
    "# Print the shape of the power spectrum array that was output\n",
    "print(pspec.shape) # (No. dataset and baseline pairs, No. freqs., No. time bins)\n",
    "\n",
    "# Print the list of datasets/baselines that went into each power spectrum\n",
    "for pair in pairs:\n",
    "    print(pair)"
   ]
  },
  {
   "cell_type": "code",
   "execution_count": 6,
   "metadata": {
    "collapsed": false
   },
   "outputs": [
    {
     "data": {
      "text/plain": [
       "[<matplotlib.lines.Line2D at 0x7f60c0306cd0>]"
      ]
     },
     "execution_count": 6,
     "metadata": {},
     "output_type": "execute_result"
    },
    {
     "data": {
      "image/png": "[encoded data removed]",
      "text/plain": [
       "<matplotlib.figure.Figure at 0x7f60c0306c90>"
      ]
     },
     "metadata": {},
     "output_type": "display_data"
    }
   ],
   "source": [
    "# Plot a few example power spectra\n",
    "plt.plot(pspec[0,:,0])\n",
    "plt.plot(pspec[1,:,0])"
   ]
  },
  {
   "cell_type": "markdown",
   "metadata": {},
   "source": [
    "## Groups of baselines\n",
    "Baselines can be grouped together to reduce the number of cross-power spectra that need to be calculated. The grouping works by performing inverse covariance-weighted averages of the data in each group and then performing the power spectrum estimation using the result.\n",
    "\n",
    "To group baselines, simply add a list of the corresponding baseline tuples to the `bls` list."
   ]
  },
  {
   "cell_type": "code",
   "execution_count": 16,
   "metadata": {
    "collapsed": true
   },
   "outputs": [],
   "source": [
    "# List of baselines. The first item here is a group of baselines that will \n",
    "# be averaged together (all the same here, for comparison)\n",
    "bls = [ \n",
    "        [(24,25),(24,25),(24,25)], \n",
    "        (24,38), \n",
    "        (25,38)\n",
    "      ]\n",
    "\n",
    "# Calculate the power spectrum using an M ~ F^-1/2 weighting\n",
    "pspec2, pairs2 = ds.pspec(bls, weights='F^-1/2')"
   ]
  },
  {
   "cell_type": "code",
   "execution_count": 18,
   "metadata": {
    "collapsed": false
   },
   "outputs": [
    {
     "name": "stdout",
     "output_type": "stream",
     "text": [
      "(3, 64, 120)\n",
      "(3, 64, 120)\n"
     ]
    }
   ],
   "source": [
    "# The output array is the same size as before (the 'group' is treated like a single baseline)\n",
    "print pspec.shape\n",
    "print pspec2.shape"
   ]
  },
  {
   "cell_type": "code",
   "execution_count": 19,
   "metadata": {
    "collapsed": false
   },
   "outputs": [
    {
     "data": {
      "text/plain": [
       "[<matplotlib.lines.Line2D at 0x7f60bf31e090>]"
      ]
     },
     "execution_count": 19,
     "metadata": {},
     "output_type": "execute_result"
    },
    {
     "data": {
      "image/png": "[encoded data removed]",
      "text/plain": [
       "<matplotlib.figure.Figure at 0x7f60bf4bf850>"
      ]
     },
     "metadata": {},
     "output_type": "display_data"
    }
   ],
   "source": [
    "# Fractional deviation between ungrouped and grouped power spectrum output\n",
    "plt.plot(1. - pspec2[0,:,0]/pspec[0,:,0])"
   ]
  },
  {
   "cell_type": "code",
   "execution_count": null,
   "metadata": {
    "collapsed": true
   },
   "outputs": [],
   "source": []
  }
 ],
 "metadata": {
  "kernelspec": {
   "display_name": "Python 2",
   "language": "python",
   "name": "python2"
  },
  "language_info": {
   "codemirror_mode": {
    "name": "ipython",
    "version": 2
   },
   "file_extension": ".py",
   "mimetype": "text/x-python",
   "name": "python",
   "nbconvert_exporter": "python",
   "pygments_lexer": "ipython2",
   "version": "2.7.12"
  }
 },
 "nbformat": 4,
 "nbformat_minor": 2
}
