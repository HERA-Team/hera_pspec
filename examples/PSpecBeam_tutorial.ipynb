{
 "cells": [
  {
   "cell_type": "markdown",
   "metadata": {},
   "source": [
    "# Creating and using `PSpecBeam` objects\n",
    "`PSpecBeam` objects carry information about the primary beam, such as how the beam solid angle varies with frequency. This information is needed to rescale power spectra into cosmological units, through the computation of a 'beam scalar'.\n",
    "\n",
    "There are several different ways to construct a `PSpecBeam` object."
   ]
  },
  {
   "cell_type": "markdown",
   "metadata": {},
   "source": [
    "## Gaussian beams: `PSpecBeamGauss`\n",
    "A Gaussian beam type is provided for simple testing purposes. We will use this to demonstrate the basic usage of `PSpecBeam` objects."
   ]
  },
  {
   "cell_type": "code",
   "execution_count": 1,
   "metadata": {},
   "outputs": [],
   "source": [
    "%matplotlib inline\n",
    "import numpy as np\n",
    "import matplotlib.pyplot as plt\n",
    "import hera_pspec as hp"
   ]
  },
  {
   "cell_type": "code",
   "execution_count": 2,
   "metadata": {},
   "outputs": [],
   "source": [
    "# Each beam is defined over a frequency interval:\n",
    "beam_freqs = np.linspace(100e6, 200e6, 200) # in Hz\n",
    "\n",
    "# Create a new Gaussian beam object with full-width at half-max. of 0.1 radians\n",
    "beam_gauss = hp.PSpecBeamGauss(fwhm=0.1, beam_freqs=beam_freqs)"
   ]
  },
  {
   "cell_type": "markdown",
   "metadata": {},
   "source": [
    "We now have a `PSpecBeamGauss` object, with a constant FWHM of 0.1 radians, defined over a frequency interval of [100, 200] MHz.\n",
    "\n",
    "`PSpecBeam` objects have a cosmology attached to them. Because we didn't manually specify a cosmology, this object was automatically instantiated with the default cosmology from `hera_pspec.conversions`:"
   ]
  },
  {
   "cell_type": "code",
   "execution_count": 3,
   "metadata": {},
   "outputs": [
    {
     "name": "stdout",
     "output_type": "stream",
     "text": [
      "Cosmo_Conversions object at <0x7f93da1617e0>\n",
      "Om_L : 0.6844; Om_b : 0.0491; Om_c : 0.2644; Om_M : 0.3135; Om_k : 0.0021; H0 : 67.2700\n"
     ]
    }
   ],
   "source": [
    "print(beam_gauss.cosmo)"
   ]
  },
  {
   "cell_type": "markdown",
   "metadata": {},
   "source": [
    "### Calculating the scalar conversion factor\n",
    "\n",
    "There are two main `PSpecBeam` methods that are needed by other bits of `hera_pspec`. The first is `compute_pspec_scalar()`, which outputs the scalar conversion factor for a specified range of frequencies. This factor is used to convert power spectra into physical units, e.g. in `PSpecData.pspec()`. It is calculated by performing two integrals, over the beam solid angle and the beam solid angle squared, and multiplying their ratio by a cosmological distance factor.\n",
    "\n",
    "The `compute_pspec_scalar()` method takes several arguments: to specify the frequency range to integrate the scalar over (`lower_freq`, `upper_freq`, and `num_freqs`); to specify which polarization to calculate the scalar for (`pol`), and to specify whether a tapering function has been applied to the power spectrum (`taper`):"
   ]
  },
  {
   "cell_type": "code",
   "execution_count": 4,
   "metadata": {},
   "outputs": [
    {
     "name": "stdout",
     "output_type": "stream",
     "text": [
      "Scalar: 280222020.67454016\n"
     ]
    }
   ],
   "source": [
    "scalar = beam_gauss.compute_pspec_scalar(lower_freq=100e6, upper_freq=120e6, num_freqs=20, \n",
    "                                         num_steps=5000, pol='XX', taper='none', \n",
    "                                         little_h=True)\n",
    "print(\"Scalar:\", scalar)"
   ]
  },
  {
   "cell_type": "markdown",
   "metadata": {},
   "source": [
    "In `PSpecData`, the delay spectrum returned by `p_hat` (calculated by applying an optimal quadratic estimator to a pair of visbilities) is multiplied by `scalar` to convert it to cosmological units.\n",
    "\n",
    "In the above, the frequency range should correspond to the frequency range that the delay spectrum was calculated over. The `num_freqs` argument sets the size of the grid to evaluate the scalar integrand over, and is usually chosen to be a reasonably small value, since the integrand tends to vary quite smoothly with frequency.\n",
    "\n",
    "### Beam solid angle integrals\n",
    "The `num_steps` argument, on the other hand, specifies the size of the grid over which the beam solid angle should be interpolated before it is integrated (i.e. to produce the scalar integrand). This should normally be set to a larger value, as accuracy is more important here. The integrals of the beam solid angle are returned by the following methods (which return arrays of the same size as `beam_freqs`):"
   ]
  },
  {
   "cell_type": "code",
   "execution_count": 5,
   "metadata": {},
   "outputs": [
    {
     "data": {
      "text/plain": [
       "Text(0.5, 0, 'Freq. [MHz]')"
      ]
     },
     "execution_count": 5,
     "metadata": {},
     "output_type": "execute_result"
    },
    {
     "data": {
      "image/png": "[encoded data removed]",
      "text/plain": [
       "<Figure size 640x480 with 1 Axes>"
      ]
     },
     "metadata": {},
     "output_type": "display_data"
    }
   ],
   "source": [
    "OmegaP = beam_gauss.power_beam_int()\n",
    "OmegaPP = beam_gauss.power_beam_sq_int()\n",
    "\n",
    "plt.plot(beam_freqs/1e6, OmegaP, 'b-')\n",
    "plt.plot(beam_freqs/1e6, OmegaPP, 'r-')\n",
    "plt.xlabel(\"Freq. [MHz]\")"
   ]
  },
  {
   "cell_type": "markdown",
   "metadata": {},
   "source": [
    "The integrals of the beam solid angle are trivial in this example, as we are using a Gaussian beam with a FWHM that is constant in frequency.\n",
    "\n",
    "### Units and normalization\n",
    "\n",
    "The `compute_pspec_scalar()` has several other keyword arguments. In the example above, `little_h=True` was specified, to return the scalar in units that will result in a power spectrum that is in $(h^{-1} {\\rm Mpc})^3$ units.\n",
    "\n",
    "The normalization of the power spectrum also depends on whether a taper was applied to the data. The taper that was used can be specified as a string, using the `taper` keyword argument (which we set to `none` here).\n",
    "\n",
    "### Noise power spectrum normalization\n",
    "Noise power spectra need a different normalization scalar to signal power spectra. To calculate the scalar for a noise power spectrum, pass `noise_scalar=True` to `compute_pspec_scalar()`.\n",
    "\n",
    "### Conversion to temperature units\n",
    "A beam solid angle is also needed to convert between flux density units and temperature units. The `Jy_to_mK()` method performs this conversion. To calculate this factor, pass a frequency and polarization:"
   ]
  },
  {
   "cell_type": "code",
   "execution_count": 6,
   "metadata": {},
   "outputs": [
    {
     "name": "stdout",
     "output_type": "stream",
     "text": [
      "[287.25252717 183.84161739 127.66778985  93.79674357  71.81313179]\n"
     ]
    }
   ],
   "source": [
    "freqs = np.linspace(100e6, 200e6, 5) # in Hz\n",
    "print(beam_gauss.Jy_to_mK(freqs, pol='XX'))"
   ]
  },
  {
   "cell_type": "markdown",
   "metadata": {},
   "source": [
    "Assuming that you have visibilities that are known to be in Jy units, you can apply this conversion to a `pyuvdata.UVData` object like so:"
   ]
  },
  {
   "cell_type": "code",
   "execution_count": 7,
   "metadata": {},
   "outputs": [
    {
     "name": "stderr",
     "output_type": "stream",
     "text": [
      "Fixing auto-correlations to be be real-only, after some imaginary values were detected in data_array. Largest imaginary component was 2.280477247040835e-06, largest imaginary/real ratio was 2.764863893389702e-09.\n"
     ]
    }
   ],
   "source": [
    "from pyuvdata import UVData\n",
    "import os\n",
    "\n",
    "# Create a UVData object and fill it with data\n",
    "datafile = os.path.join('../hera_pspec/data/', 'zen.2458042.12552.xx.HH.uvXAA')\n",
    "uvd = UVData()\n",
    "uvd.read_miriad(datafile)\n",
    "\n",
    "# Apply unit conversion factor to UVData\n",
    "uvd.data_array *= beam_gauss.Jy_to_mK(np.unique(uvd.freq_array))[None, None, :, None]\n",
    "# The expression [None, None, :, None] reshapes the conversion factor into the same shape as as the data_array"
   ]
  },
  {
   "cell_type": "markdown",
   "metadata": {},
   "source": [
    "Any power spectra created using this `UVData` object will be ${\\rm mK}$ units (actually, ${\\rm mK}^2 ({\\rm Mpc})^3$ or similar)."
   ]
  },
  {
   "cell_type": "markdown",
   "metadata": {},
   "source": [
    "## Passing a beam to `PSpecData`\n",
    "The main purpose of `PSpecBeam` objects is to provide the `PSpecData` class with a way of normalizing the power spectra that it produces. To attach a `PSpecBeam` object to a `PSpecData` object, you can either pass one in when you instantiate the class, i.e."
   ]
  },
  {
   "cell_type": "code",
   "execution_count": 8,
   "metadata": {},
   "outputs": [],
   "source": [
    "# Create PSpecData with a beam attached\n",
    "psd = hp.PSpecData(dsets=[], wgts=[], beam=beam_gauss)"
   ]
  },
  {
   "cell_type": "markdown",
   "metadata": {},
   "source": [
    "Or, you can specify a beam manually, i.e."
   ]
  },
  {
   "cell_type": "code",
   "execution_count": 9,
   "metadata": {},
   "outputs": [],
   "source": [
    "psd.primary_beam = beam_gauss"
   ]
  },
  {
   "cell_type": "markdown",
   "metadata": {},
   "source": [
    "The `PSpecData.scalar()` method will then use the correct beam to rescale the power spectra output by `PSpecData.pspec()`.\n",
    "\n",
    "Note that if you do not specify a beam file at any point, `PSpecData.scalar()` will raise the following warning when it is called: \"Warning: self.primary_beam is not defined, so pspectra are not properly normalized\". It will then set `scalar = 1` and continue running."
   ]
  },
  {
   "cell_type": "markdown",
   "metadata": {},
   "source": [
    "## Beams from a `UVBeam` object: `PSpecBeamUV`\n",
    "Real beams are considerably more complicated than the Gaussian example. The `hera_pspec` module currently supports beams that are specified in the `UVBeam` format provided by the `pyuvdata` package. These usually contain Healpix-pixelated beams as a function of frequency and polarization.\n",
    "\n",
    "To create a beam that uses this format, simply create a new `PSpecBeamUV` instance with the name of a `beamfits` file that is supported by `UVBeam`:"
   ]
  },
  {
   "cell_type": "code",
   "execution_count": 10,
   "metadata": {},
   "outputs": [],
   "source": [
    "beamfile = os.path.join('../hera_pspec/data/', 'HERA_NF_dipole_power.beamfits')\n",
    "beam_uv = hp.PSpecBeamUV(beamfile)"
   ]
  },
  {
   "cell_type": "markdown",
   "metadata": {},
   "source": [
    "Internally, `PSpecBeam` will calculate the beam solid angle integrals using the `UVBeam.get_beam_area()` and `UVBeam.get_beam_sq_area()` methods. These use Healpix to perform the integrals using spherical harmonic transforms. The relevant frequency ranges will be read directly from the `UVBeam` object. Other than this detail, `PSpecBeamUV` objects behave in the same way as `PSpecBeamGauss` object, e.g. to calculate the beam scalar:"
   ]
  },
  {
   "cell_type": "code",
   "execution_count": 11,
   "metadata": {},
   "outputs": [
    {
     "name": "stdout",
     "output_type": "stream",
     "text": [
      "Scalar: 2035226379.7771878\n"
     ]
    }
   ],
   "source": [
    "scalar = beam_uv.compute_pspec_scalar(lower_freq=100e6, upper_freq=120e6, num_freqs=20, \n",
    "                                      num_steps=5000, pol='XX', taper='none', \n",
    "                                      little_h=True)\n",
    "print(\"Scalar:\", scalar)"
   ]
  },
  {
   "cell_type": "markdown",
   "metadata": {},
   "source": [
    "To access the `UVBeam` object stored inside a `PSpecBeamUV`, you can do the following:"
   ]
  },
  {
   "cell_type": "code",
   "execution_count": 12,
   "metadata": {},
   "outputs": [
    {
     "name": "stdout",
     "output_type": "stream",
     "text": [
      "<pyuvdata.uvbeam.uvbeam.UVBeam object at 0x7f93993e1ea0>\n"
     ]
    }
   ],
   "source": [
    "uvbeam = beam_uv.primary_beam\n",
    "print(uvbeam)"
   ]
  },
  {
   "cell_type": "markdown",
   "metadata": {},
   "source": [
    "## Beam from beam solid angle arrays: `PSpecBeamFromArray`\n",
    "If you want to experiment with non-trivial primary beam models without having to construct `UVBeam` objects and all of the metadata that they require, use `PSpecBeamFromArray`. This allows you to provide the integrated beam and beam-squared solid angles (i.e. the outputs of the `power_beam_int()` and `power_beam_sq_int()` methods) manually, as a set of arrays as a function of frequency.\n",
    "\n",
    "You can either pass in arrays for a single polarization (which will be assumed to be `XX`), or you can pass in dictionaries with arrays for multiple polarizations."
   ]
  },
  {
   "cell_type": "code",
   "execution_count": 13,
   "metadata": {},
   "outputs": [],
   "source": [
    "# Add the integrated beam arrays that we output for the Gaussian beam earlier\n",
    "# if fed arrays assumes pI polarization\n",
    "custom_beam = hp.PSpecBeamFromArray(OmegaP=OmegaP, OmegaPP=OmegaPP, beam_freqs=beam_freqs)\n",
    "\n",
    "# Use the same beam arrays, but to specify multiple polarizations using dicts\n",
    "custom_beam2 = hp.PSpecBeamFromArray(OmegaP={'XX': OmegaP, 'YY': OmegaP}, \n",
    "                                     OmegaPP={'XX': OmegaPP, 'YY': OmegaPP},\n",
    "                                     beam_freqs=beam_freqs)"
   ]
  },
  {
   "cell_type": "markdown",
   "metadata": {},
   "source": [
    "You can also add additional polarizations (or replace existing ones) using the `add_pol()` method:"
   ]
  },
  {
   "cell_type": "code",
   "execution_count": 14,
   "metadata": {},
   "outputs": [],
   "source": [
    "custom_beam.add_pol(pol='XY', OmegaP=OmegaP, OmegaPP=OmegaPP)"
   ]
  },
  {
   "cell_type": "markdown",
   "metadata": {},
   "source": [
    "You can check which polarizations are available in a couple of ways:"
   ]
  },
  {
   "cell_type": "code",
   "execution_count": 15,
   "metadata": {},
   "outputs": [
    {
     "name": "stdout",
     "output_type": "stream",
     "text": [
      "Method 1: dict_keys([1, -7])\n",
      "Method 2: PSpecBeamFromArray object\n",
      "\tFrequency range: Min. 1.0000e+08 Hz, Max. 2.0000e+08 Hz\n",
      "\tAvailable pols: pI, xy\n"
     ]
    }
   ],
   "source": [
    "print(\"Method 1:\", custom_beam.OmegaP.keys())\n",
    "print(\"Method 2:\", custom_beam)"
   ]
  },
  {
   "cell_type": "markdown",
   "metadata": {},
   "source": [
    "## Creating your own `PSpecBeam` class\n",
    "In case you have beam information in a custom format and want to create your own `PSpecBeam` class, subclass off `PSpecBeamBase`. This provides the `compute_pspec_scalar()` and `Jy_to_mK()` methods, and your subclass should provide `power_beam_int(pol)` and `power_beam_sq_int(pol)` methods.\n",
    "\n",
    "It should also set the `self.beam_freqs` and `self.cosmo` properties, as these are expected by the `PSpecBeamBase` methods."
   ]
  },
  {
   "cell_type": "markdown",
   "metadata": {},
   "source": []
  },
  {
   "cell_type": "markdown",
   "metadata": {},
   "source": []
  }
 ],
 "metadata": {
  "kernelspec": {
   "display_name": "Python 3",
   "language": "python",
   "name": "python3"
  },
  "language_info": {
   "codemirror_mode": {
    "name": "ipython",
    "version": 3
   },
   "file_extension": ".py",
   "mimetype": "text/x-python",
   "name": "python",
   "nbconvert_exporter": "python",
   "pygments_lexer": "ipython3",
   "version": "3.10.12"
  }
 },
 "nbformat": 4,
 "nbformat_minor": 2
}
