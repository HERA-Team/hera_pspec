{
 "cells": [
  {
   "cell_type": "markdown",
   "metadata": {},
   "source": [
    "## Example Notebook on Forming Pseudo-Stokes Visibilities with `hera_pspec.pstokes`\n",
    "\n",
    "This example shows how to combine visibilities to form pseudo-Stokes visibilities.\n",
    "\n",
    "HERA Power Spectrum Team"
   ]
  },
  {
   "cell_type": "code",
   "execution_count": 1,
   "metadata": {
    "collapsed": true
   },
   "outputs": [],
   "source": [
    "%matplotlib inline\n",
    "import matplotlib.pyplot as plt\n",
    "import hera_pspec as hp\n",
    "from hera_pspec.data import DATA_PATH\n",
    "import os\n",
    "import glob\n",
    "from pyuvdata import UVData\n",
    "import numpy as np"
   ]
  },
  {
   "cell_type": "markdown",
   "metadata": {},
   "source": [
    "The input can be specified as miriad files or UVData objects. The miriad files are internally converted to UVData objects if the inputs are given as miriad files.\n",
    "\n",
    "This example uses miriad files with xx and yy polarizations as inputs to form Stokes I and Q."
   ]
  },
  {
   "cell_type": "code",
   "execution_count": 2,
   "metadata": {
    "collapsed": true
   },
   "outputs": [],
   "source": [
    "dset1 = os.path.join(DATA_PATH, 'zen.all.xx.LST.1.06964.uvA')  # xx miriad file\n",
    "dset2 = os.path.join(DATA_PATH, 'zen.all.yy.LST.1.06964.uvA')  # yy miriad file"
   ]
  },
  {
   "cell_type": "markdown",
   "metadata": {},
   "source": [
    "The `hera_pspec.pstokes.construct_stokes` function validates the input datasets to ensure that the correct datasets are specified to form the pseudo stokes visibilities and calls the `_combine_pol` function. The `_combine_pol` function combines the visibilities to form the pseudo stokes visibilities and changes the metadata of the UVData object accordingly for the flags, polarization, history and nsamples."
   ]
  },
  {
   "cell_type": "code",
   "execution_count": 3,
   "metadata": {
    "collapsed": true
   },
   "outputs": [],
   "source": [
    "uvdI = hp.pstokes.construct_pstokes(dset1=dset1, dset2=dset2, pstokes='pI')\n",
    "uvdQ = hp.pstokes.construct_pstokes(dset1=dset1, dset2=dset2, pstokes='pQ')"
   ]
  },
  {
   "cell_type": "code",
   "execution_count": 4,
   "metadata": {},
   "outputs": [
    {
     "name": "stdout",
     "output_type": "stream",
     "text": [
      "uvdI pols: ['pI']\n",
      "uvdQ pols: ['pQ']\n"
     ]
    }
   ],
   "source": [
    "print(\"uvdI pols: {}\".format(uvdI.get_pols()))\n",
    "print(\"uvdQ pols: {}\".format(uvdQ.get_pols()))"
   ]
  },
  {
   "cell_type": "markdown",
   "metadata": {},
   "source": [
    "## Plotting pseudo-Stokes I and Q Visibilities\n",
    "\n",
    "Here make some basic waterfall plots for the merged pseudo-Stokes visibilities."
   ]
  },
  {
   "cell_type": "code",
   "execution_count": 5,
   "metadata": {},
   "outputs": [
    {
     "name": "stderr",
     "output_type": "stream",
     "text": [
      "divide by zero encountered in log10\n",
      "divide by zero encountered in log10\n"
     ]
    },
    {
     "data": {
      "text/plain": [
       "<matplotlib.text.Text at 0x1124e7390>"
      ]
     },
     "execution_count": 5,
     "metadata": {},
     "output_type": "execute_result"
    },
    {
     "data": {
      "image/png": "[encoded data removed]",
      "text/plain": [
       "<matplotlib.figure.Figure at 0x114113f90>"
      ]
     },
     "metadata": {},
     "output_type": "display_data"
    }
   ],
   "source": [
    "dataI = uvdI.get_data(24, 38)\n",
    "dataQ = uvdQ.get_data(24, 38)\n",
    "\n",
    "fig, axes = plt.subplots(1, 2, figsize=(15, 6))\n",
    "fig.subplots_adjust(hspace=0.3)\n",
    "\n",
    "ax = axes[0]\n",
    "ax.set_title('(24, 25) I pol')\n",
    "cax = ax.imshow(np.log10(np.abs(dataI)), aspect='auto', vmin=-3, vmax=3, cmap='magma')\n",
    "fig.colorbar(cax, ax=ax)\n",
    "ax.set_ylabel('Timestamps', fontsize=14)\n",
    "ax.set_xlabel('Frequency channels', fontsize=14)\n",
    "\n",
    "ax = axes[1]\n",
    "ax.set_title('(24, 25) Q pol')\n",
    "cax = ax.imshow(np.log10(np.abs(dataQ)), aspect='auto', vmin=-3, vmax=3, cmap='magma')\n",
    "fig.colorbar(cax, ax=ax)\n",
    "ax.set_ylabel('Timestamps', fontsize=14)\n",
    "ax.set_xlabel('Frequency channels', fontsize=14)"
   ]
  },
  {
   "cell_type": "markdown",
   "metadata": {},
   "source": [
    "## Estimating the Power Spectra\n",
    "\n",
    "Estimating polarized power spectra is identical to estimating the power spectra for linear dipole polarizations, except one needs to feed the `pols` argument of `PSpecData.pspec()` appropriately. See the `PS_estimation_example` notebook for details."
   ]
  },
  {
   "cell_type": "code",
   "execution_count": null,
   "metadata": {
    "collapsed": true
   },
   "outputs": [],
   "source": []
  }
 ],
 "metadata": {
  "kernelspec": {
   "display_name": "Python 3",
   "language": "python",
   "name": "python3"
  },
  "language_info": {
   "codemirror_mode": {
    "name": "ipython",
    "version": 3
   },
   "file_extension": ".py",
   "mimetype": "text/x-python",
   "name": "python",
   "nbconvert_exporter": "python",
   "pygments_lexer": "ipython3",
   "version": "3.6.7"
  }
 },
 "nbformat": 4,
 "nbformat_minor": 2
}
