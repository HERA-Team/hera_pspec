{
 "cells": [
  {
   "cell_type": "markdown",
   "metadata": {},
   "source": [
    "## Forming Pseudo-Stokes Visibilities with `hera_pspec.pstokes`\n",
    "\n",
    "This example shows how to combine visibilities to form pseudo-Stokes visibilities.\n",
    "\n",
    "*HERA Power Spectrum Team*"
   ]
  },
  {
   "cell_type": "code",
   "execution_count": 1,
   "metadata": {},
   "outputs": [
    {
     "name": "stderr",
     "output_type": "stream",
     "text": [
      "/users/hgarsden/anaconda3_herasim/lib/python3.7/site-packages/hera_sim/visibilities/__init__.py:27: UserWarning: PRISim failed to import.\n",
      "  warnings.warn(\"PRISim failed to import.\")\n",
      "/users/hgarsden/anaconda3_herasim/lib/python3.7/site-packages/hera_sim/visibilities/__init__.py:33: UserWarning: VisGPU failed to import.\n",
      "  warnings.warn(\"VisGPU failed to import.\")\n",
      "/users/hgarsden/anaconda3_herasim/lib/python3.7/site-packages/hera_sim/__init__.py:37: FutureWarning: \n",
      "In the next major release, all HERA-specific variables will be removed from the codebase. The following variables will need to be accessed through new class-like structures to be introduced in the next major release: \n",
      "\n",
      "noise.HERA_Tsky_mdl\n",
      "noise.HERA_BEAM_POLY\n",
      "sigchain.HERA_NRAO_BANDPASS\n",
      "rfi.HERA_RFI_STATIONS\n",
      "\n",
      "Additionally, the next major release will involve modifications to the package's API, which move toward a regularization of the way in which hera_sim methods are interfaced with; in particular, changes will be made such that the Simulator class is the most intuitive way of interfacing with the hera_sim package features.\n",
      "  FutureWarning)\n"
     ]
    }
   ],
   "source": [
    "%matplotlib inline\n",
    "import matplotlib.pyplot as plt\n",
    "import hera_pspec as hp\n",
    "from hera_pspec.data import DATA_PATH\n",
    "import os\n",
    "import glob\n",
    "from pyuvdata import UVData\n",
    "import numpy as np"
   ]
  },
  {
   "cell_type": "markdown",
   "metadata": {},
   "source": [
    "The input can be specified as miriad files or UVData objects. The miriad files are internally converted to UVData objects if the inputs are given as miriad files.\n",
    "\n",
    "This example uses miriad files with xx and yy polarizations as inputs to form Stokes I and Q."
   ]
  },
  {
   "cell_type": "code",
   "execution_count": 2,
   "metadata": {},
   "outputs": [],
   "source": [
    "dset1 = UVData()\n",
    "dset1.read_miriad(os.path.join(DATA_PATH, 'zen.all.xx.LST.1.06964.uvA'))  # xx miriad file\n",
    "dset2 = UVData()\n",
    "dset2.read_miriad(os.path.join(DATA_PATH, 'zen.all.yy.LST.1.06964.uvA'))  # yy miriad file"
   ]
  },
  {
   "cell_type": "markdown",
   "metadata": {},
   "source": [
    "The `hera_pspec.pstokes.construct_stokes` function validates the input datasets to ensure that the correct datasets are specified to form the pseudo stokes visibilities and calls the `_combine_pol` function. The `_combine_pol` function combines the visibilities to form the pseudo stokes visibilities and changes the metadata of the UVData object accordingly for the flags, polarization, history and nsamples."
   ]
  },
  {
   "cell_type": "code",
   "execution_count": 3,
   "metadata": {},
   "outputs": [],
   "source": [
    "uvdI = hp.pstokes.construct_pstokes(dset1=dset1, dset2=dset2, pstokes='pI')\n",
    "uvdQ = hp.pstokes.construct_pstokes(dset1=dset1, dset2=dset2, pstokes='pQ')"
   ]
  },
  {
   "cell_type": "code",
   "execution_count": 4,
   "metadata": {},
   "outputs": [
    {
     "name": "stdout",
     "output_type": "stream",
     "text": [
      "uvdI pols: ['pI']\n",
      "uvdQ pols: ['pQ']\n"
     ]
    }
   ],
   "source": [
    "print(\"uvdI pols: {}\".format(uvdI.get_pols()))\n",
    "print(\"uvdQ pols: {}\".format(uvdQ.get_pols()))"
   ]
  },
  {
   "cell_type": "markdown",
   "metadata": {},
   "source": [
    "## Plotting pseudo-Stokes I and Q Visibilities\n",
    "\n",
    "Here make some basic waterfall plots for the merged pseudo-Stokes visibilities."
   ]
  },
  {
   "cell_type": "code",
   "execution_count": 5,
   "metadata": {},
   "outputs": [
    {
     "name": "stderr",
     "output_type": "stream",
     "text": [
      "divide by zero encountered in log10\n",
      "divide by zero encountered in log10\n"
     ]
    },
    {
     "data": {
      "text/plain": [
       "Text(0.5, 0, 'Frequency channels')"
      ]
     },
     "execution_count": 5,
     "metadata": {},
     "output_type": "execute_result"
    },
    {
     "data": {
      "image/png": "[encoded data removed]",
      "text/plain": [
       "<Figure size 1080x432 with 4 Axes>"
      ]
     },
     "metadata": {
      "needs_background": "light"
     },
     "output_type": "display_data"
    }
   ],
   "source": [
    "dataI = uvdI.get_data(24, 38)\n",
    "dataQ = uvdQ.get_data(24, 38)\n",
    "\n",
    "fig, axes = plt.subplots(1, 2, figsize=(15, 6))\n",
    "fig.subplots_adjust(hspace=0.3)\n",
    "\n",
    "ax = axes[0]\n",
    "ax.set_title('(24, 25) I pol')\n",
    "cax = ax.imshow(np.log10(np.abs(dataI)), aspect='auto', vmin=-3, vmax=3, cmap='magma')\n",
    "fig.colorbar(cax, ax=ax)\n",
    "ax.set_ylabel('Timestamps', fontsize=14)\n",
    "ax.set_xlabel('Frequency channels', fontsize=14)\n",
    "\n",
    "ax = axes[1]\n",
    "ax.set_title('(24, 25) Q pol')\n",
    "cax = ax.imshow(np.log10(np.abs(dataQ)), aspect='auto', vmin=-3, vmax=3, cmap='magma')\n",
    "fig.colorbar(cax, ax=ax)\n",
    "ax.set_ylabel('Timestamps', fontsize=14)\n",
    "ax.set_xlabel('Frequency channels', fontsize=14)"
   ]
  },
  {
   "cell_type": "markdown",
   "metadata": {},
   "source": [
    "## Estimating the Power Spectra\n",
    "\n",
    "Estimating polarized power spectra is identical to estimating the power spectra for linear dipole polarizations, except one needs to feed the `pols` argument of `PSpecData.pspec()` appropriately. See the `PS_estimation_example` notebook for details."
   ]
  }
 ],
 "metadata": {
  "kernelspec": {
   "display_name": "Python 3",
   "language": "python",
   "name": "python3"
  },
  "language_info": {
   "codemirror_mode": {
    "name": "ipython",
    "version": 3
   },
   "file_extension": ".py",
   "mimetype": "text/x-python",
   "name": "python",
   "nbconvert_exporter": "python",
   "pygments_lexer": "ipython3",
   "version": "3.7.6"
  }
 },
 "nbformat": 4,
 "nbformat_minor": 2
}
