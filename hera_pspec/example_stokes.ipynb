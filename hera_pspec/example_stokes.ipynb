{
 "cells": [
  {
   "cell_type": "markdown",
   "metadata": {},
   "source": [
    "# Combining visibilities to form pseudo Stokes visibilities"
   ]
  },
  {
   "cell_type": "markdown",
   "metadata": {},
   "source": [
    "This example shows how to combine visibilities to form pseudo Stokes I and Q from xx and yy visibilities."
   ]
  },
  {
   "cell_type": "code",
   "execution_count": 10,
   "metadata": {
    "collapsed": false
   },
   "outputs": [],
   "source": [
    "%matplotlib inline\n",
    "import numpy as np\n",
    "import matplotlib.pyplot as plt\n",
    "import pyuvdata\n",
    "import stokes as st"
   ]
  },
  {
   "cell_type": "markdown",
   "metadata": {},
   "source": [
    "The input can be specified as miriad files or UVData objects. The miriad files are internally converted to UVData objects if the inputs are given as miriad files.\n",
    "\n",
    "This example uses miriad files with xx and yy polarizations as inputs to form Stokes I and Q."
   ]
  },
  {
   "cell_type": "code",
   "execution_count": 7,
   "metadata": {
    "collapsed": false
   },
   "outputs": [],
   "source": [
    "dset1 = 'data/zen.all.xx.LST.1.06964.uvA' # xx miriad file\n",
    "dset2 = 'data/zen.all.yy.LST.1.06964.uvA' # yy miriad file"
   ]
  },
  {
   "cell_type": "markdown",
   "metadata": {},
   "source": [
    "The construct_stokes function validates the input datasets to ensure that the correct datasets are specified to form the pseudo stokes visibilities and calls the combine_pol function. The combine_pol function combines the visibilities to form the pseudo stokes visibilities and change metadata of the UVData object accordingly for example the flags, polarization, history and nsamples."
   ]
  },
  {
   "cell_type": "code",
   "execution_count": 11,
   "metadata": {
    "collapsed": false
   },
   "outputs": [
    {
     "ename": "AttributeError",
     "evalue": "'module' object has no attribute 'validate_stokes'",
     "output_type": "error",
     "traceback": [
      "\u001b[0;31m---------------------------------------------------------------------------\u001b[0m",
      "\u001b[0;31mAttributeError\u001b[0m                            Traceback (most recent call last)",
      "\u001b[0;32m<ipython-input-11-eae1f0952682>\u001b[0m in \u001b[0;36m<module>\u001b[0;34m()\u001b[0m\n\u001b[1;32m      1\u001b[0m \u001b[0mget_ipython\u001b[0m\u001b[0;34m(\u001b[0m\u001b[0;34m)\u001b[0m\u001b[0;34m.\u001b[0m\u001b[0mmagic\u001b[0m\u001b[0;34m(\u001b[0m\u001b[0;34mu'reload_ext autoreload'\u001b[0m\u001b[0;34m)\u001b[0m\u001b[0;34m\u001b[0m\u001b[0m\n\u001b[0;32m----> 2\u001b[0;31m \u001b[0muvI\u001b[0m \u001b[0;34m=\u001b[0m \u001b[0mst\u001b[0m\u001b[0;34m.\u001b[0m\u001b[0mvalidate_stokes\u001b[0m\u001b[0;34m(\u001b[0m\u001b[0mdset1\u001b[0m\u001b[0;34m=\u001b[0m\u001b[0mdset1\u001b[0m\u001b[0;34m,\u001b[0m\u001b[0mdset2\u001b[0m\u001b[0;34m=\u001b[0m\u001b[0mdset2\u001b[0m\u001b[0;34m,\u001b[0m\u001b[0mstokes\u001b[0m\u001b[0;34m=\u001b[0m\u001b[0;34m'I'\u001b[0m\u001b[0;34m)\u001b[0m\u001b[0;34m\u001b[0m\u001b[0m\n\u001b[0m\u001b[1;32m      3\u001b[0m \u001b[0muvQ\u001b[0m \u001b[0;34m=\u001b[0m \u001b[0mst\u001b[0m\u001b[0;34m.\u001b[0m\u001b[0mvalidate_stokes\u001b[0m\u001b[0;34m(\u001b[0m\u001b[0mdset1\u001b[0m\u001b[0;34m=\u001b[0m\u001b[0mdset1\u001b[0m\u001b[0;34m,\u001b[0m\u001b[0mdset2\u001b[0m\u001b[0;34m=\u001b[0m\u001b[0mdset2\u001b[0m\u001b[0;34m,\u001b[0m\u001b[0mstokes\u001b[0m\u001b[0;34m=\u001b[0m\u001b[0;34m'Q'\u001b[0m\u001b[0;34m)\u001b[0m\u001b[0;34m\u001b[0m\u001b[0m\n",
      "\u001b[0;31mAttributeError\u001b[0m: 'module' object has no attribute 'validate_stokes'"
     ]
    }
   ],
   "source": [
    "%reload_ext autoreload\n",
    "uvI = st.validate_stokes(dset1=dset1,dset2=dset2,stokes='I')\n",
    "uvQ = st.validate_stokes(dset1=dset1,dset2=dset2,stokes='Q')"
   ]
  },
  {
   "cell_type": "markdown",
   "metadata": {},
   "source": [
    "Displaying the metadata of the UVData object containing the pseudo stokes visibilities."
   ]
  },
  {
   "cell_type": "code",
   "execution_count": 4,
   "metadata": {
    "collapsed": false
   },
   "outputs": [
    {
     "name": "stdout",
     "output_type": "stream",
     "text": [
      "Polarization:  ['I']\n",
      "History: merged to form stokes visibilities. sig_clip=True, sigma=5.0, min_N=4, rephase=True Input files: zen.2458042.53563.xx.HH.uvXR-zen.2458042.54309.xx.HH.uvXR-zen.2458042.55054.xx.HH.uvXR-zen.2458043.53563.xx.HH.uvXR-zen.2458043.54309.xx.HH.uvXR-zen.2458043.55054.xx.HH.uvXR-zen.2458044.53562.xx.HH.uvXR-zen.2458044.54308.xx.HH.uvXR-zen.2458044.55054.xx.HH.uvXR-zen.2458045.52817.xx.HH.uvXR-zen.2458045.53562.xx.HH.uvXR-zen.2458045.54308.xx.HH.uvXR-zen.2458046.52817.xx.HH.uvXR-zen.2458046.53563.xx.HH.uvXR-zen.2458046.54308.xx.HH.uvXR-zen.2458047.52817.xx.HH.uvXR-zen.2458047.53562.xx.HH.uvXR-zen.2458048.52071.xx.HH.uvXR-zen.2458048.52816.xx.HH.uvXR-zen.2458048.53562.xx.HH.uvXR-zen.2458049.52071.xx.HH.uvXR-zen.2458049.52817.xx.HH.uvXR-zen.2458049.53562.xx.HH.uvXR-zen.2458050.51326.xx.HH.uvXR-zen.2458050.52072.xx.HH.uvXR-zen.2458050.52817.xx.HH.uvXR-zen.2458051.51326.xx.HH.uvXR-zen.2458051.52072.xx.HH.uvXR-zen.2458051.52817.xx.HH.uvXR-zen.2458052.51325.xx.HH.uvXR-zen.2458052.52071.xx.HH.uvXR-zen.2458052.52816.xx.HH.uvXR-zen.2458054.50580.xx.HH.uvXR-zen.2458054.51325.xx.HH.uvXR-zen.2458054.52071.xx.HH.uvXR-zen.2458055.50580.xx.HH.uvXR-zen.2458055.51326.xx.HH.uvXR-zen.2458055.52071.xx.HH.uvXR-zen.2458056.49835.xx.HH.uvXR-zen.2458056.50580.xx.HH.uvXR-zen.2458056.51326.xx.HH.uvXR\n",
      "  Read/written with pyuvdata version: 1.2.1.  Git origin: https://github.com/HERA-Team/pyuvdata.  Git hash: 1764956382453fc9582477f99cc73132e3b9c0d0.  Git branch: renumber_ants_miriad.  Git description: v1.2-139-g1764956.  Downselected to specific antennas, times using pyuvdata.\n",
      "  Read/written with pyuvdata version: 1.2.1.  Git origin: https://github.com/HERA-Team/pyuvdata.  Git hash: 92b3473f735a837856ad9a65043c68ace02a2ee7.  Git branch: master.  Git description: v1.2-107-g92b3473.sig_clip=True, sigma=5.0, min_N=4, rephase=True Input files: zen.2458042.53563.yy.HH.uvXR-zen.2458042.54309.yy.HH.uvXR-zen.2458042.55054.yy.HH.uvXR-zen.2458043.53563.yy.HH.uvXR-zen.2458043.54309.yy.HH.uvXR-zen.2458043.55054.yy.HH.uvXR-zen.2458044.53562.yy.HH.uvXR-zen.2458044.54308.yy.HH.uvXR-zen.2458044.55054.yy.HH.uvXR-zen.2458045.52817.yy.HH.uvXR-zen.2458045.53562.yy.HH.uvXR-zen.2458045.54308.yy.HH.uvXR-zen.2458046.52817.yy.HH.uvXR-zen.2458046.53563.yy.HH.uvXR-zen.2458046.54308.yy.HH.uvXR-zen.2458047.52817.yy.HH.uvXR-zen.2458047.53562.yy.HH.uvXR-zen.2458048.52071.yy.HH.uvXR-zen.2458048.52816.yy.HH.uvXR-zen.2458048.53562.yy.HH.uvXR-zen.2458049.52071.yy.HH.uvXR-zen.2458049.52817.yy.HH.uvXR-zen.2458049.53562.yy.HH.uvXR-zen.2458050.51326.yy.HH.uvXR-zen.2458050.52072.yy.HH.uvXR-zen.2458050.52817.yy.HH.uvXR-zen.2458051.51326.yy.HH.uvXR-zen.2458051.52072.yy.HH.uvXR-zen.2458051.52817.yy.HH.uvXR-zen.2458052.51325.yy.HH.uvXR-zen.2458052.52071.yy.HH.uvXR-zen.2458052.52816.yy.HH.uvXR-zen.2458054.50580.yy.HH.uvXR-zen.2458054.51325.yy.HH.uvXR-zen.2458054.52071.yy.HH.uvXR-zen.2458055.50580.yy.HH.uvXR-zen.2458055.51326.yy.HH.uvXR-zen.2458055.52071.yy.HH.uvXR-zen.2458056.49835.yy.HH.uvXR-zen.2458056.50580.yy.HH.uvXR-zen.2458056.51326.yy.HH.uvXR\n",
      "  Read/written with pyuvdata version: 1.2.1.  Git origin: https://github.com/HERA-Team/pyuvdata.  Git hash: 1764956382453fc9582477f99cc73132e3b9c0d0.  Git branch: renumber_ants_miriad.  Git description: v1.2-139-g1764956.  Downselected to specific antennas, times using pyuvdata.\n",
      "  Read/written with pyuvdata version: 1.2.1.  Git origin: https://github.com/HERA-Team/pyuvdata.  Git hash: 92b3473f735a837856ad9a65043c68ace02a2ee7.  Git branch: master.  Git description: v1.2-107-g92b3473.\n"
     ]
    }
   ],
   "source": [
    "print 'Polarization: ', (uvI.get_pols())\n",
    "print 'History:' ,(uvI.history)"
   ]
  },
  {
   "cell_type": "markdown",
   "metadata": {},
   "source": [
    "# Plotting pseudo Stokes I and Q visibilties "
   ]
  },
  {
   "cell_type": "code",
   "execution_count": 5,
   "metadata": {
    "collapsed": false
   },
   "outputs": [
    {
     "name": "stderr",
     "output_type": "stream",
     "text": [
      "divide by zero encountered in log10\n",
      "divide by zero encountered in log10\n"
     ]
    },
    {
     "data": {
      "image/png": "[encoded data removed]",
      "text/plain": [
       "<matplotlib.figure.Figure at 0x120928a50>"
      ]
     },
     "metadata": {},
     "output_type": "display_data"
    }
   ],
   "source": [
    "dataI = uvI.get_data(24,38)\n",
    "dataQ = uvQ.get_data(24,38)\n",
    "\n",
    "plt.figure(figsize=(6,6))\n",
    "plt.subplot(211)\n",
    "plt.title('24I: 38I')\n",
    "plt.imshow(np.log10(np.abs(dataI)),aspect='auto',vmin=-3,vmax=3,cmap='jet')\n",
    "plt.colorbar()\n",
    "plt.ylabel('Timestamps')\n",
    "\n",
    "plt.subplot(212)\n",
    "plt.title('24Q: 38Q')\n",
    "plt.imshow(np.log10(np.abs(dataQ)),aspect='auto',vmin=-3,vmax=3,cmap='jet')\n",
    "plt.colorbar()\n",
    "plt.xlabel('Frequency channels')\n",
    "plt.ylabel('Timestamps')\n",
    "\n",
    "plt.subplots_adjust(hspace=0.3)"
   ]
  },
  {
   "cell_type": "code",
   "execution_count": null,
   "metadata": {
    "collapsed": true
   },
   "outputs": [],
   "source": []
  }
 ],
 "metadata": {
  "kernelspec": {
   "display_name": "Python 2",
   "language": "python",
   "name": "python2"
  },
  "language_info": {
   "codemirror_mode": {
    "name": "ipython",
    "version": 2
   },
   "file_extension": ".py",
   "mimetype": "text/x-python",
   "name": "python",
   "nbconvert_exporter": "python",
   "pygments_lexer": "ipython2",
   "version": "2.7.13"
  }
 },
 "nbformat": 4,
 "nbformat_minor": 2
}
