{
 "cells": [
  {
   "cell_type": "markdown",
   "metadata": {},
   "source": [
    "# Updated Power Spectrum Normalization"
   ]
  },
  {
   "cell_type": "markdown",
   "metadata": {},
   "source": [
    "## Adrian Liu, 1st February 2018"
   ]
  },
  {
   "cell_type": "markdown",
   "metadata": {},
   "source": [
    "This memo is an update of HERA memo #27 (\"Power Spectrum Normalizations for HERA\", by A. Parsons).\n",
    "\n",
    "As outlined in the previous memo, the data that comes in to the power spectrum pipeline has already been converted from the Jy units to temperature units, assuming a primary beam area of\n",
    "\n",
    "$\\Omega_p(\\nu) \\equiv \\int d\\Omega A(\\hat{r}, \\nu)$\n",
    "\n",
    "Additionally, the delay transform is slightly different from that which is usually defined in theory papers. In papers, the delay transform gives the visibilities an extra unit of frequency, because it is an integral over frequency. In data analysis, the delay transform is accompanied by a division of\n",
    "\n",
    "$B_p \\equiv \\int d\\nu$\n",
    "\n",
    "so that the delay transform does not introduce any extra units.\n",
    "\n",
    "As stated in the previous memo, this means that the delay-transformed visibilities as defined in code, $\\tilde{V}^\\prime_{\\rm mK}$, are related to the delay-transformed visibilities as defined in Parsons et al. (2012; arXiv: 1304.4991), $\\tilde{V}$ by\n",
    "\n",
    "$\\tilde{V}^\\prime_{\\rm mK} \\equiv \\frac{\\lambda^2}{2 k_B \\Omega_p B_p} \\tilde{V}$.\n",
    "\n",
    "The equivalent of Equation (B8) of Parsons et al. (2012) is then\n",
    "\n",
    "$\\langle |\\tilde{V}^\\prime_{\\rm mK}|^2 \\rangle = \\hat{P} \\int \\frac{d\\Omega d\\nu }{X^2 Y} \\frac{A^2 (\\hat{r}, \\nu) W^2 (\\nu)}{\\Omega_p^2(\\nu) B_p^2}$,\n",
    "\n",
    "where one difference between this and the published equation is the inclusion of the spectral tapering function $W(\\nu)$. From this point forward, we deviate from the previous memo. There, the frequency dependence on the cosmological conversion scalars ($X$ and $Y$) and the primary beam were neglected; here, we take them into account. As shown in Liu et al. (2016; arXiv: 1609.04401), this is simply a matter of not factoring any of the frequency-dependent quantities out of the integral (i.e., there are no further complications due to the curved sky).\n",
    "\n",
    "The \"scalar\" normalization is then given by\n",
    "\n",
    "${\\rm Scalar} = \\left[\\int \\frac{d\\Omega d\\nu }{X^2 Y} \\frac{A^2 (\\hat{r}, \\nu) W^2 (\\nu)}{\\Omega_p^2(\\nu) B_p^2}\\right]^{-1}$.\n",
    "\n",
    "This is what one multiplies $ |\\tilde{V}^\\prime_{\\rm mK}|^2$ by, in order to get power spectra in correct \"cosmological units\".\n",
    "\n",
    "In terms of practical implementation, we have to perform an integral of $A^2 (\\hat{r}, \\nu)$ over frequency. Since our beam models are available only as discrete samplings in frequency, we must interpolate. One way to do this is to interpolate the beams pixel-by-pixel (or if one prefers, spherical harmonic mode by spherical harmonic mode). However, it is probably better to interpolate a single-variable function. For instance, if we write\n",
    "\n",
    "$\\frac{1}{\\rm Scalar} = \\int \\frac{ d\\nu }{X^2 Y} \\frac{ W^2 (\\nu)}{\\Omega_p^2(\\nu) B_p^2} \\int d\\Omega A^2 (\\hat{r}, \\nu)$,\n",
    "\n",
    "we see that one can perform the spatial integral first, and then interpolate in frequency for the next integral. Note that in the past, the beam models have often been stored in terms of their spherical harmonic coefficients. If that's the case, the relevant spatial integral can be done without going back to image space by taking advantage of Parseval's theorem:\n",
    "\n",
    "$\\int d\\Omega A^2 (\\hat{r}, \\nu) = \\sum_{\\ell m} |a_{\\ell m}|^2 = \\sum_{\\ell} (2\\ell +1) C_{\\ell}$.\n",
    "\n",
    "This is currently how things are implemented in code, although it may not be the most efficient depending on how we end up storing the primary beam models."
   ]
  },
  {
   "cell_type": "code",
   "execution_count": 1,
   "metadata": {},
   "outputs": [
    {
     "name": "stdout",
     "output_type": "stream",
     "text": [
      "Populating the interactive namespace from numpy and matplotlib\n"
     ]
    }
   ],
   "source": [
    "import numpy as np, pyuvdata as uv, hera_pspec as ps\n",
    "from scipy import integrate\n",
    "from scipy.interpolate import interp1d\n",
    "%pylab inline"
   ]
  },
  {
   "cell_type": "code",
   "execution_count": 3,
   "metadata": {},
   "outputs": [],
   "source": [
    "beam_file_loc = '../data/NF_HERA_Beams.beamfits'\n",
    "HERA_beam = uv.UVBeam()\n",
    "HERA_beam.read_beamfits(beam_file_loc)"
   ]
  },
  {
   "cell_type": "code",
   "execution_count": 4,
   "metadata": {},
   "outputs": [],
   "source": [
    "npols, nfreqs, npix = HERA_beam.data_array.shape[-3:]\n",
    "beam_freqs = HERA_beam.freq_array"
   ]
  },
  {
   "cell_type": "code",
   "execution_count": 7,
   "metadata": {},
   "outputs": [
    {
     "data": {
      "text/plain": [
       "'power'"
      ]
     },
     "execution_count": 7,
     "metadata": {},
     "output_type": "execute_result"
    }
   ],
   "source": [
    "HERA_beam.beam_type"
   ]
  },
  {
   "cell_type": "code",
   "execution_count": 5,
   "metadata": {},
   "outputs": [
    {
     "data": {
      "text/plain": [
       "(1, 1, 2, 101, 49152)"
      ]
     },
     "execution_count": 5,
     "metadata": {},
     "output_type": "execute_result"
    }
   ],
   "source": [
    "HERA_beam.data_array.shape"
   ]
  },
  {
   "cell_type": "code",
   "execution_count": 4,
   "metadata": {},
   "outputs": [],
   "source": [
    "HERA_power_beam_int = HERA_beam.get_beam_area()\n",
    "sq_beam_integral = HERA_beam.get_beam_sq_area()"
   ]
  },
  {
   "cell_type": "code",
   "execution_count": 5,
   "metadata": {},
   "outputs": [],
   "source": [
    "conversions = ps.conversions.Cosmo_Conversions()"
   ]
  },
  {
   "cell_type": "code",
   "execution_count": 12,
   "metadata": {},
   "outputs": [],
   "source": [
    "pspec_nfreqs = 10000\n",
    "pspec_freqs_MHz = np.linspace(120.0000000,128.,pspec_nfreqs)\n",
    "pspec_freqs_Hz = 10**6 * pspec_freqs_MHz\n",
    "redshifts = conversions.f2z(pspec_freqs_Hz).flatten()\n",
    "X2Y = np.array(map(conversions.X2Y,redshifts)) # (Mpc**3) / (Str Hz)"
   ]
  },
  {
   "cell_type": "code",
   "execution_count": 13,
   "metadata": {},
   "outputs": [],
   "source": [
    "dBpp_over_BpSq = np.ones_like(pspec_freqs_Hz) #aipy.dsp.gen_window(pspec_nfreqs,'blackman-harris')**2\n",
    "dBpp_over_BpSq /= (pspec_freqs_Hz[-1] - pspec_freqs_Hz[0])**2"
   ]
  },
  {
   "cell_type": "code",
   "execution_count": 14,
   "metadata": {},
   "outputs": [],
   "source": [
    "integrand_fit = interp1d(beam_freqs[0].T/(1.*10**6), sq_beam_integral/HERA_power_beam_int**2)"
   ]
  },
  {
   "cell_type": "code",
   "execution_count": 15,
   "metadata": {},
   "outputs": [],
   "source": [
    "dOpp_over_Op2 = integrand_fit(pspec_freqs_MHz)"
   ]
  },
  {
   "cell_type": "code",
   "execution_count": 21,
   "metadata": {},
   "outputs": [],
   "source": [
    "dOpp_over_Op2 = 8.*np.log(2.) * np.ones_like(pspec_freqs_MHz) / (4. * np.pi * 0.8**2)"
   ]
  },
  {
   "cell_type": "code",
   "execution_count": 22,
   "metadata": {},
   "outputs": [],
   "source": [
    "d_inv_scalar = dBpp_over_BpSq * dOpp_over_Op2 /  X2Y"
   ]
  },
  {
   "cell_type": "code",
   "execution_count": 23,
   "metadata": {
    "scrolled": false
   },
   "outputs": [
    {
     "name": "stdout",
     "output_type": "stream",
     "text": [
      "6392750121.05\n"
     ]
    }
   ],
   "source": [
    "scalar = 1 / integrate.trapz(d_inv_scalar, pspec_freqs_Hz)\n",
    "print scalar#* (pspec_freqs_Hz[-1] - pspec_freqs_Hz[0])"
   ]
  },
  {
   "cell_type": "code",
   "execution_count": 18,
   "metadata": {},
   "outputs": [],
   "source": [
    "np.log?"
   ]
  },
  {
   "cell_type": "code",
   "execution_count": null,
   "metadata": {},
   "outputs": [],
   "source": []
  }
 ],
 "metadata": {
  "kernelspec": {
   "display_name": "Python 2",
   "language": "python",
   "name": "python2"
  },
  "language_info": {
   "codemirror_mode": {
    "name": "ipython",
    "version": 2
   },
   "file_extension": ".py",
   "mimetype": "text/x-python",
   "name": "python",
   "nbconvert_exporter": "python",
   "pygments_lexer": "ipython2",
   "version": "2.7.14"
  }
 },
 "nbformat": 4,
 "nbformat_minor": 2
}
