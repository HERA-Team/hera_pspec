{
 "cells": [
  {
   "cell_type": "code",
   "execution_count": 1,
   "metadata": {
    "collapsed": false
   },
   "outputs": [],
   "source": [
    "import numpy as np, parameter as prm\n",
    "from pspecbase import pspecBase"
   ]
  },
  {
   "cell_type": "code",
   "execution_count": 5,
   "metadata": {
    "collapsed": false
   },
   "outputs": [],
   "source": [
    "class pspec(pspecBase):\n",
    "    \"\"\"\n",
    "    A class for storing power spectrum data\n",
    "    \"\"\"\n",
    "    \n",
    "    def __init__(self, Ndims, length_units=None, temp_units=None, freq_units=None):\n",
    "        \n",
    "        if length_units is None:\n",
    "            raise KeyError('Must specify length_units e.g. Mpc/h')\n",
    "        if temp_units is None:\n",
    "            raise KeyError('Must specify temp_units e.g. mK')\n",
    "        if freq_units is None:\n",
    "            raise KeyError('Must specify freq_units e.g. GHz')\n",
    "        \n",
    "        desc = ('Type of pspec: 1 = spherically averaged P(k); '\n",
    "                '2 = cylindrically averaged P(kperp, kpara); '\n",
    "                '3 = full 3D cube P(kx,ky,kz)')\n",
    "        self._Ndims = prm.psparam('Ndims', description=desc, expected_type=int)\n",
    "        \n",
    "        desc = ('Number of bins along each k direction')\n",
    "        self._Nks = prm.psparam('Nks', description=desc, expected_type=int, form=('Ndims',))\n",
    "        \n",
    "        desc = ('Boundaries of k bins. List (length Ndims) of arrays, '\n",
    "                'each of which is of shape (Nks[i],2), where each row '\n",
    "                'of the array gives the bottom edge and top edge of a '\n",
    "                'k bin.')\n",
    "        self._kbounds = prm.psparam('kbounds', description=desc, expected_type=np.float, form=('Ndims',),\\\n",
    "                                    units='(%s)^-1' % length_units)\n",
    "        \n",
    "        desc = ('Power spectrum data. An array that gives the power spectrum '\n",
    "                'values in each kbin. 1D, 2D, or 3D array depending on Ndims '\n",
    "                'parameter.')\n",
    "        self._pspec = prm.psparam('pspec', description=desc, expected_type=np.float, \\\n",
    "                                  units='(%s)^2 (%s)^3' % (temp_units,length_units))\n",
    "        \n",
    "        desc = ('Central redshift of power spectrum')\n",
    "        self._z0 = prm.psparam('z0', description=desc, expected_type=np.float)\n",
    "        \n",
    "        desc = ('Frequencies used in forming the power spectrum')\n",
    "        self._freqs = prm.psparam('freqs', description=desc, expected_type=np.float, \\\n",
    "                                 units='%s' % freq_units)\n",
    "        \n",
    "        desc = ('Window functions. An array where each row corresponds to '\n",
    "                'the linear combination of all the other k bins of the '\n",
    "                'true power spectrum that is probed when a power spectrum '\n",
    "                'estimate is made at a particular k bin.')\n",
    "        self._window = prm.psparam('window', description=desc, expected_type=np.float)\n",
    "        \n",
    "        super(pspec, self).__init__()\n",
    "        \n",
    "    def set_pspec():\n",
    "        \n",
    "        \n",
    "    def bin_centers(self):\n",
    "        k_centers = []\n",
    "        for i in range(self._Ndims):\n",
    "            k_centers.append(np.mean(self._kbounds[i], axis=1))\n",
    "        return k_centers\n",
    "        \n",
    "    def DeltaSq(self):\n",
    "        k_mag = np.zeros_like(self._pspec)\n",
    "        pspec = np.atleast_3d(self._pspec)\n",
    "        if self._Ndims == 1:\n",
    "            pspec = np.rollaxis(pspec,0,-1)\n",
    "        \n",
    "        raise NotImplementedError()\n",
    "        # returns Delta^2(k)\n",
    "        \n",
    "    def in_units(self):\n",
    "        raise NotImplementedError()\n",
    "        # returns a power spectrum in different units\n",
    "        \n",
    "    def rebin(self):\n",
    "        raise NotImplementedError()\n",
    "        # rebins the pspec without changing dimensionality, produces a new object\n",
    "        \n",
    "    def cylindrical(self):\n",
    "        raise NotImplementedError()\n",
    "        # returns a P(kperp, kpara) if available or does a uniform summing.\n",
    "        \n",
    "    def spherical(self):\n",
    "        raise NotImplementedError()\n",
    "        # same as cylindrical\n",
    "        \n",
    "    def reweight(self):\n",
    "        raise NotImplementedError()\n",
    "        # applying a new M matrix, returns a new object\n",
    "        \n",
    "    \n",
    "    \n",
    "    \n",
    "#    def check windows"
   ]
  },
  {
   "cell_type": "code",
   "execution_count": 6,
   "metadata": {
    "collapsed": false
   },
   "outputs": [
    {
     "name": "stdout",
     "output_type": "stream",
     "text": [
      "_Ndims\n",
      "_Nks\n",
      "_freqs\n",
      "_kbounds\n",
      "_pspec\n",
      "_window\n",
      "_z0\n"
     ]
    }
   ],
   "source": [
    "gulu = pspec(3, length_units='Mpc/h', temp_units='mK', freq_units='GHz')"
   ]
  },
  {
   "cell_type": "code",
   "execution_count": 7,
   "metadata": {
    "collapsed": false
   },
   "outputs": [
    {
     "ename": "NotImplementedError",
     "evalue": "",
     "output_type": "error",
     "traceback": [
      "\u001b[0;31m---------------------------------------------------------------------------\u001b[0m",
      "\u001b[0;31mNotImplementedError\u001b[0m                       Traceback (most recent call last)",
      "\u001b[0;32m<ipython-input-7-34c51e4b1600>\u001b[0m in \u001b[0;36m<module>\u001b[0;34m()\u001b[0m\n\u001b[0;32m----> 1\u001b[0;31m \u001b[0mgulu\u001b[0m\u001b[0;34m.\u001b[0m\u001b[0mDeltaSq\u001b[0m\u001b[0;34m(\u001b[0m\u001b[0;34m)\u001b[0m\u001b[0;34m\u001b[0m\u001b[0m\n\u001b[0m",
      "\u001b[0;32m<ipython-input-5-4e3fa1d3430b>\u001b[0m in \u001b[0;36mDeltaSq\u001b[0;34m(self)\u001b[0m\n\u001b[1;32m     47\u001b[0m \u001b[0;34m\u001b[0m\u001b[0m\n\u001b[1;32m     48\u001b[0m     \u001b[0;32mdef\u001b[0m \u001b[0mDeltaSq\u001b[0m\u001b[0;34m(\u001b[0m\u001b[0mself\u001b[0m\u001b[0;34m)\u001b[0m\u001b[0;34m:\u001b[0m\u001b[0;34m\u001b[0m\u001b[0m\n\u001b[0;32m---> 49\u001b[0;31m         \u001b[0;32mraise\u001b[0m \u001b[0mNotImplementedError\u001b[0m\u001b[0;34m(\u001b[0m\u001b[0;34m)\u001b[0m\u001b[0;34m\u001b[0m\u001b[0m\n\u001b[0m\u001b[1;32m     50\u001b[0m         \u001b[0;31m# returns Delta^2(k)\u001b[0m\u001b[0;34m\u001b[0m\u001b[0;34m\u001b[0m\u001b[0m\n\u001b[1;32m     51\u001b[0m \u001b[0;34m\u001b[0m\u001b[0m\n",
      "\u001b[0;31mNotImplementedError\u001b[0m: "
     ]
    }
   ],
   "source": [
    "gulu.DeltaSq()"
   ]
  },
  {
   "cell_type": "code",
   "execution_count": 12,
   "metadata": {
    "collapsed": false
   },
   "outputs": [
    {
     "name": "stdout",
     "output_type": "stream",
     "text": [
      "_Ndims\n",
      "_Nks\n",
      "_freqs\n",
      "_kbounds\n",
      "_pspec\n",
      "_wind\n"
     ]
    }
   ],
   "source": [
    "for hey in gulu:\n",
    "    print hey"
   ]
  },
  {
   "cell_type": "code",
   "execution_count": 16,
   "metadata": {
    "collapsed": false
   },
   "outputs": [
    {
     "data": {
      "text/plain": [
       "<parameter.psp at 0x10e24eb50>"
      ]
     },
     "execution_count": 16,
     "metadata": {},
     "output_type": "execute_result"
    }
   ],
   "source": [
    "gulu._Ndims"
   ]
  },
  {
   "cell_type": "code",
   "execution_count": 16,
   "metadata": {
    "collapsed": false
   },
   "outputs": [],
   "source": [
    "class C(object):\n",
    "    def __init__(self):\n",
    "        self._x = None\n",
    "        setattr(self.__class__, attr_name, property(self.prop_fget(p),self.prop_fset(p)))\n",
    "\n",
    "    def getx(self):\n",
    "        return self._x\n",
    "\n",
    "    def setx(self, value):\n",
    "        self._x = value\n",
    "\n",
    "    def delx(self):\n",
    "        del self._x\n",
    "        \n",
    "\n",
    "\n",
    "#     x = property(getx, setx, delx, \"I'm the 'x' property.\")\n",
    "    \n",
    "    def prop_fget(self, param_name):\n",
    "        \"\"\"Getter method for UVParameter properties.\"\"\"\n",
    "        def fget(self):\n",
    "            this_param = getattr(self, param_name)\n",
    "            return this_param.value\n",
    "        return fget\n",
    "\n",
    "    def prop_fset(self, param_name):\n",
    "        \"\"\"Setter method for UVParameter properties.\"\"\"\n",
    "        def fset(self, value):\n",
    "            this_param = getattr(self, param_name)\n",
    "            this_param.value = value\n",
    "            setattr(self, param_name, this_param)\n",
    "        return fset"
   ]
  },
  {
   "cell_type": "code",
   "execution_count": 25,
   "metadata": {
    "collapsed": false
   },
   "outputs": [
    {
     "ename": "AttributeError",
     "evalue": "'str' object has no attribute 'kbounds'",
     "output_type": "error",
     "traceback": [
      "\u001b[0;31m---------------------------------------------------------------------------\u001b[0m",
      "\u001b[0;31mAttributeError\u001b[0m                            Traceback (most recent call last)",
      "\u001b[0;32m<ipython-input-25-fb169438a572>\u001b[0m in \u001b[0;36m<module>\u001b[0;34m()\u001b[0m\n\u001b[0;32m----> 1\u001b[0;31m \u001b[0mgulu\u001b[0m\u001b[0;34m.\u001b[0m\u001b[0mprop_fget\u001b[0m\u001b[0;34m(\u001b[0m\u001b[0;34m'kbounds'\u001b[0m\u001b[0;34m)\u001b[0m\u001b[0;34m(\u001b[0m\u001b[0;34m'kbounds'\u001b[0m\u001b[0;34m)\u001b[0m\u001b[0;34m\u001b[0m\u001b[0m\n\u001b[0m",
      "\u001b[0;32m/Users/acliu/Research/pspecPipelineHERA/hera_pspec/transiting_code/file_format/pspecbase.py\u001b[0m in \u001b[0;36mfget\u001b[0;34m(self)\u001b[0m\n\u001b[1;32m     28\u001b[0m         \u001b[0;34m\"\"\"Getter method for UVParameter properties.\"\"\"\u001b[0m\u001b[0;34m\u001b[0m\u001b[0m\n\u001b[1;32m     29\u001b[0m         \u001b[0;32mdef\u001b[0m \u001b[0mfget\u001b[0m\u001b[0;34m(\u001b[0m\u001b[0mself\u001b[0m\u001b[0;34m)\u001b[0m\u001b[0;34m:\u001b[0m\u001b[0;34m\u001b[0m\u001b[0m\n\u001b[0;32m---> 30\u001b[0;31m             \u001b[0mthis_param\u001b[0m \u001b[0;34m=\u001b[0m \u001b[0mgetattr\u001b[0m\u001b[0;34m(\u001b[0m\u001b[0mself\u001b[0m\u001b[0;34m,\u001b[0m \u001b[0mparam_name\u001b[0m\u001b[0;34m)\u001b[0m\u001b[0;34m\u001b[0m\u001b[0m\n\u001b[0m\u001b[1;32m     31\u001b[0m             \u001b[0;32mreturn\u001b[0m \u001b[0mthis_param\u001b[0m\u001b[0;34m.\u001b[0m\u001b[0mvalue\u001b[0m\u001b[0;34m\u001b[0m\u001b[0m\n\u001b[1;32m     32\u001b[0m         \u001b[0;32mreturn\u001b[0m \u001b[0mfget\u001b[0m\u001b[0;34m\u001b[0m\u001b[0m\n",
      "\u001b[0;31mAttributeError\u001b[0m: 'str' object has no attribute 'kbounds'"
     ]
    }
   ],
   "source": [
    "gulu.prop_fget('kbounds')('kbounds')"
   ]
  },
  {
   "cell_type": "code",
   "execution_count": 17,
   "metadata": {
    "collapsed": true
   },
   "outputs": [],
   "source": [
    "property?"
   ]
  },
  {
   "cell_type": "code",
   "execution_count": 20,
   "metadata": {
    "collapsed": false
   },
   "outputs": [
    {
     "data": {
      "text/plain": [
       "(4, 1, 1)"
      ]
     },
     "execution_count": 20,
     "metadata": {},
     "output_type": "execute_result"
    }
   ],
   "source": [
    "np.rollaxis(np.atleast_3d(np.arange(4)),0,-1).shape"
   ]
  },
  {
   "cell_type": "code",
   "execution_count": 19,
   "metadata": {
    "collapsed": false
   },
   "outputs": [
    {
     "data": {
      "text/plain": [
       "(2, 3, 1)"
      ]
     },
     "execution_count": 19,
     "metadata": {},
     "output_type": "execute_result"
    }
   ],
   "source": [
    "np.atleast_3d(np.array([[1,2,8],[3,4,2]])).shape"
   ]
  },
  {
   "cell_type": "code",
   "execution_count": null,
   "metadata": {
    "collapsed": true
   },
   "outputs": [],
   "source": []
  }
 ],
 "metadata": {
  "kernelspec": {
   "display_name": "Python 2",
   "language": "python",
   "name": "python2"
  },
  "language_info": {
   "codemirror_mode": {
    "name": "ipython",
    "version": 2
   },
   "file_extension": ".py",
   "mimetype": "text/x-python",
   "name": "python",
   "nbconvert_exporter": "python",
   "pygments_lexer": "ipython2",
   "version": "2.7.13"
  }
 },
 "nbformat": 4,
 "nbformat_minor": 0
}
