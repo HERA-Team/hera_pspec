{
 "cells": [
  {
   "cell_type": "code",
   "execution_count": 8,
   "metadata": {
    "collapsed": false
   },
   "outputs": [],
   "source": [
    "import numpy as np, parameter as prm\n",
    "from pspecbase import pspecBase"
   ]
  },
  {
   "cell_type": "code",
   "execution_count": 9,
   "metadata": {
    "collapsed": false
   },
   "outputs": [],
   "source": [
    "class pspec(pspecBase):\n",
    "    \"\"\"\n",
    "    A class for storing power spectrum data\n",
    "    \"\"\"\n",
    "    \n",
    "    def __init__(self, Ndims):\n",
    "        desc = ('Type of pspec: 1 = spherically averaged P(k); '\n",
    "                '2 = cylindrically averaged P(kperp, kpara); '\n",
    "                '3 = full 3D cube P(kx,ky,kz)')\n",
    "        self._Ndims = prm.psp('Ndims', description=desc, expected_type=int)\n",
    "        \n",
    "        desc = ('Number of bins along each k direction')\n",
    "        self._Nks = prm.psp('Nks', description=desc, expected_type=int, form=('Ndims',))\n",
    "        \n",
    "        desc = ('Boundaries of k bins. List (length Ndims) of arrays, '\n",
    "                'each of which is of shape (Nks[i],2), where each row '\n",
    "                'of the array gives the bottom edge and top edge of a '\n",
    "                'k bin')\n",
    "        self._kbounds = prm.psp('kbounds', description=desc, expected_type=np.float, form=('Ndims',))\n",
    "        \n",
    "        desc = ('Power spectrum data. An array that gives the power spectrum '\n",
    "                'values in each kbin. 1D, 2D, or 3D array depending on Ndims '\n",
    "                'parameter.')\n",
    "        self._pspec = prm.psp('pspec', description=desc, expected_type=np.float)\n",
    "        \n",
    "        desc = ('Central redshift of power spectrum')\n",
    "        self._pspec = prm.psp('z0', description=desc, expected_type=np.float)\n",
    "        \n",
    "        desc = ('Frequencies used in forming the power spectrum')\n",
    "        self._freqs = prm.psp('freqs', description=desc, expected_type=np.float)\n",
    "        \n",
    "        desc = ('Window functions. An array where each row corresponds to '\n",
    "                'the linear combination of all the other k bins of the '\n",
    "                'true power spectrum that is probed when a power spectrum '\n",
    "                'estimate is made at a particular k bin.')\n",
    "        self._wind = prm.psp('wind', description=desc, expected_type=np.float)\n",
    "        \n",
    "        super(pspec, self).__init__()\n",
    "    \n",
    "    \n",
    "#    def check windows"
   ]
  },
  {
   "cell_type": "code",
   "execution_count": 10,
   "metadata": {
    "collapsed": false
   },
   "outputs": [
    {
     "name": "stdout",
     "output_type": "stream",
     "text": [
      "_Ndims\n",
      "_Nks\n",
      "_freqs\n",
      "_kbounds\n",
      "_pspec\n",
      "_wind\n"
     ]
    }
   ],
   "source": [
    "gulu = pspec(3)"
   ]
  },
  {
   "cell_type": "code",
   "execution_count": 12,
   "metadata": {
    "collapsed": false
   },
   "outputs": [
    {
     "name": "stdout",
     "output_type": "stream",
     "text": [
      "_Ndims\n",
      "_Nks\n",
      "_freqs\n",
      "_kbounds\n",
      "_pspec\n",
      "_wind\n"
     ]
    }
   ],
   "source": [
    "for hey in gulu:\n",
    "    print hey"
   ]
  },
  {
   "cell_type": "code",
   "execution_count": 16,
   "metadata": {
    "collapsed": false
   },
   "outputs": [
    {
     "data": {
      "text/plain": [
       "<parameter.psp at 0x10e24eb50>"
      ]
     },
     "execution_count": 16,
     "metadata": {},
     "output_type": "execute_result"
    }
   ],
   "source": [
    "gulu._Ndims"
   ]
  },
  {
   "cell_type": "code",
   "execution_count": 16,
   "metadata": {
    "collapsed": false
   },
   "outputs": [],
   "source": [
    "class C(object):\n",
    "    def __init__(self):\n",
    "        self._x = None\n",
    "        setattr(self.__class__, attr_name, property(self.prop_fget(p),self.prop_fset(p)))\n",
    "\n",
    "    def getx(self):\n",
    "        return self._x\n",
    "\n",
    "    def setx(self, value):\n",
    "        self._x = value\n",
    "\n",
    "    def delx(self):\n",
    "        del self._x\n",
    "        \n",
    "\n",
    "\n",
    "#     x = property(getx, setx, delx, \"I'm the 'x' property.\")\n",
    "    \n",
    "    def prop_fget(self, param_name):\n",
    "        \"\"\"Getter method for UVParameter properties.\"\"\"\n",
    "        def fget(self):\n",
    "            this_param = getattr(self, param_name)\n",
    "            return this_param.value\n",
    "        return fget\n",
    "\n",
    "    def prop_fset(self, param_name):\n",
    "        \"\"\"Setter method for UVParameter properties.\"\"\"\n",
    "        def fset(self, value):\n",
    "            this_param = getattr(self, param_name)\n",
    "            this_param.value = value\n",
    "            setattr(self, param_name, this_param)\n",
    "        return fset"
   ]
  },
  {
   "cell_type": "code",
   "execution_count": 10,
   "metadata": {
    "collapsed": false
   },
   "outputs": [
    {
     "data": {
      "text/plain": [
       "__main__.C"
      ]
     },
     "execution_count": 10,
     "metadata": {},
     "output_type": "execute_result"
    }
   ],
   "source": [
    "gulu.__class__"
   ]
  },
  {
   "cell_type": "code",
   "execution_count": 17,
   "metadata": {
    "collapsed": true
   },
   "outputs": [],
   "source": [
    "property?"
   ]
  },
  {
   "cell_type": "code",
   "execution_count": null,
   "metadata": {
    "collapsed": true
   },
   "outputs": [],
   "source": []
  }
 ],
 "metadata": {
  "kernelspec": {
   "display_name": "Python 2",
   "language": "python",
   "name": "python2"
  },
  "language_info": {
   "codemirror_mode": {
    "name": "ipython",
    "version": 2
   },
   "file_extension": ".py",
   "mimetype": "text/x-python",
   "name": "python",
   "nbconvert_exporter": "python",
   "pygments_lexer": "ipython2",
   "version": "2.7.13"
  }
 },
 "nbformat": 4,
 "nbformat_minor": 0
}
